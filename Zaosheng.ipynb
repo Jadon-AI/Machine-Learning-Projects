{
 "cells": [
  {
   "cell_type": "code",
   "execution_count": 2,
   "id": "8b3e4369-ce68-47f3-87aa-6ab1900d423d",
   "metadata": {},
   "outputs": [
    {
     "data": {
      "text/html": [
       "<pre style=\"word-wrap: normal;white-space: pre;background: #fff0;line-height: 1.1;font-family: &quot;Courier New&quot;,Courier,monospace\">     ┌───┐     ┌─┐   \n",
       "q_0: ┤ X ├──■──┤M├───\n",
       "     └───┘┌─┴─┐└╥┘┌─┐\n",
       "q_1: ─────┤ X ├─╫─┤M├\n",
       "          └───┘ ║ └╥┘\n",
       "c: 2/═══════════╩══╩═\n",
       "                0  1 </pre>"
      ],
      "text/plain": [
       "     ┌───┐     ┌─┐   \n",
       "q_0: ┤ X ├──■──┤M├───\n",
       "     └───┘┌─┴─┐└╥┘┌─┐\n",
       "q_1: ─────┤ X ├─╫─┤M├\n",
       "          └───┘ ║ └╥┘\n",
       "c: 2/═══════════╩══╩═\n",
       "                0  1 "
      ]
     },
     "execution_count": 2,
     "metadata": {},
     "output_type": "execute_result"
    }
   ],
   "source": [
    "import qiskit as q\n",
    "%matplotlib inline\n",
    "\n",
    "circuit = q.QuantumCircuit(2, 2)\n",
    "circuit.x(0)\n",
    "circuit.cx(0,1)\n",
    "circuit.measure([0,1], [0,1])\n",
    "circuit.draw()"
   ]
  },
  {
   "cell_type": "code",
   "execution_count": 4,
   "id": "44e0994c-b33d-4984-9c68-af02d5099c74",
   "metadata": {},
   "outputs": [],
   "source": [
    "from qiskit_ibm_runtime import QiskitRuntimeService\n",
    "\n",
    "tk = \"9fa99827d4bbc7985a4104acee64b21015204b44974bbfccba3fc13f50151ab7dd4656f430e2fad89ccc5b555068eabcc00c8fba876ad86b5aed5436c8cda69a\""
   ]
  },
  {
   "cell_type": "code",
   "execution_count": 6,
   "id": "4482657c-c5b6-4cf8-a8fc-9d8eb4d74814",
   "metadata": {},
   "outputs": [],
   "source": [
    "service = QiskitRuntimeService(channel=\"ibm_quantum\", token=tk)"
   ]
  },
  {
   "cell_type": "code",
   "execution_count": 8,
   "id": "270548f4-1343-48c5-8721-ede83322c7f2",
   "metadata": {},
   "outputs": [],
   "source": [
    "from qiskit_ibm_runtime import QiskitRuntimeService\n",
    "\n",
    "QiskitRuntimeService.save_account(channel=\"ibm_quantum\", token=tk, set_as_default=True, overwrite=True)\n",
    " \n",
    "service = QiskitRuntimeService()"
   ]
  },
  {
   "cell_type": "code",
   "execution_count": 137,
   "id": "7ca8d588-33b3-4b66-9305-671def598981",
   "metadata": {},
   "outputs": [
    {
     "data": {
      "text/plain": [
       "[<IBMBackend('ibm_brisbane')>,\n",
       " <IBMBackend('ibm_kyiv')>,\n",
       " <IBMBackend('ibm_sherbrooke')>]"
      ]
     },
     "execution_count": 137,
     "metadata": {},
     "output_type": "execute_result"
    }
   ],
   "source": [
    "service.backends()"
   ]
  },
  {
   "cell_type": "code",
   "execution_count": 123,
   "id": "6d1ca404-740b-490e-9bb5-b85b52ed1447",
   "metadata": {},
   "outputs": [],
   "source": [
    "import warnings\n",
    "\n",
    "warnings.filterwarnings(\"ignore\", category=DeprecationWarning)"
   ]
  },
  {
   "cell_type": "code",
   "execution_count": 139,
   "id": "3e845708-ad77-40fa-87f7-32aa8accbf60",
   "metadata": {},
   "outputs": [
    {
     "ename": "IBMBackendApiError",
     "evalue": "'Error submitting job: \\'403 Client Error: Forbidden for url: https://api.quantum.ibm.com/runtime/jobs. {\"errors\":[{\"message\":\"Job create exceeds open plan job usage limits\",\"code\":4317,\"solution\":\"Please wait until the beginning of next month to submit more jobs when your quota will reset.\",\"more_info\":\"https://docs.quantum-computing.ibm.com/errors\"}]}\\''",
     "output_type": "error",
     "traceback": [
      "\u001b[0;31m---------------------------------------------------------------------------\u001b[0m",
      "\u001b[0;31mHTTPError\u001b[0m                                 Traceback (most recent call last)",
      "File \u001b[0;32m/opt/anaconda3/lib/python3.12/site-packages/qiskit_ibm_runtime/api/session.py:329\u001b[0m, in \u001b[0;36mRetrySession.request\u001b[0;34m(self, method, url, bare, **kwargs)\u001b[0m\n\u001b[1;32m    328\u001b[0m     response \u001b[38;5;241m=\u001b[39m \u001b[38;5;28msuper\u001b[39m()\u001b[38;5;241m.\u001b[39mrequest(method, final_url, headers\u001b[38;5;241m=\u001b[39mheaders, \u001b[38;5;241m*\u001b[39m\u001b[38;5;241m*\u001b[39mkwargs)\n\u001b[0;32m--> 329\u001b[0m     response\u001b[38;5;241m.\u001b[39mraise_for_status()\n\u001b[1;32m    330\u001b[0m \u001b[38;5;28;01mexcept\u001b[39;00m RequestException \u001b[38;5;28;01mas\u001b[39;00m ex:\n\u001b[1;32m    331\u001b[0m     \u001b[38;5;66;03m# Wrap the requests exceptions into a IBM Q custom one, for\u001b[39;00m\n\u001b[1;32m    332\u001b[0m     \u001b[38;5;66;03m# compatibility.\u001b[39;00m\n",
      "File \u001b[0;32m/opt/anaconda3/lib/python3.12/site-packages/requests/models.py:1024\u001b[0m, in \u001b[0;36mResponse.raise_for_status\u001b[0;34m(self)\u001b[0m\n\u001b[1;32m   1023\u001b[0m \u001b[38;5;28;01mif\u001b[39;00m http_error_msg:\n\u001b[0;32m-> 1024\u001b[0m     \u001b[38;5;28;01mraise\u001b[39;00m HTTPError(http_error_msg, response\u001b[38;5;241m=\u001b[39m\u001b[38;5;28mself\u001b[39m)\n",
      "\u001b[0;31mHTTPError\u001b[0m: 403 Client Error: Forbidden for url: https://api.quantum.ibm.com/runtime/jobs",
      "\nThe above exception was the direct cause of the following exception:\n",
      "\u001b[0;31mRequestsApiError\u001b[0m                          Traceback (most recent call last)",
      "File \u001b[0;32m/opt/anaconda3/lib/python3.12/site-packages/qiskit_ibm_runtime/ibm_backend.py:793\u001b[0m, in \u001b[0;36mIBMBackend._runtime_run\u001b[0;34m(self, program_id, inputs, backend_name, job_tags, image)\u001b[0m\n\u001b[1;32m    792\u001b[0m \u001b[38;5;28;01mtry\u001b[39;00m:\n\u001b[0;32m--> 793\u001b[0m     response \u001b[38;5;241m=\u001b[39m \u001b[38;5;28mself\u001b[39m\u001b[38;5;241m.\u001b[39m_api_client\u001b[38;5;241m.\u001b[39mprogram_run(\n\u001b[1;32m    794\u001b[0m         program_id\u001b[38;5;241m=\u001b[39mprogram_id,\n\u001b[1;32m    795\u001b[0m         backend_name\u001b[38;5;241m=\u001b[39mbackend_name,\n\u001b[1;32m    796\u001b[0m         params\u001b[38;5;241m=\u001b[39minputs,\n\u001b[1;32m    797\u001b[0m         hgp\u001b[38;5;241m=\u001b[39mhgp_name,\n\u001b[1;32m    798\u001b[0m         log_level\u001b[38;5;241m=\u001b[39mlog_level,\n\u001b[1;32m    799\u001b[0m         job_tags\u001b[38;5;241m=\u001b[39mjob_tags,\n\u001b[1;32m    800\u001b[0m         session_id\u001b[38;5;241m=\u001b[39msession_id,\n\u001b[1;32m    801\u001b[0m         start_session\u001b[38;5;241m=\u001b[39m\u001b[38;5;28;01mFalse\u001b[39;00m,\n\u001b[1;32m    802\u001b[0m         image\u001b[38;5;241m=\u001b[39mimage,\n\u001b[1;32m    803\u001b[0m     )\n\u001b[1;32m    804\u001b[0m \u001b[38;5;28;01mexcept\u001b[39;00m RequestsApiError \u001b[38;5;28;01mas\u001b[39;00m ex:\n",
      "File \u001b[0;32m/opt/anaconda3/lib/python3.12/site-packages/qiskit_ibm_runtime/api/clients/runtime.py:88\u001b[0m, in \u001b[0;36mRuntimeClient.program_run\u001b[0;34m(self, program_id, backend_name, params, image, hgp, log_level, session_id, job_tags, max_execution_time, start_session, session_time, private)\u001b[0m\n\u001b[1;32m     87\u001b[0m     hgp_dict \u001b[38;5;241m=\u001b[39m {\u001b[38;5;124m\"\u001b[39m\u001b[38;5;124mhub\u001b[39m\u001b[38;5;124m\"\u001b[39m: hub, \u001b[38;5;124m\"\u001b[39m\u001b[38;5;124mgroup\u001b[39m\u001b[38;5;124m\"\u001b[39m: group, \u001b[38;5;124m\"\u001b[39m\u001b[38;5;124mproject\u001b[39m\u001b[38;5;124m\"\u001b[39m: project}\n\u001b[0;32m---> 88\u001b[0m \u001b[38;5;28;01mreturn\u001b[39;00m \u001b[38;5;28mself\u001b[39m\u001b[38;5;241m.\u001b[39m_api\u001b[38;5;241m.\u001b[39mprogram_run(\n\u001b[1;32m     89\u001b[0m     program_id\u001b[38;5;241m=\u001b[39mprogram_id,\n\u001b[1;32m     90\u001b[0m     backend_name\u001b[38;5;241m=\u001b[39mbackend_name,\n\u001b[1;32m     91\u001b[0m     params\u001b[38;5;241m=\u001b[39mparams,\n\u001b[1;32m     92\u001b[0m     image\u001b[38;5;241m=\u001b[39mimage,\n\u001b[1;32m     93\u001b[0m     log_level\u001b[38;5;241m=\u001b[39mlog_level,\n\u001b[1;32m     94\u001b[0m     session_id\u001b[38;5;241m=\u001b[39msession_id,\n\u001b[1;32m     95\u001b[0m     job_tags\u001b[38;5;241m=\u001b[39mjob_tags,\n\u001b[1;32m     96\u001b[0m     max_execution_time\u001b[38;5;241m=\u001b[39mmax_execution_time,\n\u001b[1;32m     97\u001b[0m     start_session\u001b[38;5;241m=\u001b[39mstart_session,\n\u001b[1;32m     98\u001b[0m     session_time\u001b[38;5;241m=\u001b[39msession_time,\n\u001b[1;32m     99\u001b[0m     private\u001b[38;5;241m=\u001b[39mprivate,\n\u001b[1;32m    100\u001b[0m     \u001b[38;5;241m*\u001b[39m\u001b[38;5;241m*\u001b[39mhgp_dict,\n\u001b[1;32m    101\u001b[0m )\n",
      "File \u001b[0;32m/opt/anaconda3/lib/python3.12/site-packages/qiskit_ibm_runtime/api/rest/runtime.py:129\u001b[0m, in \u001b[0;36mRuntime.program_run\u001b[0;34m(self, program_id, backend_name, params, image, hub, group, project, log_level, session_id, job_tags, max_execution_time, start_session, session_time, private)\u001b[0m\n\u001b[1;32m    128\u001b[0m data \u001b[38;5;241m=\u001b[39m json\u001b[38;5;241m.\u001b[39mdumps(payload, \u001b[38;5;28mcls\u001b[39m\u001b[38;5;241m=\u001b[39mRuntimeEncoder)\n\u001b[0;32m--> 129\u001b[0m \u001b[38;5;28;01mreturn\u001b[39;00m \u001b[38;5;28mself\u001b[39m\u001b[38;5;241m.\u001b[39msession\u001b[38;5;241m.\u001b[39mpost(url, data\u001b[38;5;241m=\u001b[39mdata, timeout\u001b[38;5;241m=\u001b[39m\u001b[38;5;241m900\u001b[39m)\u001b[38;5;241m.\u001b[39mjson()\n",
      "File \u001b[0;32m/opt/anaconda3/lib/python3.12/site-packages/requests/sessions.py:637\u001b[0m, in \u001b[0;36mSession.post\u001b[0;34m(self, url, data, json, **kwargs)\u001b[0m\n\u001b[1;32m    627\u001b[0m \u001b[38;5;250m\u001b[39m\u001b[38;5;124mr\u001b[39m\u001b[38;5;124;03m\"\"\"Sends a POST request. Returns :class:`Response` object.\u001b[39;00m\n\u001b[1;32m    628\u001b[0m \n\u001b[1;32m    629\u001b[0m \u001b[38;5;124;03m:param url: URL for the new :class:`Request` object.\u001b[39;00m\n\u001b[0;32m   (...)\u001b[0m\n\u001b[1;32m    634\u001b[0m \u001b[38;5;124;03m:rtype: requests.Response\u001b[39;00m\n\u001b[1;32m    635\u001b[0m \u001b[38;5;124;03m\"\"\"\u001b[39;00m\n\u001b[0;32m--> 637\u001b[0m \u001b[38;5;28;01mreturn\u001b[39;00m \u001b[38;5;28mself\u001b[39m\u001b[38;5;241m.\u001b[39mrequest(\u001b[38;5;124m\"\u001b[39m\u001b[38;5;124mPOST\u001b[39m\u001b[38;5;124m\"\u001b[39m, url, data\u001b[38;5;241m=\u001b[39mdata, json\u001b[38;5;241m=\u001b[39mjson, \u001b[38;5;241m*\u001b[39m\u001b[38;5;241m*\u001b[39mkwargs)\n",
      "File \u001b[0;32m/opt/anaconda3/lib/python3.12/site-packages/qiskit_ibm_runtime/api/session.py:351\u001b[0m, in \u001b[0;36mRetrySession.request\u001b[0;34m(self, method, url, bare, **kwargs)\u001b[0m\n\u001b[1;32m    350\u001b[0m         \u001b[38;5;28;01mraise\u001b[39;00m IBMNotAuthorizedError(message) \u001b[38;5;28;01mfrom\u001b[39;00m \u001b[38;5;21;01mex\u001b[39;00m\n\u001b[0;32m--> 351\u001b[0m     \u001b[38;5;28;01mraise\u001b[39;00m RequestsApiError(message, status_code) \u001b[38;5;28;01mfrom\u001b[39;00m \u001b[38;5;21;01mex\u001b[39;00m\n\u001b[1;32m    353\u001b[0m \u001b[38;5;28;01mreturn\u001b[39;00m response\n",
      "\u001b[0;31mRequestsApiError\u001b[0m: '403 Client Error: Forbidden for url: https://api.quantum.ibm.com/runtime/jobs. {\"errors\":[{\"message\":\"Job create exceeds open plan job usage limits\",\"code\":4317,\"solution\":\"Please wait until the beginning of next month to submit more jobs when your quota will reset.\",\"more_info\":\"https://docs.quantum-computing.ibm.com/errors\"}]}'",
      "\nThe above exception was the direct cause of the following exception:\n",
      "\u001b[0;31mIBMBackendApiError\u001b[0m                        Traceback (most recent call last)",
      "Cell \u001b[0;32mIn[139], line 21\u001b[0m\n\u001b[1;32m     18\u001b[0m backend \u001b[38;5;241m=\u001b[39m service\u001b[38;5;241m.\u001b[39mleast_busy(operational\u001b[38;5;241m=\u001b[39m\u001b[38;5;28;01mTrue\u001b[39;00m, simulator\u001b[38;5;241m=\u001b[39m\u001b[38;5;28;01mFalse\u001b[39;00m)\n\u001b[1;32m     20\u001b[0m sampler \u001b[38;5;241m=\u001b[39m Sampler(backend)\n\u001b[0;32m---> 21\u001b[0m job \u001b[38;5;241m=\u001b[39m backend\u001b[38;5;241m.\u001b[39mrun(example_circuit, shots\u001b[38;5;241m=\u001b[39mr2)\n\u001b[1;32m     22\u001b[0m result \u001b[38;5;241m=\u001b[39m job\u001b[38;5;241m.\u001b[39mresult()\n\u001b[1;32m     23\u001b[0m x \u001b[38;5;241m+\u001b[39m\u001b[38;5;241m=\u001b[39m \u001b[38;5;241m1\u001b[39m\n",
      "File \u001b[0;32m/opt/anaconda3/lib/python3.12/site-packages/qiskit_ibm_runtime/ibm_backend.py:759\u001b[0m, in \u001b[0;36mIBMBackend.run\u001b[0;34m(self, circuits, dynamic, job_tags, init_circuit, init_num_resets, header, shots, memory, meas_level, meas_return, rep_delay, init_qubits, use_measure_esp, noise_model, seed_simulator, **run_config)\u001b[0m\n\u001b[1;32m    740\u001b[0m run_config_dict \u001b[38;5;241m=\u001b[39m \u001b[38;5;28mself\u001b[39m\u001b[38;5;241m.\u001b[39m_get_run_config(\n\u001b[1;32m    741\u001b[0m     program_id\u001b[38;5;241m=\u001b[39mprogram_id,\n\u001b[1;32m    742\u001b[0m     init_circuit\u001b[38;5;241m=\u001b[39minit_circuit,\n\u001b[0;32m   (...)\u001b[0m\n\u001b[1;32m    754\u001b[0m     \u001b[38;5;241m*\u001b[39m\u001b[38;5;241m*\u001b[39mrun_config,\n\u001b[1;32m    755\u001b[0m )\n\u001b[1;32m    757\u001b[0m run_config_dict[\u001b[38;5;124m\"\u001b[39m\u001b[38;5;124mcircuits\u001b[39m\u001b[38;5;124m\"\u001b[39m] \u001b[38;5;241m=\u001b[39m circuits\n\u001b[0;32m--> 759\u001b[0m \u001b[38;5;28;01mreturn\u001b[39;00m \u001b[38;5;28mself\u001b[39m\u001b[38;5;241m.\u001b[39m_runtime_run(\n\u001b[1;32m    760\u001b[0m     program_id\u001b[38;5;241m=\u001b[39mprogram_id,\n\u001b[1;32m    761\u001b[0m     inputs\u001b[38;5;241m=\u001b[39mrun_config_dict,\n\u001b[1;32m    762\u001b[0m     backend_name\u001b[38;5;241m=\u001b[39m\u001b[38;5;28mself\u001b[39m\u001b[38;5;241m.\u001b[39mname,\n\u001b[1;32m    763\u001b[0m     job_tags\u001b[38;5;241m=\u001b[39mjob_tags,\n\u001b[1;32m    764\u001b[0m     image\u001b[38;5;241m=\u001b[39mimage,\n\u001b[1;32m    765\u001b[0m )\n",
      "File \u001b[0;32m/opt/anaconda3/lib/python3.12/site-packages/qiskit_ibm_runtime/ibm_backend.py:805\u001b[0m, in \u001b[0;36mIBMBackend._runtime_run\u001b[0;34m(self, program_id, inputs, backend_name, job_tags, image)\u001b[0m\n\u001b[1;32m    793\u001b[0m     response \u001b[38;5;241m=\u001b[39m \u001b[38;5;28mself\u001b[39m\u001b[38;5;241m.\u001b[39m_api_client\u001b[38;5;241m.\u001b[39mprogram_run(\n\u001b[1;32m    794\u001b[0m         program_id\u001b[38;5;241m=\u001b[39mprogram_id,\n\u001b[1;32m    795\u001b[0m         backend_name\u001b[38;5;241m=\u001b[39mbackend_name,\n\u001b[0;32m   (...)\u001b[0m\n\u001b[1;32m    802\u001b[0m         image\u001b[38;5;241m=\u001b[39mimage,\n\u001b[1;32m    803\u001b[0m     )\n\u001b[1;32m    804\u001b[0m \u001b[38;5;28;01mexcept\u001b[39;00m RequestsApiError \u001b[38;5;28;01mas\u001b[39;00m ex:\n\u001b[0;32m--> 805\u001b[0m     \u001b[38;5;28;01mraise\u001b[39;00m IBMBackendApiError(\u001b[38;5;124m\"\u001b[39m\u001b[38;5;124mError submitting job: \u001b[39m\u001b[38;5;132;01m{}\u001b[39;00m\u001b[38;5;124m\"\u001b[39m\u001b[38;5;241m.\u001b[39mformat(\u001b[38;5;28mstr\u001b[39m(ex))) \u001b[38;5;28;01mfrom\u001b[39;00m \u001b[38;5;21;01mex\u001b[39;00m\n\u001b[1;32m    806\u001b[0m \u001b[38;5;28;01mtry\u001b[39;00m:\n\u001b[1;32m    807\u001b[0m     job \u001b[38;5;241m=\u001b[39m RuntimeJob(\n\u001b[1;32m    808\u001b[0m         backend\u001b[38;5;241m=\u001b[39m\u001b[38;5;28mself\u001b[39m,\n\u001b[1;32m    809\u001b[0m         api_client\u001b[38;5;241m=\u001b[39m\u001b[38;5;28mself\u001b[39m\u001b[38;5;241m.\u001b[39m_api_client,\n\u001b[0;32m   (...)\u001b[0m\n\u001b[1;32m    815\u001b[0m         tags\u001b[38;5;241m=\u001b[39mjob_tags,\n\u001b[1;32m    816\u001b[0m     )\n",
      "\u001b[0;31mIBMBackendApiError\u001b[0m: 'Error submitting job: \\'403 Client Error: Forbidden for url: https://api.quantum.ibm.com/runtime/jobs. {\"errors\":[{\"message\":\"Job create exceeds open plan job usage limits\",\"code\":4317,\"solution\":\"Please wait until the beginning of next month to submit more jobs when your quota will reset.\",\"more_info\":\"https://docs.quantum-computing.ibm.com/errors\"}]}\\''"
     ]
    }
   ],
   "source": [
    "from qiskit import QuantumCircuit\n",
    "from qiskit_ibm_runtime import QiskitRuntimeService, SamplerV2 as Sampler\n",
    "import numpy as np\n",
    "from qiskit.circuit import ParameterVector\n",
    "from qiskit.quantum_info import SparsePauliOp\n",
    "import random\n",
    "\n",
    "shots_list = [1, 50, 500, 1024, 4000, 10000]\n",
    "x = 0\n",
    "while x != 200:\n",
    "    r1 = random.randint(1, 65)\n",
    "    r2 = random.choice(shots_list)\n",
    "    \n",
    "    circuit = QuantumCircuit(r1)\n",
    "    circuit.measure_all()\n",
    "     \n",
    "    service = QiskitRuntimeService()\n",
    "    backend = service.least_busy(operational=True, simulator=False)\n",
    "    \n",
    "    sampler = Sampler(backend)\n",
    "    job = backend.run(circuit, shots=r2)\n",
    "    result = job.result()\n",
    "    x += 1"
   ]
  },
  {
   "cell_type": "code",
   "execution_count": 98,
   "id": "88ca07e9-8742-4567-a3bc-df55a398bbea",
   "metadata": {},
   "outputs": [
    {
     "name": "stdout",
     "output_type": "stream",
     "text": [
      "Hi\n",
      "500\n",
      "Hi\n",
      "1024\n",
      "Hi\n",
      "4000\n",
      "Hi\n",
      "1024\n",
      "Hi\n",
      "1024\n"
     ]
    }
   ],
   "source": [
    "import random\n",
    "\n",
    "my_list = [1, 50, 500, 1024, 4000]\n",
    "x = 0\n",
    "while x != 5:\n",
    "    print(\"Hi\")\n",
    "    r = random.randint(1, 5)\n",
    "    r2 = random.choice(my_list)\n",
    "    print(r2)\n",
    "    x+=1"
   ]
  },
  {
   "cell_type": "code",
   "execution_count": 714,
   "id": "6d18c14d-ead7-4bc3-ad8d-030dbffcb57e",
   "metadata": {},
   "outputs": [
    {
     "data": {
      "text/html": [
       "<pre style=\"word-wrap: normal;white-space: pre;background: #fff0;line-height: 1.1;font-family: &quot;Courier New&quot;,Courier,monospace\">                   ░ ┌─┐      \n",
       "   q_0: ───────────░─┤M├──────\n",
       "        ┌───┐      ░ └╥┘┌─┐   \n",
       "   q_1: ┤ H ├──■───░──╫─┤M├───\n",
       "        └───┘┌─┴─┐ ░  ║ └╥┘┌─┐\n",
       "   q_2: ─────┤ X ├─░──╫──╫─┤M├\n",
       "             └───┘ ░  ║  ║ └╥┘\n",
       "meas: 3/══════════════╩══╩══╩═\n",
       "                      0  1  2 </pre>"
      ],
      "text/plain": [
       "                   ░ ┌─┐      \n",
       "   q_0: ───────────░─┤M├──────\n",
       "        ┌───┐      ░ └╥┘┌─┐   \n",
       "   q_1: ┤ H ├──■───░──╫─┤M├───\n",
       "        └───┘┌─┴─┐ ░  ║ └╥┘┌─┐\n",
       "   q_2: ─────┤ X ├─░──╫──╫─┤M├\n",
       "             └───┘ ░  ║  ║ └╥┘\n",
       "meas: 3/══════════════╩══╩══╩═\n",
       "                      0  1  2 "
      ]
     },
     "execution_count": 714,
     "metadata": {},
     "output_type": "execute_result"
    }
   ],
   "source": [
    "from qiskit import QuantumCircuit\n",
    "\n",
    "# Create a quantum circuit for teleportation\n",
    "qc = QuantumCircuit(3)\n",
    "qc.h(1)  # Create entanglement\n",
    "qc.cx(1, 2)  # Entangle qubits 1 and 2\n",
    "\n",
    "qc.measure_all()\n",
    "qc.draw()"
   ]
  },
  {
   "cell_type": "code",
   "execution_count": null,
   "id": "cb7f0e4c-5eec-48a3-8095-7b99c76785a0",
   "metadata": {},
   "outputs": [],
   "source": []
  },
  {
   "cell_type": "code",
   "execution_count": null,
   "id": "dd281b55-58df-43f2-b7a1-a91a043904b3",
   "metadata": {},
   "outputs": [],
   "source": []
  },
  {
   "cell_type": "code",
   "execution_count": null,
   "id": "6c8c8eac-c908-4f8c-9d11-e84a50421e2e",
   "metadata": {},
   "outputs": [],
   "source": []
  },
  {
   "cell_type": "code",
   "execution_count": 29,
   "id": "51c73872-070a-46dd-bd1a-b2684a00632a",
   "metadata": {},
   "outputs": [
    {
     "data": {
      "text/html": [
       "<div>\n",
       "<style scoped>\n",
       "    .dataframe tbody tr th:only-of-type {\n",
       "        vertical-align: middle;\n",
       "    }\n",
       "\n",
       "    .dataframe tbody tr th {\n",
       "        vertical-align: top;\n",
       "    }\n",
       "\n",
       "    .dataframe thead th {\n",
       "        text-align: right;\n",
       "    }\n",
       "</style>\n",
       "<table border=\"1\" class=\"dataframe\">\n",
       "  <thead>\n",
       "    <tr style=\"text-align: right;\">\n",
       "      <th></th>\n",
       "      <th>Shots</th>\n",
       "      <th>Qubits</th>\n",
       "      <th>Frequency Up or Down</th>\n",
       "      <th>Noise &gt; F.U.o.D.</th>\n",
       "    </tr>\n",
       "  </thead>\n",
       "  <tbody>\n",
       "    <tr>\n",
       "      <th>0</th>\n",
       "      <td>1024</td>\n",
       "      <td>47</td>\n",
       "      <td>601</td>\n",
       "      <td>False</td>\n",
       "    </tr>\n",
       "    <tr>\n",
       "      <th>1</th>\n",
       "      <td>50</td>\n",
       "      <td>26</td>\n",
       "      <td>42</td>\n",
       "      <td>False</td>\n",
       "    </tr>\n",
       "    <tr>\n",
       "      <th>2</th>\n",
       "      <td>1</td>\n",
       "      <td>1</td>\n",
       "      <td>1</td>\n",
       "      <td>False</td>\n",
       "    </tr>\n",
       "    <tr>\n",
       "      <th>3</th>\n",
       "      <td>50</td>\n",
       "      <td>7</td>\n",
       "      <td>47</td>\n",
       "      <td>False</td>\n",
       "    </tr>\n",
       "    <tr>\n",
       "      <th>4</th>\n",
       "      <td>10000</td>\n",
       "      <td>48</td>\n",
       "      <td>1588</td>\n",
       "      <td>True</td>\n",
       "    </tr>\n",
       "    <tr>\n",
       "      <th>...</th>\n",
       "      <td>...</td>\n",
       "      <td>...</td>\n",
       "      <td>...</td>\n",
       "      <td>...</td>\n",
       "    </tr>\n",
       "    <tr>\n",
       "      <th>187</th>\n",
       "      <td>4000</td>\n",
       "      <td>5</td>\n",
       "      <td>3779</td>\n",
       "      <td>False</td>\n",
       "    </tr>\n",
       "    <tr>\n",
       "      <th>188</th>\n",
       "      <td>4000</td>\n",
       "      <td>3</td>\n",
       "      <td>3977</td>\n",
       "      <td>False</td>\n",
       "    </tr>\n",
       "    <tr>\n",
       "      <th>189</th>\n",
       "      <td>10000</td>\n",
       "      <td>2</td>\n",
       "      <td>9961</td>\n",
       "      <td>False</td>\n",
       "    </tr>\n",
       "    <tr>\n",
       "      <th>190</th>\n",
       "      <td>1</td>\n",
       "      <td>2</td>\n",
       "      <td>1</td>\n",
       "      <td>False</td>\n",
       "    </tr>\n",
       "    <tr>\n",
       "      <th>191</th>\n",
       "      <td>500</td>\n",
       "      <td>2</td>\n",
       "      <td>463</td>\n",
       "      <td>False</td>\n",
       "    </tr>\n",
       "  </tbody>\n",
       "</table>\n",
       "<p>192 rows × 4 columns</p>\n",
       "</div>"
      ],
      "text/plain": [
       "     Shots  Qubits  Frequency Up or Down  Noise > F.U.o.D.\n",
       "0     1024      47                   601             False\n",
       "1       50      26                    42             False\n",
       "2        1       1                     1             False\n",
       "3       50       7                    47             False\n",
       "4    10000      48                  1588              True\n",
       "..     ...     ...                   ...               ...\n",
       "187   4000       5                  3779             False\n",
       "188   4000       3                  3977             False\n",
       "189  10000       2                  9961             False\n",
       "190      1       2                     1             False\n",
       "191    500       2                   463             False\n",
       "\n",
       "[192 rows x 4 columns]"
      ]
     },
     "execution_count": 29,
     "metadata": {},
     "output_type": "execute_result"
    }
   ],
   "source": [
    "import pandas as pd\n",
    "\n",
    "data = pd.read_csv(\"Zaosheng.csv\")\n",
    "data = data.drop(\"Noise\", axis=1)\n",
    "data"
   ]
  },
  {
   "cell_type": "code",
   "execution_count": 175,
   "id": "b8a3f0aa-18a4-4152-bfe9-f96ef13b8e26",
   "metadata": {},
   "outputs": [
    {
     "name": "stdout",
     "output_type": "stream",
     "text": [
      "[False  True  True False False] \n",
      "Accuracy: 0.8793103448275862\n"
     ]
    },
    {
     "name": "stderr",
     "output_type": "stream",
     "text": [
      "/opt/anaconda3/lib/python3.12/site-packages/sklearn/base.py:486: UserWarning: X has feature names, but DecisionTreeClassifier was fitted without feature names\n",
      "  warnings.warn(\n"
     ]
    }
   ],
   "source": [
    "from sklearn.tree import DecisionTreeClassifier\n",
    "from sklearn.model_selection import train_test_split\n",
    "from sklearn.metrics import accuracy_score\n",
    "\n",
    "X = data.drop(columns=[\"Noise > F.U.o.D.\"])\n",
    "y = data[\"Noise > F.U.o.D.\"]\n",
    "X_train, X_test, y_train, y_test = train_test_split(X, y, test_size = 0.3, random_state = 30)\n",
    "\n",
    "\n",
    "model = DecisionTreeClassifier(max_depth = 19, min_samples_leaf = 4, min_samples_split = 11)\n",
    "model.fit(X_train.values, y_train)\n",
    "\n",
    "### [[shots, qubits, up or down]] ###\n",
    "\n",
    "predictions = model.predict([[1024, 1, 16], [10000, 100, 500], [100, 100, 16], [1024, 1, 40], [1, 1, 1]])\n",
    "predictions1 = model.predict(X_test)\n",
    "score = accuracy_score(y_test, predictions1)\n",
    "print(predictions, f\"\\nAccuracy: {score}\")"
   ]
  },
  {
   "cell_type": "code",
   "execution_count": 33,
   "id": "33f4a09c-2551-4cae-b2e3-0288feb8e185",
   "metadata": {},
   "outputs": [
    {
     "name": "stdout",
     "output_type": "stream",
     "text": [
      "|   iter    |  target   | max_depth | min_sa... | min_sa... |\n",
      "-------------------------------------------------------------\n",
      "| \u001b[39m1        \u001b[39m | \u001b[39m-0.1724  \u001b[39m | \u001b[39m8.923    \u001b[39m | \u001b[39m14.69    \u001b[39m | \u001b[39m2.002    \u001b[39m |\n",
      "| \u001b[35m2        \u001b[39m | \u001b[35m-0.1505  \u001b[39m | \u001b[35m6.744    \u001b[39m | \u001b[35m3.788    \u001b[39m | \u001b[35m3.662    \u001b[39m |\n",
      "| \u001b[39m3        \u001b[39m | \u001b[39m-0.1515  \u001b[39m | \u001b[39m4.539    \u001b[39m | \u001b[39m7.566    \u001b[39m | \u001b[39m9.142    \u001b[39m |\n",
      "| \u001b[39m4        \u001b[39m | \u001b[39m-0.1823  \u001b[39m | \u001b[39m11.24    \u001b[39m | \u001b[39m8.965    \u001b[39m | \u001b[39m14.33    \u001b[39m |\n",
      "| \u001b[39m5        \u001b[39m | \u001b[39m-0.1681  \u001b[39m | \u001b[39m4.885    \u001b[39m | \u001b[39m17.68    \u001b[39m | \u001b[39m2.493    \u001b[39m |\n",
      "| \u001b[39m6        \u001b[39m | \u001b[39m-0.1681  \u001b[39m | \u001b[39m2.498    \u001b[39m | \u001b[39m4.105    \u001b[39m | \u001b[39m6.151    \u001b[39m |\n",
      "| \u001b[39m7        \u001b[39m | \u001b[39m-0.1693  \u001b[39m | \u001b[39m11.11    \u001b[39m | \u001b[39m15.96    \u001b[39m | \u001b[39m5.148    \u001b[39m |\n",
      "| \u001b[35m8        \u001b[39m | \u001b[35m-0.1436  \u001b[39m | \u001b[35m6.839    \u001b[39m | \u001b[35m5.769    \u001b[39m | \u001b[35m4.597    \u001b[39m |\n",
      "| \u001b[39m9        \u001b[39m | \u001b[39m-0.1572  \u001b[39m | \u001b[39m10.09    \u001b[39m | \u001b[39m6.188    \u001b[39m | \u001b[39m5.083    \u001b[39m |\n",
      "| \u001b[39m10       \u001b[39m | \u001b[39m-0.1639  \u001b[39m | \u001b[39m5.782    \u001b[39m | \u001b[39m7.913    \u001b[39m | \u001b[39m2.774    \u001b[39m |\n",
      "| \u001b[39m11       \u001b[39m | \u001b[39m-0.1436  \u001b[39m | \u001b[39m6.913    \u001b[39m | \u001b[39m5.392    \u001b[39m | \u001b[39m7.159    \u001b[39m |\n",
      "| \u001b[39m12       \u001b[39m | \u001b[39m-0.1467  \u001b[39m | \u001b[39m9.049    \u001b[39m | \u001b[39m2.153    \u001b[39m | \u001b[39m7.974    \u001b[39m |\n",
      "| \u001b[35m13       \u001b[39m | \u001b[35m-0.1427  \u001b[39m | \u001b[35m6.232    \u001b[39m | \u001b[35m2.624    \u001b[39m | \u001b[35m10.84    \u001b[39m |\n",
      "| \u001b[39m14       \u001b[39m | \u001b[39m-0.1518  \u001b[39m | \u001b[39m8.297    \u001b[39m | \u001b[39m1.101    \u001b[39m | \u001b[39m13.55    \u001b[39m |\n",
      "| \u001b[39m15       \u001b[39m | \u001b[39m-0.1708  \u001b[39m | \u001b[39m2.558    \u001b[39m | \u001b[39m1.875    \u001b[39m | \u001b[39m13.83    \u001b[39m |\n",
      "| \u001b[35m16       \u001b[39m | \u001b[35m-0.1318  \u001b[39m | \u001b[35m8.311    \u001b[39m | \u001b[35m4.424    \u001b[39m | \u001b[35m10.05    \u001b[39m |\n",
      "| \u001b[39m17       \u001b[39m | \u001b[39m-0.1386  \u001b[39m | \u001b[39m10.12    \u001b[39m | \u001b[39m3.293    \u001b[39m | \u001b[39m11.3     \u001b[39m |\n",
      "| \u001b[39m18       \u001b[39m | \u001b[39m-0.142   \u001b[39m | \u001b[39m7.923    \u001b[39m | \u001b[39m4.838    \u001b[39m | \u001b[39m12.02    \u001b[39m |\n",
      "| \u001b[39m19       \u001b[39m | \u001b[39m-0.137   \u001b[39m | \u001b[39m17.07    \u001b[39m | \u001b[39m1.019    \u001b[39m | \u001b[39m11.4     \u001b[39m |\n",
      "| \u001b[39m20       \u001b[39m | \u001b[39m-0.1356  \u001b[39m | \u001b[39m19.99    \u001b[39m | \u001b[39m1.016    \u001b[39m | \u001b[39m9.079    \u001b[39m |\n",
      "| \u001b[35m21       \u001b[39m | \u001b[35m-0.122   \u001b[39m | \u001b[35m19.69    \u001b[39m | \u001b[35m4.275    \u001b[39m | \u001b[35m11.64    \u001b[39m |\n",
      "| \u001b[39m22       \u001b[39m | \u001b[39m-0.1422  \u001b[39m | \u001b[39m19.96    \u001b[39m | \u001b[39m3.142    \u001b[39m | \u001b[39m14.59    \u001b[39m |\n",
      "| \u001b[39m23       \u001b[39m | \u001b[39m-0.1425  \u001b[39m | \u001b[39m19.73    \u001b[39m | \u001b[39m5.544    \u001b[39m | \u001b[39m8.935    \u001b[39m |\n",
      "| \u001b[39m24       \u001b[39m | \u001b[39m-0.1572  \u001b[39m | \u001b[39m19.77    \u001b[39m | \u001b[39m6.376    \u001b[39m | \u001b[39m12.72    \u001b[39m |\n",
      "| \u001b[39m25       \u001b[39m | \u001b[39m-0.1406  \u001b[39m | \u001b[39m19.61    \u001b[39m | \u001b[39m2.126    \u001b[39m | \u001b[39m11.64    \u001b[39m |\n",
      "| \u001b[39m26       \u001b[39m | \u001b[39m-0.122   \u001b[39m | \u001b[39m18.3     \u001b[39m | \u001b[39m4.011    \u001b[39m | \u001b[39m11.03    \u001b[39m |\n",
      "| \u001b[39m27       \u001b[39m | \u001b[39m-0.134   \u001b[39m | \u001b[39m17.75    \u001b[39m | \u001b[39m2.932    \u001b[39m | \u001b[39m9.028    \u001b[39m |\n",
      "| \u001b[39m28       \u001b[39m | \u001b[39m-0.1319  \u001b[39m | \u001b[39m15.71    \u001b[39m | \u001b[39m3.68     \u001b[39m | \u001b[39m12.36    \u001b[39m |\n",
      "| \u001b[39m29       \u001b[39m | \u001b[39m-0.1355  \u001b[39m | \u001b[39m14.62    \u001b[39m | \u001b[39m3.077    \u001b[39m | \u001b[39m9.866    \u001b[39m |\n",
      "| \u001b[39m30       \u001b[39m | \u001b[39m-0.1433  \u001b[39m | \u001b[39m19.32    \u001b[39m | \u001b[39m1.173    \u001b[39m | \u001b[39m5.353    \u001b[39m |\n",
      "=============================================================\n",
      "Best Parameters (Bayesian Optimization): {'max_depth': 19, 'min_samples_leaf': 4, 'min_samples_split': 11}\n",
      "Best Score (Bayesian Optimization): -0.12199632630033294\n"
     ]
    }
   ],
   "source": [
    "from sklearn.datasets import fetch_california_housing\n",
    "from sklearn.tree import DecisionTreeRegressor\n",
    "from sklearn.model_selection import train_test_split, GridSearchCV\n",
    "from sklearn.metrics import mean_squared_error\n",
    "from bayes_opt import BayesianOptimization\n",
    "from sklearn.model_selection import cross_val_score\n",
    "from sklearn.model_selection import train_test_split\n",
    "\n",
    "# Define the function to optimize using cross-validation\n",
    "def dtree_cv(max_depth, min_samples_split, min_samples_leaf):\n",
    "    # Define the model with the parameters to be optimized\n",
    "    estimator = DecisionTreeRegressor(\n",
    "        max_depth=int(max_depth),\n",
    "        min_samples_split=int(min_samples_split),\n",
    "        min_samples_leaf=int(min_samples_leaf),\n",
    "        random_state=2\n",
    "    )\n",
    "    cval = cross_val_score(estimator, X_train, y_train, scoring='neg_mean_squared_error', cv=5)\n",
    "    return cval.mean() # The optimizer tries to maximize the function, so we negate the score to minimize it\n",
    "\n",
    "# Define the parameter bounds\n",
    "param_bounds = {\n",
    "    'max_depth': (1, 20),\n",
    "    'min_samples_split': (2, 20),\n",
    "    'min_samples_leaf': (1, 20)\n",
    "}\n",
    "\n",
    "optimizer = BayesianOptimization(\n",
    "    f=dtree_cv,\n",
    "    pbounds=param_bounds,\n",
    "    random_state=1,\n",
    ")\n",
    "\n",
    "optimizer.maximize(n_iter=25, init_points=5) # Bayesian optimization\n",
    "best_params_bayes = optimizer.max['params']\n",
    "best_params_bayes['max_depth'] = int(best_params_bayes['max_depth'])\n",
    "best_params_bayes['min_samples_split'] = int(best_params_bayes['min_samples_split'])\n",
    "best_params_bayes['min_samples_leaf'] = int(best_params_bayes['min_samples_leaf'])\n",
    "best_score_bayes = optimizer.max['target']\n",
    "\n",
    "print(f\"Best Parameters (Bayesian Optimization): {best_params_bayes}\")\n",
    "print(f\"Best Score (Bayesian Optimization): {best_score_bayes}\")"
   ]
  },
  {
   "cell_type": "code",
   "execution_count": null,
   "id": "c02231ca-cfab-41ed-9ce5-82162249daeb",
   "metadata": {},
   "outputs": [],
   "source": []
  }
 ],
 "metadata": {
  "kernelspec": {
   "display_name": "Python [conda env:base] *",
   "language": "python",
   "name": "conda-base-py"
  },
  "language_info": {
   "codemirror_mode": {
    "name": "ipython",
    "version": 3
   },
   "file_extension": ".py",
   "mimetype": "text/x-python",
   "name": "python",
   "nbconvert_exporter": "python",
   "pygments_lexer": "ipython3",
   "version": "3.12.4"
  }
 },
 "nbformat": 4,
 "nbformat_minor": 5
}
