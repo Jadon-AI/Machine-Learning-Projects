{
 "cells": [
  {
   "cell_type": "markdown",
   "id": "81eaf830-5487-43d4-8c25-55993ca06835",
   "metadata": {},
   "source": [
    "## Import Data ##"
   ]
  },
  {
   "cell_type": "code",
   "execution_count": 205,
   "id": "75cff8c8-18f5-4c5e-a60c-d63c7c753340",
   "metadata": {},
   "outputs": [],
   "source": [
    "import pandas as pd\n",
    "\n",
    "data = pd.read_csv(\"laliga_player_stats_english.csv\")\n",
    "df = data"
   ]
  },
  {
   "cell_type": "code",
   "execution_count": 207,
   "id": "01886d60-e1fd-4fc5-839a-115f214b0b92",
   "metadata": {},
   "outputs": [],
   "source": [
    "from sklearn.preprocessing import LabelEncoder\n",
    "\n",
    "#Words to numbers\n",
    "le = LabelEncoder()\n",
    "df[\"Team\"] = le.fit_transform(df[\"Team\"])\n",
    "df[\"Position\"] = le.fit_transform(df[\"Position\"])\n",
    "df[\"Name\"] = le.fit_transform(df[\"Name\"])"
   ]
  },
  {
   "cell_type": "code",
   "execution_count": 209,
   "id": "213c639e-d4d5-4f30-bf2f-7aef9d88d9eb",
   "metadata": {},
   "outputs": [],
   "source": [
    "df['Percentage of games played'] = df['Percentage of games played'].replace('%', '', regex=True).astype(float)\n",
    "df['Percentage of games played'] = df['Percentage of games played'] / 100\n",
    "\n",
    "df['Percentage of full games played'] = df['Percentage of full games played'].replace('%', '', regex=True).astype(float)\n",
    "df['Percentage of full games played'] = df['Percentage of full games played'] / 100\n",
    "\n",
    "df['Percentage of games started'] = df['Percentage of games started'].replace('%', '', regex=True).astype(float)\n",
    "df['Percentage of games started'] = df['Percentage of games started'] / 100\n",
    "\n",
    "df['Percentage of games where substituted'] = df['Percentage of games where substituted'].replace('%', '', regex=True).astype(float)\n",
    "df['Percentage of games where substituted'] = df['Percentage of games where substituted'] / 100"
   ]
  },
  {
   "cell_type": "code",
   "execution_count": 211,
   "id": "077c9c94-082b-4c6d-81ec-9cf0cef57fa4",
   "metadata": {},
   "outputs": [],
   "source": [
    "X = df.drop(columns=[\"Goals scored per attempt\"])\n",
    "y = df[\"Goals scored per attempt\"]"
   ]
  },
  {
   "cell_type": "code",
   "execution_count": 213,
   "id": "9b311212-6157-4716-8079-b10aa3ce6416",
   "metadata": {},
   "outputs": [
    {
     "data": {
      "text/html": [
       "<div>\n",
       "<style scoped>\n",
       "    .dataframe tbody tr th:only-of-type {\n",
       "        vertical-align: middle;\n",
       "    }\n",
       "\n",
       "    .dataframe tbody tr th {\n",
       "        vertical-align: top;\n",
       "    }\n",
       "\n",
       "    .dataframe thead th {\n",
       "        text-align: right;\n",
       "    }\n",
       "</style>\n",
       "<table border=\"1\" class=\"dataframe\">\n",
       "  <thead>\n",
       "    <tr style=\"text-align: right;\">\n",
       "      <th></th>\n",
       "      <th>Team</th>\n",
       "      <th>Position</th>\n",
       "      <th>Shirt number</th>\n",
       "      <th>Name</th>\n",
       "      <th>Minutes played</th>\n",
       "      <th>Games played</th>\n",
       "      <th>Percentage of games played</th>\n",
       "      <th>Full games played</th>\n",
       "      <th>Percentage of full games played</th>\n",
       "      <th>Games started</th>\n",
       "      <th>...</th>\n",
       "      <th>Corners</th>\n",
       "      <th>Tackles.1</th>\n",
       "      <th>Duels</th>\n",
       "      <th>Man-to-man duels</th>\n",
       "      <th>Aerial duels</th>\n",
       "      <th>Passes</th>\n",
       "      <th>Short passes</th>\n",
       "      <th>Long passes</th>\n",
       "      <th>Through balls</th>\n",
       "      <th>Goals scored per attempt</th>\n",
       "    </tr>\n",
       "  </thead>\n",
       "  <tbody>\n",
       "    <tr>\n",
       "      <th>0</th>\n",
       "      <td>0</td>\n",
       "      <td>2</td>\n",
       "      <td>NaN</td>\n",
       "      <td>200</td>\n",
       "      <td>0.000</td>\n",
       "      <td>0</td>\n",
       "      <td>0.00</td>\n",
       "      <td>0</td>\n",
       "      <td>0.00</td>\n",
       "      <td>0</td>\n",
       "      <td>...</td>\n",
       "      <td>0</td>\n",
       "      <td>0</td>\n",
       "      <td>0</td>\n",
       "      <td>0</td>\n",
       "      <td>0</td>\n",
       "      <td>0.0</td>\n",
       "      <td>0.0</td>\n",
       "      <td>0</td>\n",
       "      <td>0</td>\n",
       "      <td>0</td>\n",
       "    </tr>\n",
       "    <tr>\n",
       "      <th>1</th>\n",
       "      <td>0</td>\n",
       "      <td>2</td>\n",
       "      <td>1.0</td>\n",
       "      <td>3</td>\n",
       "      <td>0.000</td>\n",
       "      <td>0</td>\n",
       "      <td>0.00</td>\n",
       "      <td>0</td>\n",
       "      <td>0.00</td>\n",
       "      <td>0</td>\n",
       "      <td>...</td>\n",
       "      <td>0</td>\n",
       "      <td>0</td>\n",
       "      <td>0</td>\n",
       "      <td>0</td>\n",
       "      <td>0</td>\n",
       "      <td>0.0</td>\n",
       "      <td>0.0</td>\n",
       "      <td>0</td>\n",
       "      <td>0</td>\n",
       "      <td>0</td>\n",
       "    </tr>\n",
       "    <tr>\n",
       "      <th>2</th>\n",
       "      <td>0</td>\n",
       "      <td>2</td>\n",
       "      <td>13.0</td>\n",
       "      <td>197</td>\n",
       "      <td>2.790</td>\n",
       "      <td>31</td>\n",
       "      <td>0.82</td>\n",
       "      <td>31</td>\n",
       "      <td>0.82</td>\n",
       "      <td>31</td>\n",
       "      <td>...</td>\n",
       "      <td>0</td>\n",
       "      <td>0</td>\n",
       "      <td>25</td>\n",
       "      <td>6</td>\n",
       "      <td>19</td>\n",
       "      <td>887.0</td>\n",
       "      <td>128.0</td>\n",
       "      <td>759</td>\n",
       "      <td>1</td>\n",
       "      <td>0</td>\n",
       "    </tr>\n",
       "    <tr>\n",
       "      <th>3</th>\n",
       "      <td>0</td>\n",
       "      <td>2</td>\n",
       "      <td>25.0</td>\n",
       "      <td>498</td>\n",
       "      <td>630.000</td>\n",
       "      <td>7</td>\n",
       "      <td>0.18</td>\n",
       "      <td>7</td>\n",
       "      <td>0.18</td>\n",
       "      <td>7</td>\n",
       "      <td>...</td>\n",
       "      <td>0</td>\n",
       "      <td>0</td>\n",
       "      <td>3</td>\n",
       "      <td>2</td>\n",
       "      <td>1</td>\n",
       "      <td>155.0</td>\n",
       "      <td>49.0</td>\n",
       "      <td>106</td>\n",
       "      <td>0</td>\n",
       "      <td>0</td>\n",
       "    </tr>\n",
       "    <tr>\n",
       "      <th>4</th>\n",
       "      <td>0</td>\n",
       "      <td>0</td>\n",
       "      <td>3.0</td>\n",
       "      <td>370</td>\n",
       "      <td>1.063</td>\n",
       "      <td>12</td>\n",
       "      <td>0.32</td>\n",
       "      <td>11</td>\n",
       "      <td>0.29</td>\n",
       "      <td>11</td>\n",
       "      <td>...</td>\n",
       "      <td>0</td>\n",
       "      <td>15</td>\n",
       "      <td>107</td>\n",
       "      <td>38</td>\n",
       "      <td>69</td>\n",
       "      <td>536.0</td>\n",
       "      <td>457.0</td>\n",
       "      <td>78</td>\n",
       "      <td>1</td>\n",
       "      <td>0</td>\n",
       "    </tr>\n",
       "    <tr>\n",
       "      <th>...</th>\n",
       "      <td>...</td>\n",
       "      <td>...</td>\n",
       "      <td>...</td>\n",
       "      <td>...</td>\n",
       "      <td>...</td>\n",
       "      <td>...</td>\n",
       "      <td>...</td>\n",
       "      <td>...</td>\n",
       "      <td>...</td>\n",
       "      <td>...</td>\n",
       "      <td>...</td>\n",
       "      <td>...</td>\n",
       "      <td>...</td>\n",
       "      <td>...</td>\n",
       "      <td>...</td>\n",
       "      <td>...</td>\n",
       "      <td>...</td>\n",
       "      <td>...</td>\n",
       "      <td>...</td>\n",
       "      <td>...</td>\n",
       "      <td>...</td>\n",
       "    </tr>\n",
       "    <tr>\n",
       "      <th>551</th>\n",
       "      <td>19</td>\n",
       "      <td>3</td>\n",
       "      <td>37.0</td>\n",
       "      <td>218</td>\n",
       "      <td>0.000</td>\n",
       "      <td>0</td>\n",
       "      <td>0.00</td>\n",
       "      <td>0</td>\n",
       "      <td>0.00</td>\n",
       "      <td>0</td>\n",
       "      <td>...</td>\n",
       "      <td>0</td>\n",
       "      <td>0</td>\n",
       "      <td>0</td>\n",
       "      <td>0</td>\n",
       "      <td>0</td>\n",
       "      <td>0.0</td>\n",
       "      <td>0.0</td>\n",
       "      <td>0</td>\n",
       "      <td>0</td>\n",
       "      <td>0</td>\n",
       "    </tr>\n",
       "    <tr>\n",
       "      <th>552</th>\n",
       "      <td>19</td>\n",
       "      <td>3</td>\n",
       "      <td>42.0</td>\n",
       "      <td>31</td>\n",
       "      <td>0.000</td>\n",
       "      <td>0</td>\n",
       "      <td>0.00</td>\n",
       "      <td>0</td>\n",
       "      <td>0.00</td>\n",
       "      <td>0</td>\n",
       "      <td>...</td>\n",
       "      <td>0</td>\n",
       "      <td>0</td>\n",
       "      <td>0</td>\n",
       "      <td>0</td>\n",
       "      <td>0</td>\n",
       "      <td>0.0</td>\n",
       "      <td>0.0</td>\n",
       "      <td>0</td>\n",
       "      <td>0</td>\n",
       "      <td>0</td>\n",
       "    </tr>\n",
       "    <tr>\n",
       "      <th>553</th>\n",
       "      <td>19</td>\n",
       "      <td>1</td>\n",
       "      <td>7.0</td>\n",
       "      <td>173</td>\n",
       "      <td>2.317</td>\n",
       "      <td>35</td>\n",
       "      <td>0.92</td>\n",
       "      <td>16</td>\n",
       "      <td>0.42</td>\n",
       "      <td>25</td>\n",
       "      <td>...</td>\n",
       "      <td>0</td>\n",
       "      <td>23</td>\n",
       "      <td>344</td>\n",
       "      <td>219</td>\n",
       "      <td>125</td>\n",
       "      <td>740.0</td>\n",
       "      <td>676.0</td>\n",
       "      <td>59</td>\n",
       "      <td>5</td>\n",
       "      <td>6</td>\n",
       "    </tr>\n",
       "    <tr>\n",
       "      <th>554</th>\n",
       "      <td>19</td>\n",
       "      <td>1</td>\n",
       "      <td>9.0</td>\n",
       "      <td>52</td>\n",
       "      <td>1.259</td>\n",
       "      <td>33</td>\n",
       "      <td>0.87</td>\n",
       "      <td>2</td>\n",
       "      <td>0.05</td>\n",
       "      <td>12</td>\n",
       "      <td>...</td>\n",
       "      <td>1</td>\n",
       "      <td>4</td>\n",
       "      <td>127</td>\n",
       "      <td>80</td>\n",
       "      <td>47</td>\n",
       "      <td>270.0</td>\n",
       "      <td>252.0</td>\n",
       "      <td>16</td>\n",
       "      <td>2</td>\n",
       "      <td>5</td>\n",
       "    </tr>\n",
       "    <tr>\n",
       "      <th>555</th>\n",
       "      <td>19</td>\n",
       "      <td>1</td>\n",
       "      <td>17.0</td>\n",
       "      <td>490</td>\n",
       "      <td>2.148</td>\n",
       "      <td>34</td>\n",
       "      <td>0.89</td>\n",
       "      <td>11</td>\n",
       "      <td>0.29</td>\n",
       "      <td>24</td>\n",
       "      <td>...</td>\n",
       "      <td>0</td>\n",
       "      <td>11</td>\n",
       "      <td>268</td>\n",
       "      <td>187</td>\n",
       "      <td>81</td>\n",
       "      <td>501.0</td>\n",
       "      <td>477.0</td>\n",
       "      <td>23</td>\n",
       "      <td>1</td>\n",
       "      <td>5</td>\n",
       "    </tr>\n",
       "  </tbody>\n",
       "</table>\n",
       "<p>556 rows × 62 columns</p>\n",
       "</div>"
      ],
      "text/plain": [
       "     Team  Position  Shirt number  Name  Minutes played  Games played  \\\n",
       "0       0         2           NaN   200           0.000             0   \n",
       "1       0         2           1.0     3           0.000             0   \n",
       "2       0         2          13.0   197           2.790            31   \n",
       "3       0         2          25.0   498         630.000             7   \n",
       "4       0         0           3.0   370           1.063            12   \n",
       "..    ...       ...           ...   ...             ...           ...   \n",
       "551    19         3          37.0   218           0.000             0   \n",
       "552    19         3          42.0    31           0.000             0   \n",
       "553    19         1           7.0   173           2.317            35   \n",
       "554    19         1           9.0    52           1.259            33   \n",
       "555    19         1          17.0   490           2.148            34   \n",
       "\n",
       "     Percentage of games played  Full games played  \\\n",
       "0                          0.00                  0   \n",
       "1                          0.00                  0   \n",
       "2                          0.82                 31   \n",
       "3                          0.18                  7   \n",
       "4                          0.32                 11   \n",
       "..                          ...                ...   \n",
       "551                        0.00                  0   \n",
       "552                        0.00                  0   \n",
       "553                        0.92                 16   \n",
       "554                        0.87                  2   \n",
       "555                        0.89                 11   \n",
       "\n",
       "     Percentage of full games played  Games started  ...  Corners  Tackles.1  \\\n",
       "0                               0.00              0  ...        0          0   \n",
       "1                               0.00              0  ...        0          0   \n",
       "2                               0.82             31  ...        0          0   \n",
       "3                               0.18              7  ...        0          0   \n",
       "4                               0.29             11  ...        0         15   \n",
       "..                               ...            ...  ...      ...        ...   \n",
       "551                             0.00              0  ...        0          0   \n",
       "552                             0.00              0  ...        0          0   \n",
       "553                             0.42             25  ...        0         23   \n",
       "554                             0.05             12  ...        1          4   \n",
       "555                             0.29             24  ...        0         11   \n",
       "\n",
       "     Duels  Man-to-man duels  Aerial duels  Passes  Short passes  Long passes  \\\n",
       "0        0                 0             0     0.0           0.0            0   \n",
       "1        0                 0             0     0.0           0.0            0   \n",
       "2       25                 6            19   887.0         128.0          759   \n",
       "3        3                 2             1   155.0          49.0          106   \n",
       "4      107                38            69   536.0         457.0           78   \n",
       "..     ...               ...           ...     ...           ...          ...   \n",
       "551      0                 0             0     0.0           0.0            0   \n",
       "552      0                 0             0     0.0           0.0            0   \n",
       "553    344               219           125   740.0         676.0           59   \n",
       "554    127                80            47   270.0         252.0           16   \n",
       "555    268               187            81   501.0         477.0           23   \n",
       "\n",
       "     Through balls  Goals scored per attempt  \n",
       "0                0                         0  \n",
       "1                0                         0  \n",
       "2                1                         0  \n",
       "3                0                         0  \n",
       "4                1                         0  \n",
       "..             ...                       ...  \n",
       "551              0                         0  \n",
       "552              0                         0  \n",
       "553              5                         6  \n",
       "554              2                         5  \n",
       "555              1                         5  \n",
       "\n",
       "[556 rows x 62 columns]"
      ]
     },
     "execution_count": 213,
     "metadata": {},
     "output_type": "execute_result"
    }
   ],
   "source": [
    "df"
   ]
  },
  {
   "cell_type": "markdown",
   "id": "fed19d71-9a18-4197-b906-12f56cabee77",
   "metadata": {},
   "source": [
    "## Data Analysis ##"
   ]
  },
  {
   "cell_type": "code",
   "execution_count": 165,
   "id": "fb4181e3-6e7b-4d24-8b4a-b7ab2d94579a",
   "metadata": {},
   "outputs": [
    {
     "data": {
      "text/html": [
       "<div>\n",
       "<style scoped>\n",
       "    .dataframe tbody tr th:only-of-type {\n",
       "        vertical-align: middle;\n",
       "    }\n",
       "\n",
       "    .dataframe tbody tr th {\n",
       "        vertical-align: top;\n",
       "    }\n",
       "\n",
       "    .dataframe thead th {\n",
       "        text-align: right;\n",
       "    }\n",
       "</style>\n",
       "<table border=\"1\" class=\"dataframe\">\n",
       "  <thead>\n",
       "    <tr style=\"text-align: right;\">\n",
       "      <th></th>\n",
       "      <th>Team</th>\n",
       "      <th>Position</th>\n",
       "      <th>Shirt number</th>\n",
       "      <th>Name</th>\n",
       "      <th>Minutes played</th>\n",
       "      <th>Games played</th>\n",
       "      <th>Percentage of games played</th>\n",
       "      <th>Full games played</th>\n",
       "      <th>Percentage of full games played</th>\n",
       "      <th>Games started</th>\n",
       "      <th>...</th>\n",
       "      <th>Corners</th>\n",
       "      <th>Tackles.1</th>\n",
       "      <th>Duels</th>\n",
       "      <th>Man-to-man duels</th>\n",
       "      <th>Aerial duels</th>\n",
       "      <th>Passes</th>\n",
       "      <th>Short passes</th>\n",
       "      <th>Long passes</th>\n",
       "      <th>Through balls</th>\n",
       "      <th>Goals scored per attempt</th>\n",
       "    </tr>\n",
       "  </thead>\n",
       "  <tbody>\n",
       "    <tr>\n",
       "      <th>Team</th>\n",
       "      <td>1.000000</td>\n",
       "      <td>0.033882</td>\n",
       "      <td>-0.024956</td>\n",
       "      <td>-0.038374</td>\n",
       "      <td>0.017195</td>\n",
       "      <td>0.032430</td>\n",
       "      <td>0.032323</td>\n",
       "      <td>0.022280</td>\n",
       "      <td>0.022356</td>\n",
       "      <td>0.028126</td>\n",
       "      <td>...</td>\n",
       "      <td>0.019194</td>\n",
       "      <td>0.021218</td>\n",
       "      <td>0.015441</td>\n",
       "      <td>0.030533</td>\n",
       "      <td>-0.014518</td>\n",
       "      <td>0.052544</td>\n",
       "      <td>0.094017</td>\n",
       "      <td>0.008025</td>\n",
       "      <td>-0.021761</td>\n",
       "      <td>0.032159</td>\n",
       "    </tr>\n",
       "    <tr>\n",
       "      <th>Position</th>\n",
       "      <td>0.033882</td>\n",
       "      <td>1.000000</td>\n",
       "      <td>0.150542</td>\n",
       "      <td>0.040633</td>\n",
       "      <td>-0.042554</td>\n",
       "      <td>-0.043388</td>\n",
       "      <td>-0.043520</td>\n",
       "      <td>-0.187595</td>\n",
       "      <td>-0.187263</td>\n",
       "      <td>-0.108224</td>\n",
       "      <td>...</td>\n",
       "      <td>0.221725</td>\n",
       "      <td>-0.036402</td>\n",
       "      <td>-0.016135</td>\n",
       "      <td>0.105201</td>\n",
       "      <td>-0.212731</td>\n",
       "      <td>-0.102913</td>\n",
       "      <td>-0.142627</td>\n",
       "      <td>-0.061975</td>\n",
       "      <td>0.117488</td>\n",
       "      <td>-0.035160</td>\n",
       "    </tr>\n",
       "    <tr>\n",
       "      <th>Shirt number</th>\n",
       "      <td>-0.024956</td>\n",
       "      <td>0.150542</td>\n",
       "      <td>1.000000</td>\n",
       "      <td>-0.003975</td>\n",
       "      <td>-0.023747</td>\n",
       "      <td>-0.445639</td>\n",
       "      <td>-0.445517</td>\n",
       "      <td>-0.407365</td>\n",
       "      <td>-0.407531</td>\n",
       "      <td>-0.436118</td>\n",
       "      <td>...</td>\n",
       "      <td>-0.065372</td>\n",
       "      <td>-0.268964</td>\n",
       "      <td>-0.299594</td>\n",
       "      <td>-0.250522</td>\n",
       "      <td>-0.283212</td>\n",
       "      <td>-0.234597</td>\n",
       "      <td>-0.212086</td>\n",
       "      <td>-0.312927</td>\n",
       "      <td>-0.116210</td>\n",
       "      <td>-0.192949</td>\n",
       "    </tr>\n",
       "    <tr>\n",
       "      <th>Name</th>\n",
       "      <td>-0.038374</td>\n",
       "      <td>0.040633</td>\n",
       "      <td>-0.003975</td>\n",
       "      <td>1.000000</td>\n",
       "      <td>-0.013330</td>\n",
       "      <td>0.032564</td>\n",
       "      <td>0.031750</td>\n",
       "      <td>0.035002</td>\n",
       "      <td>0.034614</td>\n",
       "      <td>0.028266</td>\n",
       "      <td>...</td>\n",
       "      <td>-0.016535</td>\n",
       "      <td>0.049737</td>\n",
       "      <td>0.037683</td>\n",
       "      <td>0.056561</td>\n",
       "      <td>-0.005584</td>\n",
       "      <td>0.030260</td>\n",
       "      <td>-0.000779</td>\n",
       "      <td>-0.024850</td>\n",
       "      <td>0.022779</td>\n",
       "      <td>0.032008</td>\n",
       "    </tr>\n",
       "    <tr>\n",
       "      <th>Minutes played</th>\n",
       "      <td>0.017195</td>\n",
       "      <td>-0.042554</td>\n",
       "      <td>-0.023747</td>\n",
       "      <td>-0.013330</td>\n",
       "      <td>1.000000</td>\n",
       "      <td>-0.282421</td>\n",
       "      <td>-0.283049</td>\n",
       "      <td>-0.369789</td>\n",
       "      <td>-0.369309</td>\n",
       "      <td>-0.376947</td>\n",
       "      <td>...</td>\n",
       "      <td>-0.119874</td>\n",
       "      <td>-0.291537</td>\n",
       "      <td>-0.304444</td>\n",
       "      <td>-0.284668</td>\n",
       "      <td>-0.241275</td>\n",
       "      <td>-0.125847</td>\n",
       "      <td>-0.163448</td>\n",
       "      <td>-0.241243</td>\n",
       "      <td>-0.139585</td>\n",
       "      <td>-0.191986</td>\n",
       "    </tr>\n",
       "    <tr>\n",
       "      <th>...</th>\n",
       "      <td>...</td>\n",
       "      <td>...</td>\n",
       "      <td>...</td>\n",
       "      <td>...</td>\n",
       "      <td>...</td>\n",
       "      <td>...</td>\n",
       "      <td>...</td>\n",
       "      <td>...</td>\n",
       "      <td>...</td>\n",
       "      <td>...</td>\n",
       "      <td>...</td>\n",
       "      <td>...</td>\n",
       "      <td>...</td>\n",
       "      <td>...</td>\n",
       "      <td>...</td>\n",
       "      <td>...</td>\n",
       "      <td>...</td>\n",
       "      <td>...</td>\n",
       "      <td>...</td>\n",
       "      <td>...</td>\n",
       "      <td>...</td>\n",
       "    </tr>\n",
       "    <tr>\n",
       "      <th>Passes</th>\n",
       "      <td>0.052544</td>\n",
       "      <td>-0.102913</td>\n",
       "      <td>-0.234597</td>\n",
       "      <td>0.030260</td>\n",
       "      <td>-0.125847</td>\n",
       "      <td>0.425143</td>\n",
       "      <td>0.424754</td>\n",
       "      <td>0.250479</td>\n",
       "      <td>0.250166</td>\n",
       "      <td>0.365791</td>\n",
       "      <td>...</td>\n",
       "      <td>-0.021850</td>\n",
       "      <td>0.179278</td>\n",
       "      <td>0.308957</td>\n",
       "      <td>0.279805</td>\n",
       "      <td>0.259950</td>\n",
       "      <td>1.000000</td>\n",
       "      <td>0.747886</td>\n",
       "      <td>0.198307</td>\n",
       "      <td>0.065244</td>\n",
       "      <td>0.248722</td>\n",
       "    </tr>\n",
       "    <tr>\n",
       "      <th>Short passes</th>\n",
       "      <td>0.094017</td>\n",
       "      <td>-0.142627</td>\n",
       "      <td>-0.212086</td>\n",
       "      <td>-0.000779</td>\n",
       "      <td>-0.163448</td>\n",
       "      <td>0.484956</td>\n",
       "      <td>0.485150</td>\n",
       "      <td>0.287420</td>\n",
       "      <td>0.287568</td>\n",
       "      <td>0.419378</td>\n",
       "      <td>...</td>\n",
       "      <td>0.003408</td>\n",
       "      <td>0.358443</td>\n",
       "      <td>0.463532</td>\n",
       "      <td>0.422503</td>\n",
       "      <td>0.385506</td>\n",
       "      <td>0.747886</td>\n",
       "      <td>1.000000</td>\n",
       "      <td>0.070822</td>\n",
       "      <td>0.094051</td>\n",
       "      <td>0.292486</td>\n",
       "    </tr>\n",
       "    <tr>\n",
       "      <th>Long passes</th>\n",
       "      <td>0.008025</td>\n",
       "      <td>-0.061975</td>\n",
       "      <td>-0.312927</td>\n",
       "      <td>-0.024850</td>\n",
       "      <td>-0.241243</td>\n",
       "      <td>0.507765</td>\n",
       "      <td>0.507709</td>\n",
       "      <td>0.736982</td>\n",
       "      <td>0.737111</td>\n",
       "      <td>0.631917</td>\n",
       "      <td>...</td>\n",
       "      <td>0.133691</td>\n",
       "      <td>0.278922</td>\n",
       "      <td>0.153577</td>\n",
       "      <td>0.124919</td>\n",
       "      <td>0.152764</td>\n",
       "      <td>0.198307</td>\n",
       "      <td>0.070822</td>\n",
       "      <td>1.000000</td>\n",
       "      <td>0.032614</td>\n",
       "      <td>-0.032662</td>\n",
       "    </tr>\n",
       "    <tr>\n",
       "      <th>Through balls</th>\n",
       "      <td>-0.021761</td>\n",
       "      <td>0.117488</td>\n",
       "      <td>-0.116210</td>\n",
       "      <td>0.022779</td>\n",
       "      <td>-0.139585</td>\n",
       "      <td>0.374453</td>\n",
       "      <td>0.373760</td>\n",
       "      <td>0.218003</td>\n",
       "      <td>0.218228</td>\n",
       "      <td>0.332505</td>\n",
       "      <td>...</td>\n",
       "      <td>0.335791</td>\n",
       "      <td>0.212506</td>\n",
       "      <td>0.424823</td>\n",
       "      <td>0.514365</td>\n",
       "      <td>0.141972</td>\n",
       "      <td>0.065244</td>\n",
       "      <td>0.094051</td>\n",
       "      <td>0.032614</td>\n",
       "      <td>1.000000</td>\n",
       "      <td>0.482900</td>\n",
       "    </tr>\n",
       "    <tr>\n",
       "      <th>Goals scored per attempt</th>\n",
       "      <td>0.032159</td>\n",
       "      <td>-0.035160</td>\n",
       "      <td>-0.192949</td>\n",
       "      <td>0.032008</td>\n",
       "      <td>-0.191986</td>\n",
       "      <td>0.542212</td>\n",
       "      <td>0.541873</td>\n",
       "      <td>0.302996</td>\n",
       "      <td>0.302760</td>\n",
       "      <td>0.468351</td>\n",
       "      <td>...</td>\n",
       "      <td>0.248743</td>\n",
       "      <td>0.214110</td>\n",
       "      <td>0.602832</td>\n",
       "      <td>0.550509</td>\n",
       "      <td>0.499636</td>\n",
       "      <td>0.248722</td>\n",
       "      <td>0.292486</td>\n",
       "      <td>-0.032662</td>\n",
       "      <td>0.482900</td>\n",
       "      <td>1.000000</td>\n",
       "    </tr>\n",
       "  </tbody>\n",
       "</table>\n",
       "<p>62 rows × 62 columns</p>\n",
       "</div>"
      ],
      "text/plain": [
       "                              Team  Position  Shirt number      Name  \\\n",
       "Team                      1.000000  0.033882     -0.024956 -0.038374   \n",
       "Position                  0.033882  1.000000      0.150542  0.040633   \n",
       "Shirt number             -0.024956  0.150542      1.000000 -0.003975   \n",
       "Name                     -0.038374  0.040633     -0.003975  1.000000   \n",
       "Minutes played            0.017195 -0.042554     -0.023747 -0.013330   \n",
       "...                            ...       ...           ...       ...   \n",
       "Passes                    0.052544 -0.102913     -0.234597  0.030260   \n",
       "Short passes              0.094017 -0.142627     -0.212086 -0.000779   \n",
       "Long passes               0.008025 -0.061975     -0.312927 -0.024850   \n",
       "Through balls            -0.021761  0.117488     -0.116210  0.022779   \n",
       "Goals scored per attempt  0.032159 -0.035160     -0.192949  0.032008   \n",
       "\n",
       "                          Minutes played  Games played  \\\n",
       "Team                            0.017195      0.032430   \n",
       "Position                       -0.042554     -0.043388   \n",
       "Shirt number                   -0.023747     -0.445639   \n",
       "Name                           -0.013330      0.032564   \n",
       "Minutes played                  1.000000     -0.282421   \n",
       "...                                  ...           ...   \n",
       "Passes                         -0.125847      0.425143   \n",
       "Short passes                   -0.163448      0.484956   \n",
       "Long passes                    -0.241243      0.507765   \n",
       "Through balls                  -0.139585      0.374453   \n",
       "Goals scored per attempt       -0.191986      0.542212   \n",
       "\n",
       "                          Percentage of games played  Full games played  \\\n",
       "Team                                        0.032323           0.022280   \n",
       "Position                                   -0.043520          -0.187595   \n",
       "Shirt number                               -0.445517          -0.407365   \n",
       "Name                                        0.031750           0.035002   \n",
       "Minutes played                             -0.283049          -0.369789   \n",
       "...                                              ...                ...   \n",
       "Passes                                      0.424754           0.250479   \n",
       "Short passes                                0.485150           0.287420   \n",
       "Long passes                                 0.507709           0.736982   \n",
       "Through balls                               0.373760           0.218003   \n",
       "Goals scored per attempt                    0.541873           0.302996   \n",
       "\n",
       "                          Percentage of full games played  Games started  ...  \\\n",
       "Team                                             0.022356       0.028126  ...   \n",
       "Position                                        -0.187263      -0.108224  ...   \n",
       "Shirt number                                    -0.407531      -0.436118  ...   \n",
       "Name                                             0.034614       0.028266  ...   \n",
       "Minutes played                                  -0.369309      -0.376947  ...   \n",
       "...                                                   ...            ...  ...   \n",
       "Passes                                           0.250166       0.365791  ...   \n",
       "Short passes                                     0.287568       0.419378  ...   \n",
       "Long passes                                      0.737111       0.631917  ...   \n",
       "Through balls                                    0.218228       0.332505  ...   \n",
       "Goals scored per attempt                         0.302760       0.468351  ...   \n",
       "\n",
       "                           Corners  Tackles.1     Duels  Man-to-man duels  \\\n",
       "Team                      0.019194   0.021218  0.015441          0.030533   \n",
       "Position                  0.221725  -0.036402 -0.016135          0.105201   \n",
       "Shirt number             -0.065372  -0.268964 -0.299594         -0.250522   \n",
       "Name                     -0.016535   0.049737  0.037683          0.056561   \n",
       "Minutes played           -0.119874  -0.291537 -0.304444         -0.284668   \n",
       "...                            ...        ...       ...               ...   \n",
       "Passes                   -0.021850   0.179278  0.308957          0.279805   \n",
       "Short passes              0.003408   0.358443  0.463532          0.422503   \n",
       "Long passes               0.133691   0.278922  0.153577          0.124919   \n",
       "Through balls             0.335791   0.212506  0.424823          0.514365   \n",
       "Goals scored per attempt  0.248743   0.214110  0.602832          0.550509   \n",
       "\n",
       "                          Aerial duels    Passes  Short passes  Long passes  \\\n",
       "Team                         -0.014518  0.052544      0.094017     0.008025   \n",
       "Position                     -0.212731 -0.102913     -0.142627    -0.061975   \n",
       "Shirt number                 -0.283212 -0.234597     -0.212086    -0.312927   \n",
       "Name                         -0.005584  0.030260     -0.000779    -0.024850   \n",
       "Minutes played               -0.241275 -0.125847     -0.163448    -0.241243   \n",
       "...                                ...       ...           ...          ...   \n",
       "Passes                        0.259950  1.000000      0.747886     0.198307   \n",
       "Short passes                  0.385506  0.747886      1.000000     0.070822   \n",
       "Long passes                   0.152764  0.198307      0.070822     1.000000   \n",
       "Through balls                 0.141972  0.065244      0.094051     0.032614   \n",
       "Goals scored per attempt      0.499636  0.248722      0.292486    -0.032662   \n",
       "\n",
       "                          Through balls  Goals scored per attempt  \n",
       "Team                          -0.021761                  0.032159  \n",
       "Position                       0.117488                 -0.035160  \n",
       "Shirt number                  -0.116210                 -0.192949  \n",
       "Name                           0.022779                  0.032008  \n",
       "Minutes played                -0.139585                 -0.191986  \n",
       "...                                 ...                       ...  \n",
       "Passes                         0.065244                  0.248722  \n",
       "Short passes                   0.094051                  0.292486  \n",
       "Long passes                    0.032614                 -0.032662  \n",
       "Through balls                  1.000000                  0.482900  \n",
       "Goals scored per attempt       0.482900                  1.000000  \n",
       "\n",
       "[62 rows x 62 columns]"
      ]
     },
     "execution_count": 165,
     "metadata": {},
     "output_type": "execute_result"
    }
   ],
   "source": [
    "df.corr()"
   ]
  },
  {
   "cell_type": "code",
   "execution_count": 167,
   "id": "331875be-4f18-4ecb-a835-37282442aef3",
   "metadata": {},
   "outputs": [
    {
     "data": {
      "text/html": [
       "<div>\n",
       "<style scoped>\n",
       "    .dataframe tbody tr th:only-of-type {\n",
       "        vertical-align: middle;\n",
       "    }\n",
       "\n",
       "    .dataframe tbody tr th {\n",
       "        vertical-align: top;\n",
       "    }\n",
       "\n",
       "    .dataframe thead th {\n",
       "        text-align: right;\n",
       "    }\n",
       "</style>\n",
       "<table border=\"1\" class=\"dataframe\">\n",
       "  <thead>\n",
       "    <tr style=\"text-align: right;\">\n",
       "      <th></th>\n",
       "      <th>Team</th>\n",
       "      <th>Position</th>\n",
       "      <th>Shirt number</th>\n",
       "      <th>Name</th>\n",
       "      <th>Minutes played</th>\n",
       "      <th>Games played</th>\n",
       "      <th>Percentage of games played</th>\n",
       "      <th>Full games played</th>\n",
       "      <th>Percentage of full games played</th>\n",
       "      <th>Games started</th>\n",
       "      <th>...</th>\n",
       "      <th>Corners</th>\n",
       "      <th>Tackles.1</th>\n",
       "      <th>Duels</th>\n",
       "      <th>Man-to-man duels</th>\n",
       "      <th>Aerial duels</th>\n",
       "      <th>Passes</th>\n",
       "      <th>Short passes</th>\n",
       "      <th>Long passes</th>\n",
       "      <th>Through balls</th>\n",
       "      <th>Goals scored per attempt</th>\n",
       "    </tr>\n",
       "  </thead>\n",
       "  <tbody>\n",
       "    <tr>\n",
       "      <th>count</th>\n",
       "      <td>556.000000</td>\n",
       "      <td>556.000000</td>\n",
       "      <td>526.000000</td>\n",
       "      <td>556.000000</td>\n",
       "      <td>556.000000</td>\n",
       "      <td>556.000000</td>\n",
       "      <td>556.000000</td>\n",
       "      <td>556.000000</td>\n",
       "      <td>556.000000</td>\n",
       "      <td>556.000000</td>\n",
       "      <td>...</td>\n",
       "      <td>556.000000</td>\n",
       "      <td>556.000000</td>\n",
       "      <td>556.000000</td>\n",
       "      <td>556.000000</td>\n",
       "      <td>556.000000</td>\n",
       "      <td>556.000000</td>\n",
       "      <td>556.000000</td>\n",
       "      <td>556.000000</td>\n",
       "      <td>556.000000</td>\n",
       "      <td>556.000000</td>\n",
       "    </tr>\n",
       "    <tr>\n",
       "      <th>mean</th>\n",
       "      <td>9.375899</td>\n",
       "      <td>1.561151</td>\n",
       "      <td>15.688213</td>\n",
       "      <td>273.451439</td>\n",
       "      <td>125.863646</td>\n",
       "      <td>18.602518</td>\n",
       "      <td>0.489604</td>\n",
       "      <td>10.798561</td>\n",
       "      <td>0.284532</td>\n",
       "      <td>14.825540</td>\n",
       "      <td>...</td>\n",
       "      <td>6.485612</td>\n",
       "      <td>22.598921</td>\n",
       "      <td>151.870504</td>\n",
       "      <td>102.411871</td>\n",
       "      <td>49.458633</td>\n",
       "      <td>298.276849</td>\n",
       "      <td>287.366338</td>\n",
       "      <td>86.906475</td>\n",
       "      <td>1.705036</td>\n",
       "      <td>1.059353</td>\n",
       "    </tr>\n",
       "    <tr>\n",
       "      <th>std</th>\n",
       "      <td>5.729084</td>\n",
       "      <td>1.306202</td>\n",
       "      <td>10.143810</td>\n",
       "      <td>157.964734</td>\n",
       "      <td>239.665055</td>\n",
       "      <td>12.462351</td>\n",
       "      <td>0.327632</td>\n",
       "      <td>10.560289</td>\n",
       "      <td>0.277737</td>\n",
       "      <td>11.746272</td>\n",
       "      <td>...</td>\n",
       "      <td>19.998328</td>\n",
       "      <td>22.882684</td>\n",
       "      <td>137.610291</td>\n",
       "      <td>97.469928</td>\n",
       "      <td>58.638456</td>\n",
       "      <td>323.996696</td>\n",
       "      <td>303.818053</td>\n",
       "      <td>126.842323</td>\n",
       "      <td>4.109673</td>\n",
       "      <td>1.746575</td>\n",
       "    </tr>\n",
       "    <tr>\n",
       "      <th>min</th>\n",
       "      <td>0.000000</td>\n",
       "      <td>0.000000</td>\n",
       "      <td>1.000000</td>\n",
       "      <td>0.000000</td>\n",
       "      <td>0.000000</td>\n",
       "      <td>0.000000</td>\n",
       "      <td>0.000000</td>\n",
       "      <td>0.000000</td>\n",
       "      <td>0.000000</td>\n",
       "      <td>0.000000</td>\n",
       "      <td>...</td>\n",
       "      <td>0.000000</td>\n",
       "      <td>0.000000</td>\n",
       "      <td>0.000000</td>\n",
       "      <td>0.000000</td>\n",
       "      <td>0.000000</td>\n",
       "      <td>0.000000</td>\n",
       "      <td>0.000000</td>\n",
       "      <td>0.000000</td>\n",
       "      <td>0.000000</td>\n",
       "      <td>0.000000</td>\n",
       "    </tr>\n",
       "    <tr>\n",
       "      <th>25%</th>\n",
       "      <td>4.000000</td>\n",
       "      <td>0.000000</td>\n",
       "      <td>7.250000</td>\n",
       "      <td>136.750000</td>\n",
       "      <td>1.546250</td>\n",
       "      <td>6.000000</td>\n",
       "      <td>0.160000</td>\n",
       "      <td>1.000000</td>\n",
       "      <td>0.030000</td>\n",
       "      <td>3.750000</td>\n",
       "      <td>...</td>\n",
       "      <td>0.000000</td>\n",
       "      <td>2.000000</td>\n",
       "      <td>20.000000</td>\n",
       "      <td>12.000000</td>\n",
       "      <td>6.750000</td>\n",
       "      <td>1.436000</td>\n",
       "      <td>1.701750</td>\n",
       "      <td>7.000000</td>\n",
       "      <td>0.000000</td>\n",
       "      <td>0.000000</td>\n",
       "    </tr>\n",
       "    <tr>\n",
       "      <th>50%</th>\n",
       "      <td>10.000000</td>\n",
       "      <td>1.000000</td>\n",
       "      <td>15.000000</td>\n",
       "      <td>273.500000</td>\n",
       "      <td>2.413000</td>\n",
       "      <td>20.000000</td>\n",
       "      <td>0.530000</td>\n",
       "      <td>8.000000</td>\n",
       "      <td>0.210000</td>\n",
       "      <td>14.500000</td>\n",
       "      <td>...</td>\n",
       "      <td>0.000000</td>\n",
       "      <td>16.000000</td>\n",
       "      <td>127.000000</td>\n",
       "      <td>79.000000</td>\n",
       "      <td>32.000000</td>\n",
       "      <td>165.000000</td>\n",
       "      <td>166.000000</td>\n",
       "      <td>43.500000</td>\n",
       "      <td>0.000000</td>\n",
       "      <td>0.000000</td>\n",
       "    </tr>\n",
       "    <tr>\n",
       "      <th>75%</th>\n",
       "      <td>14.000000</td>\n",
       "      <td>3.000000</td>\n",
       "      <td>22.000000</td>\n",
       "      <td>410.250000</td>\n",
       "      <td>90.000000</td>\n",
       "      <td>31.000000</td>\n",
       "      <td>0.820000</td>\n",
       "      <td>18.250000</td>\n",
       "      <td>0.477500</td>\n",
       "      <td>25.000000</td>\n",
       "      <td>...</td>\n",
       "      <td>1.000000</td>\n",
       "      <td>38.000000</td>\n",
       "      <td>247.000000</td>\n",
       "      <td>170.000000</td>\n",
       "      <td>73.250000</td>\n",
       "      <td>579.250000</td>\n",
       "      <td>549.500000</td>\n",
       "      <td>113.500000</td>\n",
       "      <td>2.000000</td>\n",
       "      <td>1.000000</td>\n",
       "    </tr>\n",
       "    <tr>\n",
       "      <th>max</th>\n",
       "      <td>19.000000</td>\n",
       "      <td>3.000000</td>\n",
       "      <td>57.000000</td>\n",
       "      <td>546.000000</td>\n",
       "      <td>999.000000</td>\n",
       "      <td>38.000000</td>\n",
       "      <td>1.000000</td>\n",
       "      <td>38.000000</td>\n",
       "      <td>1.000000</td>\n",
       "      <td>38.000000</td>\n",
       "      <td>...</td>\n",
       "      <td>170.000000</td>\n",
       "      <td>110.000000</td>\n",
       "      <td>746.000000</td>\n",
       "      <td>452.000000</td>\n",
       "      <td>442.000000</td>\n",
       "      <td>987.000000</td>\n",
       "      <td>987.000000</td>\n",
       "      <td>988.000000</td>\n",
       "      <td>70.000000</td>\n",
       "      <td>10.000000</td>\n",
       "    </tr>\n",
       "  </tbody>\n",
       "</table>\n",
       "<p>8 rows × 62 columns</p>\n",
       "</div>"
      ],
      "text/plain": [
       "             Team    Position  Shirt number        Name  Minutes played  \\\n",
       "count  556.000000  556.000000    526.000000  556.000000      556.000000   \n",
       "mean     9.375899    1.561151     15.688213  273.451439      125.863646   \n",
       "std      5.729084    1.306202     10.143810  157.964734      239.665055   \n",
       "min      0.000000    0.000000      1.000000    0.000000        0.000000   \n",
       "25%      4.000000    0.000000      7.250000  136.750000        1.546250   \n",
       "50%     10.000000    1.000000     15.000000  273.500000        2.413000   \n",
       "75%     14.000000    3.000000     22.000000  410.250000       90.000000   \n",
       "max     19.000000    3.000000     57.000000  546.000000      999.000000   \n",
       "\n",
       "       Games played  Percentage of games played  Full games played  \\\n",
       "count    556.000000                  556.000000         556.000000   \n",
       "mean      18.602518                    0.489604          10.798561   \n",
       "std       12.462351                    0.327632          10.560289   \n",
       "min        0.000000                    0.000000           0.000000   \n",
       "25%        6.000000                    0.160000           1.000000   \n",
       "50%       20.000000                    0.530000           8.000000   \n",
       "75%       31.000000                    0.820000          18.250000   \n",
       "max       38.000000                    1.000000          38.000000   \n",
       "\n",
       "       Percentage of full games played  Games started  ...     Corners  \\\n",
       "count                       556.000000     556.000000  ...  556.000000   \n",
       "mean                          0.284532      14.825540  ...    6.485612   \n",
       "std                           0.277737      11.746272  ...   19.998328   \n",
       "min                           0.000000       0.000000  ...    0.000000   \n",
       "25%                           0.030000       3.750000  ...    0.000000   \n",
       "50%                           0.210000      14.500000  ...    0.000000   \n",
       "75%                           0.477500      25.000000  ...    1.000000   \n",
       "max                           1.000000      38.000000  ...  170.000000   \n",
       "\n",
       "        Tackles.1       Duels  Man-to-man duels  Aerial duels      Passes  \\\n",
       "count  556.000000  556.000000        556.000000    556.000000  556.000000   \n",
       "mean    22.598921  151.870504        102.411871     49.458633  298.276849   \n",
       "std     22.882684  137.610291         97.469928     58.638456  323.996696   \n",
       "min      0.000000    0.000000          0.000000      0.000000    0.000000   \n",
       "25%      2.000000   20.000000         12.000000      6.750000    1.436000   \n",
       "50%     16.000000  127.000000         79.000000     32.000000  165.000000   \n",
       "75%     38.000000  247.000000        170.000000     73.250000  579.250000   \n",
       "max    110.000000  746.000000        452.000000    442.000000  987.000000   \n",
       "\n",
       "       Short passes  Long passes  Through balls  Goals scored per attempt  \n",
       "count    556.000000   556.000000     556.000000                556.000000  \n",
       "mean     287.366338    86.906475       1.705036                  1.059353  \n",
       "std      303.818053   126.842323       4.109673                  1.746575  \n",
       "min        0.000000     0.000000       0.000000                  0.000000  \n",
       "25%        1.701750     7.000000       0.000000                  0.000000  \n",
       "50%      166.000000    43.500000       0.000000                  0.000000  \n",
       "75%      549.500000   113.500000       2.000000                  1.000000  \n",
       "max      987.000000   988.000000      70.000000                 10.000000  \n",
       "\n",
       "[8 rows x 62 columns]"
      ]
     },
     "execution_count": 167,
     "metadata": {},
     "output_type": "execute_result"
    }
   ],
   "source": [
    "df.describe()"
   ]
  },
  {
   "cell_type": "code",
   "execution_count": 169,
   "id": "7e034d39-e16a-4c10-8c98-8ce6016673fa",
   "metadata": {},
   "outputs": [
    {
     "data": {
      "text/plain": [
       "array([0.00000000e+000, 7.44316575e-134,             nan, 0.00000000e+000,\n",
       "       1.10547088e-299, 0.00000000e+000, 4.66057071e-129, 3.55087566e-272,\n",
       "       4.66057071e-129, 0.00000000e+000, 4.66057071e-129, 2.25519965e-282,\n",
       "       4.66057071e-129, 1.91460752e-175, 4.66057071e-129, 4.66057071e-129,\n",
       "       4.66057071e-129, 4.66057071e-129, 4.66057071e-129, 0.00000000e+000,\n",
       "       4.66057071e-129, 3.10354558e-277, 0.00000000e+000, 0.00000000e+000,\n",
       "       2.36051860e-289, 3.91444942e-251, 4.66057071e-129, 0.00000000e+000,\n",
       "       0.00000000e+000, 0.00000000e+000, 0.00000000e+000, 4.66057071e-129,\n",
       "       0.00000000e+000, 7.86543570e-315, 4.66057071e-129, 4.66057071e-129,\n",
       "       4.66057071e-129, 2.82494184e-185, 2.33281998e-240, 1.57904531e-138,\n",
       "       4.66057071e-129, 2.81484759e-214, 1.91460752e-175, 4.66057071e-129,\n",
       "       4.66057071e-129, 4.66057071e-129, 4.66057071e-129, 4.66057071e-129,\n",
       "       4.66057071e-129, 4.66057071e-129, 4.66057071e-129, 4.73890665e-202,\n",
       "       4.66057071e-129, 9.64750228e-317, 0.00000000e+000, 0.00000000e+000,\n",
       "       0.00000000e+000, 5.42343159e-294, 1.11313904e-293, 0.00000000e+000,\n",
       "       4.66057071e-129])"
      ]
     },
     "execution_count": 169,
     "metadata": {},
     "output_type": "execute_result"
    }
   ],
   "source": [
    "from scipy.stats import *\n",
    "\n",
    "kstest(X, \"norm\").pvalue #p-value for each row\n",
    "#kstest(df[\"\"], \"norm\").pvalue #p-value for each column"
   ]
  },
  {
   "cell_type": "code",
   "execution_count": 177,
   "id": "a2255981-4577-4ef6-aa94-7e504f92fdbc",
   "metadata": {},
   "outputs": [
    {
     "name": "stderr",
     "output_type": "stream",
     "text": [
      "/var/folders/wd/yv2kv5sn1kn30nq5ppyppw6r0000gn/T/ipykernel_88045/1510222265.py:1: DeprecationWarning: Please import `zscore` from the `scipy.stats` namespace; the `scipy.stats.stats` namespace is deprecated and will be removed in SciPy 2.0.0.\n",
      "  stats.zscore(df) #Find outliers\n"
     ]
    },
    {
     "data": {
      "text/html": [
       "<div>\n",
       "<style scoped>\n",
       "    .dataframe tbody tr th:only-of-type {\n",
       "        vertical-align: middle;\n",
       "    }\n",
       "\n",
       "    .dataframe tbody tr th {\n",
       "        vertical-align: top;\n",
       "    }\n",
       "\n",
       "    .dataframe thead th {\n",
       "        text-align: right;\n",
       "    }\n",
       "</style>\n",
       "<table border=\"1\" class=\"dataframe\">\n",
       "  <thead>\n",
       "    <tr style=\"text-align: right;\">\n",
       "      <th></th>\n",
       "      <th>Team</th>\n",
       "      <th>Position</th>\n",
       "      <th>Shirt number</th>\n",
       "      <th>Name</th>\n",
       "      <th>Minutes played</th>\n",
       "      <th>Games played</th>\n",
       "      <th>Percentage of games played</th>\n",
       "      <th>Full games played</th>\n",
       "      <th>Percentage of full games played</th>\n",
       "      <th>Games started</th>\n",
       "      <th>...</th>\n",
       "      <th>Corners</th>\n",
       "      <th>Tackles.1</th>\n",
       "      <th>Duels</th>\n",
       "      <th>Man-to-man duels</th>\n",
       "      <th>Aerial duels</th>\n",
       "      <th>Passes</th>\n",
       "      <th>Short passes</th>\n",
       "      <th>Long passes</th>\n",
       "      <th>Through balls</th>\n",
       "      <th>Goals scored per attempt</th>\n",
       "    </tr>\n",
       "  </thead>\n",
       "  <tbody>\n",
       "    <tr>\n",
       "      <th>0</th>\n",
       "      <td>-1.638018</td>\n",
       "      <td>0.336276</td>\n",
       "      <td>NaN</td>\n",
       "      <td>-0.465405</td>\n",
       "      <td>-0.525638</td>\n",
       "      <td>-1.494041</td>\n",
       "      <td>-1.495720</td>\n",
       "      <td>-1.023484</td>\n",
       "      <td>-1.025389</td>\n",
       "      <td>-1.263285</td>\n",
       "      <td>...</td>\n",
       "      <td>-0.324600</td>\n",
       "      <td>-0.988489</td>\n",
       "      <td>-1.104621</td>\n",
       "      <td>-1.051648</td>\n",
       "      <td>-0.844210</td>\n",
       "      <td>-0.921446</td>\n",
       "      <td>-0.946702</td>\n",
       "      <td>-0.685771</td>\n",
       "      <td>-0.415257</td>\n",
       "      <td>-0.607077</td>\n",
       "    </tr>\n",
       "    <tr>\n",
       "      <th>1</th>\n",
       "      <td>-1.638018</td>\n",
       "      <td>0.336276</td>\n",
       "      <td>NaN</td>\n",
       "      <td>-1.713642</td>\n",
       "      <td>-0.525638</td>\n",
       "      <td>-1.494041</td>\n",
       "      <td>-1.495720</td>\n",
       "      <td>-1.023484</td>\n",
       "      <td>-1.025389</td>\n",
       "      <td>-1.263285</td>\n",
       "      <td>...</td>\n",
       "      <td>-0.324600</td>\n",
       "      <td>-0.988489</td>\n",
       "      <td>-1.104621</td>\n",
       "      <td>-1.051648</td>\n",
       "      <td>-0.844210</td>\n",
       "      <td>-0.921446</td>\n",
       "      <td>-0.946702</td>\n",
       "      <td>-0.685771</td>\n",
       "      <td>-0.415257</td>\n",
       "      <td>-0.607077</td>\n",
       "    </tr>\n",
       "    <tr>\n",
       "      <th>2</th>\n",
       "      <td>-1.638018</td>\n",
       "      <td>0.336276</td>\n",
       "      <td>NaN</td>\n",
       "      <td>-0.484414</td>\n",
       "      <td>-0.513986</td>\n",
       "      <td>0.995691</td>\n",
       "      <td>1.009344</td>\n",
       "      <td>1.914685</td>\n",
       "      <td>1.929701</td>\n",
       "      <td>1.378227</td>\n",
       "      <td>...</td>\n",
       "      <td>-0.324600</td>\n",
       "      <td>-0.988489</td>\n",
       "      <td>-0.922785</td>\n",
       "      <td>-0.990036</td>\n",
       "      <td>-0.519899</td>\n",
       "      <td>1.818702</td>\n",
       "      <td>-0.525018</td>\n",
       "      <td>5.303425</td>\n",
       "      <td>-0.171710</td>\n",
       "      <td>-0.607077</td>\n",
       "    </tr>\n",
       "    <tr>\n",
       "      <th>3</th>\n",
       "      <td>-1.638018</td>\n",
       "      <td>0.336276</td>\n",
       "      <td>NaN</td>\n",
       "      <td>1.422791</td>\n",
       "      <td>2.105398</td>\n",
       "      <td>-0.931844</td>\n",
       "      <td>-0.945828</td>\n",
       "      <td>-0.360026</td>\n",
       "      <td>-0.376710</td>\n",
       "      <td>-0.666815</td>\n",
       "      <td>...</td>\n",
       "      <td>-0.324600</td>\n",
       "      <td>-0.988489</td>\n",
       "      <td>-1.082801</td>\n",
       "      <td>-1.031111</td>\n",
       "      <td>-0.827141</td>\n",
       "      <td>-0.442615</td>\n",
       "      <td>-0.785276</td>\n",
       "      <td>0.150665</td>\n",
       "      <td>-0.415257</td>\n",
       "      <td>-0.607077</td>\n",
       "    </tr>\n",
       "    <tr>\n",
       "      <th>4</th>\n",
       "      <td>-1.638018</td>\n",
       "      <td>-1.196260</td>\n",
       "      <td>NaN</td>\n",
       "      <td>0.611754</td>\n",
       "      <td>-0.521198</td>\n",
       "      <td>-0.530274</td>\n",
       "      <td>-0.518134</td>\n",
       "      <td>0.019092</td>\n",
       "      <td>0.019704</td>\n",
       "      <td>-0.325974</td>\n",
       "      <td>...</td>\n",
       "      <td>-0.324600</td>\n",
       "      <td>-0.332381</td>\n",
       "      <td>-0.326363</td>\n",
       "      <td>-0.661433</td>\n",
       "      <td>0.333552</td>\n",
       "      <td>0.734382</td>\n",
       "      <td>0.558842</td>\n",
       "      <td>-0.070280</td>\n",
       "      <td>-0.171710</td>\n",
       "      <td>-0.607077</td>\n",
       "    </tr>\n",
       "    <tr>\n",
       "      <th>...</th>\n",
       "      <td>...</td>\n",
       "      <td>...</td>\n",
       "      <td>...</td>\n",
       "      <td>...</td>\n",
       "      <td>...</td>\n",
       "      <td>...</td>\n",
       "      <td>...</td>\n",
       "      <td>...</td>\n",
       "      <td>...</td>\n",
       "      <td>...</td>\n",
       "      <td>...</td>\n",
       "      <td>...</td>\n",
       "      <td>...</td>\n",
       "      <td>...</td>\n",
       "      <td>...</td>\n",
       "      <td>...</td>\n",
       "      <td>...</td>\n",
       "      <td>...</td>\n",
       "      <td>...</td>\n",
       "      <td>...</td>\n",
       "      <td>...</td>\n",
       "    </tr>\n",
       "    <tr>\n",
       "      <th>551</th>\n",
       "      <td>1.681380</td>\n",
       "      <td>1.102544</td>\n",
       "      <td>NaN</td>\n",
       "      <td>-0.351353</td>\n",
       "      <td>-0.525638</td>\n",
       "      <td>-1.494041</td>\n",
       "      <td>-1.495720</td>\n",
       "      <td>-1.023484</td>\n",
       "      <td>-1.025389</td>\n",
       "      <td>-1.263285</td>\n",
       "      <td>...</td>\n",
       "      <td>-0.324600</td>\n",
       "      <td>-0.988489</td>\n",
       "      <td>-1.104621</td>\n",
       "      <td>-1.051648</td>\n",
       "      <td>-0.844210</td>\n",
       "      <td>-0.921446</td>\n",
       "      <td>-0.946702</td>\n",
       "      <td>-0.685771</td>\n",
       "      <td>-0.415257</td>\n",
       "      <td>-0.607077</td>\n",
       "    </tr>\n",
       "    <tr>\n",
       "      <th>552</th>\n",
       "      <td>1.681380</td>\n",
       "      <td>1.102544</td>\n",
       "      <td>NaN</td>\n",
       "      <td>-1.536227</td>\n",
       "      <td>-0.525638</td>\n",
       "      <td>-1.494041</td>\n",
       "      <td>-1.495720</td>\n",
       "      <td>-1.023484</td>\n",
       "      <td>-1.025389</td>\n",
       "      <td>-1.263285</td>\n",
       "      <td>...</td>\n",
       "      <td>-0.324600</td>\n",
       "      <td>-0.988489</td>\n",
       "      <td>-1.104621</td>\n",
       "      <td>-1.051648</td>\n",
       "      <td>-0.844210</td>\n",
       "      <td>-0.921446</td>\n",
       "      <td>-0.946702</td>\n",
       "      <td>-0.685771</td>\n",
       "      <td>-0.415257</td>\n",
       "      <td>-0.607077</td>\n",
       "    </tr>\n",
       "    <tr>\n",
       "      <th>553</th>\n",
       "      <td>1.681380</td>\n",
       "      <td>-0.429992</td>\n",
       "      <td>NaN</td>\n",
       "      <td>-0.636483</td>\n",
       "      <td>-0.515961</td>\n",
       "      <td>1.316946</td>\n",
       "      <td>1.314840</td>\n",
       "      <td>0.492991</td>\n",
       "      <td>0.488194</td>\n",
       "      <td>0.866966</td>\n",
       "      <td>...</td>\n",
       "      <td>-0.324600</td>\n",
       "      <td>0.017543</td>\n",
       "      <td>1.397443</td>\n",
       "      <td>1.197222</td>\n",
       "      <td>1.289416</td>\n",
       "      <td>1.364585</td>\n",
       "      <td>1.280318</td>\n",
       "      <td>-0.220207</td>\n",
       "      <td>0.802480</td>\n",
       "      <td>2.831310</td>\n",
       "    </tr>\n",
       "    <tr>\n",
       "      <th>554</th>\n",
       "      <td>1.681380</td>\n",
       "      <td>-0.429992</td>\n",
       "      <td>NaN</td>\n",
       "      <td>-1.403167</td>\n",
       "      <td>-0.520380</td>\n",
       "      <td>1.156318</td>\n",
       "      <td>1.162092</td>\n",
       "      <td>-0.833925</td>\n",
       "      <td>-0.845200</td>\n",
       "      <td>-0.240764</td>\n",
       "      <td>...</td>\n",
       "      <td>-0.274551</td>\n",
       "      <td>-0.813526</td>\n",
       "      <td>-0.180894</td>\n",
       "      <td>-0.230143</td>\n",
       "      <td>-0.041966</td>\n",
       "      <td>-0.087354</td>\n",
       "      <td>-0.116511</td>\n",
       "      <td>-0.559516</td>\n",
       "      <td>0.071838</td>\n",
       "      <td>2.258246</td>\n",
       "    </tr>\n",
       "    <tr>\n",
       "      <th>555</th>\n",
       "      <td>1.681380</td>\n",
       "      <td>-0.429992</td>\n",
       "      <td>NaN</td>\n",
       "      <td>1.372101</td>\n",
       "      <td>-0.516667</td>\n",
       "      <td>1.236632</td>\n",
       "      <td>1.223191</td>\n",
       "      <td>0.019092</td>\n",
       "      <td>0.019704</td>\n",
       "      <td>0.781756</td>\n",
       "      <td>...</td>\n",
       "      <td>-0.324600</td>\n",
       "      <td>-0.507343</td>\n",
       "      <td>0.844661</td>\n",
       "      <td>0.868620</td>\n",
       "      <td>0.538380</td>\n",
       "      <td>0.626259</td>\n",
       "      <td>0.624731</td>\n",
       "      <td>-0.504280</td>\n",
       "      <td>-0.171710</td>\n",
       "      <td>2.258246</td>\n",
       "    </tr>\n",
       "  </tbody>\n",
       "</table>\n",
       "<p>556 rows × 62 columns</p>\n",
       "</div>"
      ],
      "text/plain": [
       "         Team  Position  Shirt number      Name  Minutes played  Games played  \\\n",
       "0   -1.638018  0.336276           NaN -0.465405       -0.525638     -1.494041   \n",
       "1   -1.638018  0.336276           NaN -1.713642       -0.525638     -1.494041   \n",
       "2   -1.638018  0.336276           NaN -0.484414       -0.513986      0.995691   \n",
       "3   -1.638018  0.336276           NaN  1.422791        2.105398     -0.931844   \n",
       "4   -1.638018 -1.196260           NaN  0.611754       -0.521198     -0.530274   \n",
       "..        ...       ...           ...       ...             ...           ...   \n",
       "551  1.681380  1.102544           NaN -0.351353       -0.525638     -1.494041   \n",
       "552  1.681380  1.102544           NaN -1.536227       -0.525638     -1.494041   \n",
       "553  1.681380 -0.429992           NaN -0.636483       -0.515961      1.316946   \n",
       "554  1.681380 -0.429992           NaN -1.403167       -0.520380      1.156318   \n",
       "555  1.681380 -0.429992           NaN  1.372101       -0.516667      1.236632   \n",
       "\n",
       "     Percentage of games played  Full games played  \\\n",
       "0                     -1.495720          -1.023484   \n",
       "1                     -1.495720          -1.023484   \n",
       "2                      1.009344           1.914685   \n",
       "3                     -0.945828          -0.360026   \n",
       "4                     -0.518134           0.019092   \n",
       "..                          ...                ...   \n",
       "551                   -1.495720          -1.023484   \n",
       "552                   -1.495720          -1.023484   \n",
       "553                    1.314840           0.492991   \n",
       "554                    1.162092          -0.833925   \n",
       "555                    1.223191           0.019092   \n",
       "\n",
       "     Percentage of full games played  Games started  ...   Corners  Tackles.1  \\\n",
       "0                          -1.025389      -1.263285  ... -0.324600  -0.988489   \n",
       "1                          -1.025389      -1.263285  ... -0.324600  -0.988489   \n",
       "2                           1.929701       1.378227  ... -0.324600  -0.988489   \n",
       "3                          -0.376710      -0.666815  ... -0.324600  -0.988489   \n",
       "4                           0.019704      -0.325974  ... -0.324600  -0.332381   \n",
       "..                               ...            ...  ...       ...        ...   \n",
       "551                        -1.025389      -1.263285  ... -0.324600  -0.988489   \n",
       "552                        -1.025389      -1.263285  ... -0.324600  -0.988489   \n",
       "553                         0.488194       0.866966  ... -0.324600   0.017543   \n",
       "554                        -0.845200      -0.240764  ... -0.274551  -0.813526   \n",
       "555                         0.019704       0.781756  ... -0.324600  -0.507343   \n",
       "\n",
       "        Duels  Man-to-man duels  Aerial duels    Passes  Short passes  \\\n",
       "0   -1.104621         -1.051648     -0.844210 -0.921446     -0.946702   \n",
       "1   -1.104621         -1.051648     -0.844210 -0.921446     -0.946702   \n",
       "2   -0.922785         -0.990036     -0.519899  1.818702     -0.525018   \n",
       "3   -1.082801         -1.031111     -0.827141 -0.442615     -0.785276   \n",
       "4   -0.326363         -0.661433      0.333552  0.734382      0.558842   \n",
       "..        ...               ...           ...       ...           ...   \n",
       "551 -1.104621         -1.051648     -0.844210 -0.921446     -0.946702   \n",
       "552 -1.104621         -1.051648     -0.844210 -0.921446     -0.946702   \n",
       "553  1.397443          1.197222      1.289416  1.364585      1.280318   \n",
       "554 -0.180894         -0.230143     -0.041966 -0.087354     -0.116511   \n",
       "555  0.844661          0.868620      0.538380  0.626259      0.624731   \n",
       "\n",
       "     Long passes  Through balls  Goals scored per attempt  \n",
       "0      -0.685771      -0.415257                 -0.607077  \n",
       "1      -0.685771      -0.415257                 -0.607077  \n",
       "2       5.303425      -0.171710                 -0.607077  \n",
       "3       0.150665      -0.415257                 -0.607077  \n",
       "4      -0.070280      -0.171710                 -0.607077  \n",
       "..           ...            ...                       ...  \n",
       "551    -0.685771      -0.415257                 -0.607077  \n",
       "552    -0.685771      -0.415257                 -0.607077  \n",
       "553    -0.220207       0.802480                  2.831310  \n",
       "554    -0.559516       0.071838                  2.258246  \n",
       "555    -0.504280      -0.171710                  2.258246  \n",
       "\n",
       "[556 rows x 62 columns]"
      ]
     },
     "execution_count": 177,
     "metadata": {},
     "output_type": "execute_result"
    }
   ],
   "source": [
    "stats.zscore(df) #Find outliers"
   ]
  },
  {
   "cell_type": "code",
   "execution_count": 185,
   "id": "7a5a9585-54d0-4abe-b3f6-7d282a3b880e",
   "metadata": {},
   "outputs": [
    {
     "data": {
      "text/plain": [
       "{'whiskers': [<matplotlib.lines.Line2D at 0x1754e4080>,\n",
       "  <matplotlib.lines.Line2D at 0x1754e4500>],\n",
       " 'caps': [<matplotlib.lines.Line2D at 0x1754e4560>,\n",
       "  <matplotlib.lines.Line2D at 0x1754d8c80>],\n",
       " 'boxes': [<matplotlib.lines.Line2D at 0x1754dbec0>],\n",
       " 'medians': [<matplotlib.lines.Line2D at 0x1754e4ec0>],\n",
       " 'fliers': [<matplotlib.lines.Line2D at 0x1754e4c50>],\n",
       " 'means': []}"
      ]
     },
     "execution_count": 185,
     "metadata": {},
     "output_type": "execute_result"
    },
    {
     "data": {
      "image/png": "[encoded data removed]",
      "text/plain": [
       "<Figure size 640x480 with 1 Axes>"
      ]
     },
     "metadata": {},
     "output_type": "display_data"
    }
   ],
   "source": [
    "import matplotlib.pyplot as plt\n",
    "import seaborn as sn\n",
    "\n",
    "#When dealing with very large data-sets/working with others using graphs to see things would be beneficial to everyone's sanity\n",
    "plt.boxplot(X[\"Short passes\"])"
   ]
  },
  {
   "cell_type": "code",
   "execution_count": 187,
   "id": "07a481c7-1180-47af-b812-793859b7fdc3",
   "metadata": {},
   "outputs": [
    {
     "data": {
      "text/plain": [
       "(array([233.,  61.,  40.,  41.,  23.,  31.,  46.,  31.,  31.,  19.]),\n",
       " array([  0. ,  98.7, 197.4, 296.1, 394.8, 493.5, 592.2, 690.9, 789.6,\n",
       "        888.3, 987. ]),\n",
       " <BarContainer object of 10 artists>)"
      ]
     },
     "execution_count": 187,
     "metadata": {},
     "output_type": "execute_result"
    },
    {
     "data": {
      "image/png": "[encoded data removed]",
      "text/plain": [
       "<Figure size 640x480 with 1 Axes>"
      ]
     },
     "metadata": {},
     "output_type": "display_data"
    }
   ],
   "source": [
    "plt.hist(X[\"Short passes\"])"
   ]
  },
  {
   "cell_type": "code",
   "execution_count": 189,
   "id": "4e184485-161b-49ac-b404-4b3be166f235",
   "metadata": {},
   "outputs": [
    {
     "data": {
      "text/html": [
       "<div>\n",
       "<style scoped>\n",
       "    .dataframe tbody tr th:only-of-type {\n",
       "        vertical-align: middle;\n",
       "    }\n",
       "\n",
       "    .dataframe tbody tr th {\n",
       "        vertical-align: top;\n",
       "    }\n",
       "\n",
       "    .dataframe thead th {\n",
       "        text-align: right;\n",
       "    }\n",
       "</style>\n",
       "<table border=\"1\" class=\"dataframe\">\n",
       "  <thead>\n",
       "    <tr style=\"text-align: right;\">\n",
       "      <th></th>\n",
       "      <th>Team</th>\n",
       "      <th>Position</th>\n",
       "      <th>Shirt number</th>\n",
       "      <th>Name</th>\n",
       "      <th>Minutes played</th>\n",
       "      <th>Games played</th>\n",
       "      <th>Percentage of games played</th>\n",
       "      <th>Full games played</th>\n",
       "      <th>Percentage of full games played</th>\n",
       "      <th>Games started</th>\n",
       "      <th>...</th>\n",
       "      <th>Corners</th>\n",
       "      <th>Tackles.1</th>\n",
       "      <th>Duels</th>\n",
       "      <th>Man-to-man duels</th>\n",
       "      <th>Aerial duels</th>\n",
       "      <th>Passes</th>\n",
       "      <th>Short passes</th>\n",
       "      <th>Long passes</th>\n",
       "      <th>Through balls</th>\n",
       "      <th>Goals scored per attempt</th>\n",
       "    </tr>\n",
       "  </thead>\n",
       "  <tbody>\n",
       "    <tr>\n",
       "      <th>0</th>\n",
       "      <td>0</td>\n",
       "      <td>2</td>\n",
       "      <td>NaN</td>\n",
       "      <td>200</td>\n",
       "      <td>0.000</td>\n",
       "      <td>0</td>\n",
       "      <td>0.00</td>\n",
       "      <td>0</td>\n",
       "      <td>0.00</td>\n",
       "      <td>0</td>\n",
       "      <td>...</td>\n",
       "      <td>0</td>\n",
       "      <td>0</td>\n",
       "      <td>0</td>\n",
       "      <td>0</td>\n",
       "      <td>0</td>\n",
       "      <td>0.0</td>\n",
       "      <td>0.0</td>\n",
       "      <td>0</td>\n",
       "      <td>0</td>\n",
       "      <td>0</td>\n",
       "    </tr>\n",
       "    <tr>\n",
       "      <th>1</th>\n",
       "      <td>0</td>\n",
       "      <td>2</td>\n",
       "      <td>1.0</td>\n",
       "      <td>3</td>\n",
       "      <td>0.000</td>\n",
       "      <td>0</td>\n",
       "      <td>0.00</td>\n",
       "      <td>0</td>\n",
       "      <td>0.00</td>\n",
       "      <td>0</td>\n",
       "      <td>...</td>\n",
       "      <td>0</td>\n",
       "      <td>0</td>\n",
       "      <td>0</td>\n",
       "      <td>0</td>\n",
       "      <td>0</td>\n",
       "      <td>0.0</td>\n",
       "      <td>0.0</td>\n",
       "      <td>0</td>\n",
       "      <td>0</td>\n",
       "      <td>0</td>\n",
       "    </tr>\n",
       "    <tr>\n",
       "      <th>2</th>\n",
       "      <td>0</td>\n",
       "      <td>2</td>\n",
       "      <td>13.0</td>\n",
       "      <td>197</td>\n",
       "      <td>2.790</td>\n",
       "      <td>31</td>\n",
       "      <td>0.82</td>\n",
       "      <td>31</td>\n",
       "      <td>0.82</td>\n",
       "      <td>31</td>\n",
       "      <td>...</td>\n",
       "      <td>0</td>\n",
       "      <td>0</td>\n",
       "      <td>25</td>\n",
       "      <td>6</td>\n",
       "      <td>19</td>\n",
       "      <td>887.0</td>\n",
       "      <td>128.0</td>\n",
       "      <td>759</td>\n",
       "      <td>1</td>\n",
       "      <td>0</td>\n",
       "    </tr>\n",
       "    <tr>\n",
       "      <th>3</th>\n",
       "      <td>0</td>\n",
       "      <td>2</td>\n",
       "      <td>25.0</td>\n",
       "      <td>498</td>\n",
       "      <td>630.000</td>\n",
       "      <td>7</td>\n",
       "      <td>0.18</td>\n",
       "      <td>7</td>\n",
       "      <td>0.18</td>\n",
       "      <td>7</td>\n",
       "      <td>...</td>\n",
       "      <td>0</td>\n",
       "      <td>0</td>\n",
       "      <td>3</td>\n",
       "      <td>2</td>\n",
       "      <td>1</td>\n",
       "      <td>155.0</td>\n",
       "      <td>49.0</td>\n",
       "      <td>106</td>\n",
       "      <td>0</td>\n",
       "      <td>0</td>\n",
       "    </tr>\n",
       "    <tr>\n",
       "      <th>4</th>\n",
       "      <td>0</td>\n",
       "      <td>0</td>\n",
       "      <td>3.0</td>\n",
       "      <td>370</td>\n",
       "      <td>1.063</td>\n",
       "      <td>12</td>\n",
       "      <td>0.32</td>\n",
       "      <td>11</td>\n",
       "      <td>0.29</td>\n",
       "      <td>11</td>\n",
       "      <td>...</td>\n",
       "      <td>0</td>\n",
       "      <td>15</td>\n",
       "      <td>107</td>\n",
       "      <td>38</td>\n",
       "      <td>69</td>\n",
       "      <td>536.0</td>\n",
       "      <td>457.0</td>\n",
       "      <td>78</td>\n",
       "      <td>1</td>\n",
       "      <td>0</td>\n",
       "    </tr>\n",
       "    <tr>\n",
       "      <th>...</th>\n",
       "      <td>...</td>\n",
       "      <td>...</td>\n",
       "      <td>...</td>\n",
       "      <td>...</td>\n",
       "      <td>...</td>\n",
       "      <td>...</td>\n",
       "      <td>...</td>\n",
       "      <td>...</td>\n",
       "      <td>...</td>\n",
       "      <td>...</td>\n",
       "      <td>...</td>\n",
       "      <td>...</td>\n",
       "      <td>...</td>\n",
       "      <td>...</td>\n",
       "      <td>...</td>\n",
       "      <td>...</td>\n",
       "      <td>...</td>\n",
       "      <td>...</td>\n",
       "      <td>...</td>\n",
       "      <td>...</td>\n",
       "      <td>...</td>\n",
       "    </tr>\n",
       "    <tr>\n",
       "      <th>551</th>\n",
       "      <td>19</td>\n",
       "      <td>3</td>\n",
       "      <td>37.0</td>\n",
       "      <td>218</td>\n",
       "      <td>0.000</td>\n",
       "      <td>0</td>\n",
       "      <td>0.00</td>\n",
       "      <td>0</td>\n",
       "      <td>0.00</td>\n",
       "      <td>0</td>\n",
       "      <td>...</td>\n",
       "      <td>0</td>\n",
       "      <td>0</td>\n",
       "      <td>0</td>\n",
       "      <td>0</td>\n",
       "      <td>0</td>\n",
       "      <td>0.0</td>\n",
       "      <td>0.0</td>\n",
       "      <td>0</td>\n",
       "      <td>0</td>\n",
       "      <td>0</td>\n",
       "    </tr>\n",
       "    <tr>\n",
       "      <th>552</th>\n",
       "      <td>19</td>\n",
       "      <td>3</td>\n",
       "      <td>42.0</td>\n",
       "      <td>31</td>\n",
       "      <td>0.000</td>\n",
       "      <td>0</td>\n",
       "      <td>0.00</td>\n",
       "      <td>0</td>\n",
       "      <td>0.00</td>\n",
       "      <td>0</td>\n",
       "      <td>...</td>\n",
       "      <td>0</td>\n",
       "      <td>0</td>\n",
       "      <td>0</td>\n",
       "      <td>0</td>\n",
       "      <td>0</td>\n",
       "      <td>0.0</td>\n",
       "      <td>0.0</td>\n",
       "      <td>0</td>\n",
       "      <td>0</td>\n",
       "      <td>0</td>\n",
       "    </tr>\n",
       "    <tr>\n",
       "      <th>553</th>\n",
       "      <td>19</td>\n",
       "      <td>1</td>\n",
       "      <td>7.0</td>\n",
       "      <td>173</td>\n",
       "      <td>2.317</td>\n",
       "      <td>35</td>\n",
       "      <td>0.92</td>\n",
       "      <td>16</td>\n",
       "      <td>0.42</td>\n",
       "      <td>25</td>\n",
       "      <td>...</td>\n",
       "      <td>0</td>\n",
       "      <td>23</td>\n",
       "      <td>344</td>\n",
       "      <td>219</td>\n",
       "      <td>125</td>\n",
       "      <td>740.0</td>\n",
       "      <td>676.0</td>\n",
       "      <td>59</td>\n",
       "      <td>5</td>\n",
       "      <td>6</td>\n",
       "    </tr>\n",
       "    <tr>\n",
       "      <th>554</th>\n",
       "      <td>19</td>\n",
       "      <td>1</td>\n",
       "      <td>9.0</td>\n",
       "      <td>52</td>\n",
       "      <td>1.259</td>\n",
       "      <td>33</td>\n",
       "      <td>0.87</td>\n",
       "      <td>2</td>\n",
       "      <td>0.05</td>\n",
       "      <td>12</td>\n",
       "      <td>...</td>\n",
       "      <td>1</td>\n",
       "      <td>4</td>\n",
       "      <td>127</td>\n",
       "      <td>80</td>\n",
       "      <td>47</td>\n",
       "      <td>270.0</td>\n",
       "      <td>252.0</td>\n",
       "      <td>16</td>\n",
       "      <td>2</td>\n",
       "      <td>5</td>\n",
       "    </tr>\n",
       "    <tr>\n",
       "      <th>555</th>\n",
       "      <td>19</td>\n",
       "      <td>1</td>\n",
       "      <td>17.0</td>\n",
       "      <td>490</td>\n",
       "      <td>2.148</td>\n",
       "      <td>34</td>\n",
       "      <td>0.89</td>\n",
       "      <td>11</td>\n",
       "      <td>0.29</td>\n",
       "      <td>24</td>\n",
       "      <td>...</td>\n",
       "      <td>0</td>\n",
       "      <td>11</td>\n",
       "      <td>268</td>\n",
       "      <td>187</td>\n",
       "      <td>81</td>\n",
       "      <td>501.0</td>\n",
       "      <td>477.0</td>\n",
       "      <td>23</td>\n",
       "      <td>1</td>\n",
       "      <td>5</td>\n",
       "    </tr>\n",
       "  </tbody>\n",
       "</table>\n",
       "<p>556 rows × 62 columns</p>\n",
       "</div>"
      ],
      "text/plain": [
       "     Team  Position  Shirt number  Name  Minutes played  Games played  \\\n",
       "0       0         2           NaN   200           0.000             0   \n",
       "1       0         2           1.0     3           0.000             0   \n",
       "2       0         2          13.0   197           2.790            31   \n",
       "3       0         2          25.0   498         630.000             7   \n",
       "4       0         0           3.0   370           1.063            12   \n",
       "..    ...       ...           ...   ...             ...           ...   \n",
       "551    19         3          37.0   218           0.000             0   \n",
       "552    19         3          42.0    31           0.000             0   \n",
       "553    19         1           7.0   173           2.317            35   \n",
       "554    19         1           9.0    52           1.259            33   \n",
       "555    19         1          17.0   490           2.148            34   \n",
       "\n",
       "     Percentage of games played  Full games played  \\\n",
       "0                          0.00                  0   \n",
       "1                          0.00                  0   \n",
       "2                          0.82                 31   \n",
       "3                          0.18                  7   \n",
       "4                          0.32                 11   \n",
       "..                          ...                ...   \n",
       "551                        0.00                  0   \n",
       "552                        0.00                  0   \n",
       "553                        0.92                 16   \n",
       "554                        0.87                  2   \n",
       "555                        0.89                 11   \n",
       "\n",
       "     Percentage of full games played  Games started  ...  Corners  Tackles.1  \\\n",
       "0                               0.00              0  ...        0          0   \n",
       "1                               0.00              0  ...        0          0   \n",
       "2                               0.82             31  ...        0          0   \n",
       "3                               0.18              7  ...        0          0   \n",
       "4                               0.29             11  ...        0         15   \n",
       "..                               ...            ...  ...      ...        ...   \n",
       "551                             0.00              0  ...        0          0   \n",
       "552                             0.00              0  ...        0          0   \n",
       "553                             0.42             25  ...        0         23   \n",
       "554                             0.05             12  ...        1          4   \n",
       "555                             0.29             24  ...        0         11   \n",
       "\n",
       "     Duels  Man-to-man duels  Aerial duels  Passes  Short passes  Long passes  \\\n",
       "0        0                 0             0     0.0           0.0            0   \n",
       "1        0                 0             0     0.0           0.0            0   \n",
       "2       25                 6            19   887.0         128.0          759   \n",
       "3        3                 2             1   155.0          49.0          106   \n",
       "4      107                38            69   536.0         457.0           78   \n",
       "..     ...               ...           ...     ...           ...          ...   \n",
       "551      0                 0             0     0.0           0.0            0   \n",
       "552      0                 0             0     0.0           0.0            0   \n",
       "553    344               219           125   740.0         676.0           59   \n",
       "554    127                80            47   270.0         252.0           16   \n",
       "555    268               187            81   501.0         477.0           23   \n",
       "\n",
       "     Through balls  Goals scored per attempt  \n",
       "0                0                         0  \n",
       "1                0                         0  \n",
       "2                1                         0  \n",
       "3                0                         0  \n",
       "4                1                         0  \n",
       "..             ...                       ...  \n",
       "551              0                         0  \n",
       "552              0                         0  \n",
       "553              5                         6  \n",
       "554              2                         5  \n",
       "555              1                         5  \n",
       "\n",
       "[556 rows x 62 columns]"
      ]
     },
     "execution_count": 189,
     "metadata": {},
     "output_type": "execute_result"
    }
   ],
   "source": [
    "df"
   ]
  },
  {
   "cell_type": "markdown",
   "id": "9799c2c1-5acb-41fb-b6ed-07ca4fea2285",
   "metadata": {},
   "source": [
    "## Data Optimization ##"
   ]
  },
  {
   "cell_type": "code",
   "execution_count": null,
   "id": "636dec6d-ea9d-4471-9836-d0526f117ff0",
   "metadata": {},
   "outputs": [],
   "source": [
    "import numpy as np\n",
    "\n",
    "a = 1\n",
    "z = 3 #When dealing with the last column type the column #+1, (who tf knows why but it works)\n",
    "d = df.iloc[0:388, a:z] #[Rows, Columns]\n",
    "f = np.array([[12, 3, 4], [5, 1, 2]]) #Matrix\n",
    "vec_df = np.dot(d, 3) #Operations to weight data\n",
    "\n",
    "#re-inserting weighted data back into the dataset\n",
    "v = pd.DataFrame(vec_df, columns = df.columns[a:z].tolist())\n",
    "df.update(v)"
   ]
  },
  {
   "cell_type": "code",
   "execution_count": null,
   "id": "7f7f9765-23f3-4579-90c4-dce516806bc1",
   "metadata": {},
   "outputs": [],
   "source": [
    "#Undo previous operation\n",
    "a = 0\n",
    "z = 2\n",
    "d = df.iloc[0:3, a:z] #[Rows, Columns]\n",
    "f = np.array([[12, 3, 4], [5, 1, 2]]) #Matrix\n",
    "vec_df = np.dot(d, 1/f) #Operations to weight data"
   ]
  },
  {
   "cell_type": "code",
   "execution_count": null,
   "id": "16a7d3a1-74c9-4273-adea-e2ecb158f9a7",
   "metadata": {},
   "outputs": [],
   "source": [
    "X = df.drop(columns=[\"\"])\n",
    "y = df[\"\"]\n",
    "df"
   ]
  },
  {
   "cell_type": "markdown",
   "id": "111363d3-13e8-485d-bbf5-d0c702e34c64",
   "metadata": {},
   "source": [
    "## Data Clean Up ##"
   ]
  },
  {
   "cell_type": "code",
   "execution_count": 215,
   "id": "2dd3f738-f210-4423-8cf0-012854ea3be0",
   "metadata": {},
   "outputs": [
    {
     "name": "stderr",
     "output_type": "stream",
     "text": [
      "/var/folders/wd/yv2kv5sn1kn30nq5ppyppw6r0000gn/T/ipykernel_88045/1545288852.py:4: DeprecationWarning: Please import `zscore` from the `scipy.stats` namespace; the `scipy.stats.stats` namespace is deprecated and will be removed in SciPy 2.0.0.\n",
      "  z = np.abs(stats.zscore(df))\n"
     ]
    },
    {
     "data": {
      "text/plain": [
       "(370, 62)"
      ]
     },
     "execution_count": 215,
     "metadata": {},
     "output_type": "execute_result"
    }
   ],
   "source": [
    "import numpy as np\n",
    "\n",
    "#Drop outliers\n",
    "z = np.abs(stats.zscore(df))\n",
    "threshold_z = 3\n",
    "outliers = np.where(z > threshold_z)[0]\n",
    "df = df.drop(outliers)\n",
    "df.shape"
   ]
  },
  {
   "cell_type": "code",
   "execution_count": 217,
   "id": "8b3c3ff2-de5b-4ced-8cc3-f7d9043c2ac8",
   "metadata": {},
   "outputs": [],
   "source": [
    "df = df.dropna() #drop rows with missing values"
   ]
  },
  {
   "cell_type": "code",
   "execution_count": 219,
   "id": "c3c90e18-bfc2-445c-98bb-4fb41e97f57b",
   "metadata": {},
   "outputs": [],
   "source": [
    "df = df.drop_duplicates() #drop duplicate rows"
   ]
  },
  {
   "cell_type": "code",
   "execution_count": null,
   "id": "d7644d39-e514-49d6-8f41-f5af15ca3a53",
   "metadata": {},
   "outputs": [],
   "source": [
    "from sklearn.preprocessing import StandardScaler\n",
    "\n",
    "#Standardize data, helpful for linear regression and Neural Networks\n",
    "object = StandardScaler()\n",
    "df = object.fit_transform(X) "
   ]
  },
  {
   "cell_type": "code",
   "execution_count": 233,
   "id": "0e7b23a9-f546-4341-8419-8d0669173777",
   "metadata": {},
   "outputs": [
    {
     "data": {
      "text/html": [
       "<div>\n",
       "<style scoped>\n",
       "    .dataframe tbody tr th:only-of-type {\n",
       "        vertical-align: middle;\n",
       "    }\n",
       "\n",
       "    .dataframe tbody tr th {\n",
       "        vertical-align: top;\n",
       "    }\n",
       "\n",
       "    .dataframe thead th {\n",
       "        text-align: right;\n",
       "    }\n",
       "</style>\n",
       "<table border=\"1\" class=\"dataframe\">\n",
       "  <thead>\n",
       "    <tr style=\"text-align: right;\">\n",
       "      <th></th>\n",
       "      <th>Team</th>\n",
       "      <th>Position</th>\n",
       "      <th>Shirt number</th>\n",
       "      <th>Name</th>\n",
       "      <th>Minutes played</th>\n",
       "      <th>Games played</th>\n",
       "      <th>Percentage of games played</th>\n",
       "      <th>Full games played</th>\n",
       "      <th>Percentage of full games played</th>\n",
       "      <th>Games started</th>\n",
       "      <th>...</th>\n",
       "      <th>Corners</th>\n",
       "      <th>Tackles.1</th>\n",
       "      <th>Duels</th>\n",
       "      <th>Man-to-man duels</th>\n",
       "      <th>Aerial duels</th>\n",
       "      <th>Passes</th>\n",
       "      <th>Short passes</th>\n",
       "      <th>Long passes</th>\n",
       "      <th>Through balls</th>\n",
       "      <th>Goals scored per attempt</th>\n",
       "    </tr>\n",
       "  </thead>\n",
       "  <tbody>\n",
       "    <tr>\n",
       "      <th>1</th>\n",
       "      <td>0</td>\n",
       "      <td>2</td>\n",
       "      <td>1.0</td>\n",
       "      <td>3</td>\n",
       "      <td>0.000</td>\n",
       "      <td>0</td>\n",
       "      <td>0.00</td>\n",
       "      <td>0</td>\n",
       "      <td>0.00</td>\n",
       "      <td>0</td>\n",
       "      <td>...</td>\n",
       "      <td>0</td>\n",
       "      <td>0</td>\n",
       "      <td>0</td>\n",
       "      <td>0</td>\n",
       "      <td>0</td>\n",
       "      <td>0.0</td>\n",
       "      <td>0.0</td>\n",
       "      <td>0</td>\n",
       "      <td>0</td>\n",
       "      <td>0</td>\n",
       "    </tr>\n",
       "    <tr>\n",
       "      <th>3</th>\n",
       "      <td>0</td>\n",
       "      <td>2</td>\n",
       "      <td>25.0</td>\n",
       "      <td>498</td>\n",
       "      <td>630.000</td>\n",
       "      <td>7</td>\n",
       "      <td>0.18</td>\n",
       "      <td>7</td>\n",
       "      <td>0.18</td>\n",
       "      <td>7</td>\n",
       "      <td>...</td>\n",
       "      <td>0</td>\n",
       "      <td>0</td>\n",
       "      <td>3</td>\n",
       "      <td>2</td>\n",
       "      <td>1</td>\n",
       "      <td>155.0</td>\n",
       "      <td>49.0</td>\n",
       "      <td>106</td>\n",
       "      <td>0</td>\n",
       "      <td>0</td>\n",
       "    </tr>\n",
       "    <tr>\n",
       "      <th>4</th>\n",
       "      <td>0</td>\n",
       "      <td>0</td>\n",
       "      <td>3.0</td>\n",
       "      <td>370</td>\n",
       "      <td>1.063</td>\n",
       "      <td>12</td>\n",
       "      <td>0.32</td>\n",
       "      <td>11</td>\n",
       "      <td>0.29</td>\n",
       "      <td>11</td>\n",
       "      <td>...</td>\n",
       "      <td>0</td>\n",
       "      <td>15</td>\n",
       "      <td>107</td>\n",
       "      <td>38</td>\n",
       "      <td>69</td>\n",
       "      <td>536.0</td>\n",
       "      <td>457.0</td>\n",
       "      <td>78</td>\n",
       "      <td>1</td>\n",
       "      <td>0</td>\n",
       "    </tr>\n",
       "    <tr>\n",
       "      <th>7</th>\n",
       "      <td>0</td>\n",
       "      <td>0</td>\n",
       "      <td>6.0</td>\n",
       "      <td>454</td>\n",
       "      <td>1.716</td>\n",
       "      <td>33</td>\n",
       "      <td>0.87</td>\n",
       "      <td>15</td>\n",
       "      <td>0.39</td>\n",
       "      <td>16</td>\n",
       "      <td>...</td>\n",
       "      <td>0</td>\n",
       "      <td>42</td>\n",
       "      <td>243</td>\n",
       "      <td>141</td>\n",
       "      <td>102</td>\n",
       "      <td>707.0</td>\n",
       "      <td>637.0</td>\n",
       "      <td>64</td>\n",
       "      <td>6</td>\n",
       "      <td>0</td>\n",
       "    </tr>\n",
       "    <tr>\n",
       "      <th>9</th>\n",
       "      <td>0</td>\n",
       "      <td>0</td>\n",
       "      <td>15.0</td>\n",
       "      <td>204</td>\n",
       "      <td>210.000</td>\n",
       "      <td>4</td>\n",
       "      <td>0.11</td>\n",
       "      <td>2</td>\n",
       "      <td>0.05</td>\n",
       "      <td>2</td>\n",
       "      <td>...</td>\n",
       "      <td>2</td>\n",
       "      <td>5</td>\n",
       "      <td>29</td>\n",
       "      <td>20</td>\n",
       "      <td>9</td>\n",
       "      <td>85.0</td>\n",
       "      <td>75.0</td>\n",
       "      <td>10</td>\n",
       "      <td>0</td>\n",
       "      <td>0</td>\n",
       "    </tr>\n",
       "    <tr>\n",
       "      <th>...</th>\n",
       "      <td>...</td>\n",
       "      <td>...</td>\n",
       "      <td>...</td>\n",
       "      <td>...</td>\n",
       "      <td>...</td>\n",
       "      <td>...</td>\n",
       "      <td>...</td>\n",
       "      <td>...</td>\n",
       "      <td>...</td>\n",
       "      <td>...</td>\n",
       "      <td>...</td>\n",
       "      <td>...</td>\n",
       "      <td>...</td>\n",
       "      <td>...</td>\n",
       "      <td>...</td>\n",
       "      <td>...</td>\n",
       "      <td>...</td>\n",
       "      <td>...</td>\n",
       "      <td>...</td>\n",
       "      <td>...</td>\n",
       "      <td>...</td>\n",
       "    </tr>\n",
       "    <tr>\n",
       "      <th>549</th>\n",
       "      <td>19</td>\n",
       "      <td>3</td>\n",
       "      <td>22.0</td>\n",
       "      <td>414</td>\n",
       "      <td>186.000</td>\n",
       "      <td>8</td>\n",
       "      <td>0.21</td>\n",
       "      <td>1</td>\n",
       "      <td>0.03</td>\n",
       "      <td>2</td>\n",
       "      <td>...</td>\n",
       "      <td>4</td>\n",
       "      <td>6</td>\n",
       "      <td>32</td>\n",
       "      <td>28</td>\n",
       "      <td>4</td>\n",
       "      <td>93.0</td>\n",
       "      <td>83.0</td>\n",
       "      <td>10</td>\n",
       "      <td>0</td>\n",
       "      <td>0</td>\n",
       "    </tr>\n",
       "    <tr>\n",
       "      <th>550</th>\n",
       "      <td>19</td>\n",
       "      <td>3</td>\n",
       "      <td>30.0</td>\n",
       "      <td>453</td>\n",
       "      <td>1.708</td>\n",
       "      <td>26</td>\n",
       "      <td>0.68</td>\n",
       "      <td>8</td>\n",
       "      <td>0.21</td>\n",
       "      <td>19</td>\n",
       "      <td>...</td>\n",
       "      <td>2</td>\n",
       "      <td>20</td>\n",
       "      <td>251</td>\n",
       "      <td>206</td>\n",
       "      <td>45</td>\n",
       "      <td>504.0</td>\n",
       "      <td>465.0</td>\n",
       "      <td>37</td>\n",
       "      <td>2</td>\n",
       "      <td>2</td>\n",
       "    </tr>\n",
       "    <tr>\n",
       "      <th>551</th>\n",
       "      <td>19</td>\n",
       "      <td>3</td>\n",
       "      <td>37.0</td>\n",
       "      <td>218</td>\n",
       "      <td>0.000</td>\n",
       "      <td>0</td>\n",
       "      <td>0.00</td>\n",
       "      <td>0</td>\n",
       "      <td>0.00</td>\n",
       "      <td>0</td>\n",
       "      <td>...</td>\n",
       "      <td>0</td>\n",
       "      <td>0</td>\n",
       "      <td>0</td>\n",
       "      <td>0</td>\n",
       "      <td>0</td>\n",
       "      <td>0.0</td>\n",
       "      <td>0.0</td>\n",
       "      <td>0</td>\n",
       "      <td>0</td>\n",
       "      <td>0</td>\n",
       "    </tr>\n",
       "    <tr>\n",
       "      <th>552</th>\n",
       "      <td>19</td>\n",
       "      <td>3</td>\n",
       "      <td>42.0</td>\n",
       "      <td>31</td>\n",
       "      <td>0.000</td>\n",
       "      <td>0</td>\n",
       "      <td>0.00</td>\n",
       "      <td>0</td>\n",
       "      <td>0.00</td>\n",
       "      <td>0</td>\n",
       "      <td>...</td>\n",
       "      <td>0</td>\n",
       "      <td>0</td>\n",
       "      <td>0</td>\n",
       "      <td>0</td>\n",
       "      <td>0</td>\n",
       "      <td>0.0</td>\n",
       "      <td>0.0</td>\n",
       "      <td>0</td>\n",
       "      <td>0</td>\n",
       "      <td>0</td>\n",
       "    </tr>\n",
       "    <tr>\n",
       "      <th>553</th>\n",
       "      <td>19</td>\n",
       "      <td>1</td>\n",
       "      <td>7.0</td>\n",
       "      <td>173</td>\n",
       "      <td>2.317</td>\n",
       "      <td>35</td>\n",
       "      <td>0.92</td>\n",
       "      <td>16</td>\n",
       "      <td>0.42</td>\n",
       "      <td>25</td>\n",
       "      <td>...</td>\n",
       "      <td>0</td>\n",
       "      <td>23</td>\n",
       "      <td>344</td>\n",
       "      <td>219</td>\n",
       "      <td>125</td>\n",
       "      <td>740.0</td>\n",
       "      <td>676.0</td>\n",
       "      <td>59</td>\n",
       "      <td>5</td>\n",
       "      <td>6</td>\n",
       "    </tr>\n",
       "  </tbody>\n",
       "</table>\n",
       "<p>344 rows × 62 columns</p>\n",
       "</div>"
      ],
      "text/plain": [
       "     Team  Position  Shirt number  Name  Minutes played  Games played  \\\n",
       "1       0         2           1.0     3           0.000             0   \n",
       "3       0         2          25.0   498         630.000             7   \n",
       "4       0         0           3.0   370           1.063            12   \n",
       "7       0         0           6.0   454           1.716            33   \n",
       "9       0         0          15.0   204         210.000             4   \n",
       "..    ...       ...           ...   ...             ...           ...   \n",
       "549    19         3          22.0   414         186.000             8   \n",
       "550    19         3          30.0   453           1.708            26   \n",
       "551    19         3          37.0   218           0.000             0   \n",
       "552    19         3          42.0    31           0.000             0   \n",
       "553    19         1           7.0   173           2.317            35   \n",
       "\n",
       "     Percentage of games played  Full games played  \\\n",
       "1                          0.00                  0   \n",
       "3                          0.18                  7   \n",
       "4                          0.32                 11   \n",
       "7                          0.87                 15   \n",
       "9                          0.11                  2   \n",
       "..                          ...                ...   \n",
       "549                        0.21                  1   \n",
       "550                        0.68                  8   \n",
       "551                        0.00                  0   \n",
       "552                        0.00                  0   \n",
       "553                        0.92                 16   \n",
       "\n",
       "     Percentage of full games played  Games started  ...  Corners  Tackles.1  \\\n",
       "1                               0.00              0  ...        0          0   \n",
       "3                               0.18              7  ...        0          0   \n",
       "4                               0.29             11  ...        0         15   \n",
       "7                               0.39             16  ...        0         42   \n",
       "9                               0.05              2  ...        2          5   \n",
       "..                               ...            ...  ...      ...        ...   \n",
       "549                             0.03              2  ...        4          6   \n",
       "550                             0.21             19  ...        2         20   \n",
       "551                             0.00              0  ...        0          0   \n",
       "552                             0.00              0  ...        0          0   \n",
       "553                             0.42             25  ...        0         23   \n",
       "\n",
       "     Duels  Man-to-man duels  Aerial duels  Passes  Short passes  Long passes  \\\n",
       "1        0                 0             0     0.0           0.0            0   \n",
       "3        3                 2             1   155.0          49.0          106   \n",
       "4      107                38            69   536.0         457.0           78   \n",
       "7      243               141           102   707.0         637.0           64   \n",
       "9       29                20             9    85.0          75.0           10   \n",
       "..     ...               ...           ...     ...           ...          ...   \n",
       "549     32                28             4    93.0          83.0           10   \n",
       "550    251               206            45   504.0         465.0           37   \n",
       "551      0                 0             0     0.0           0.0            0   \n",
       "552      0                 0             0     0.0           0.0            0   \n",
       "553    344               219           125   740.0         676.0           59   \n",
       "\n",
       "     Through balls  Goals scored per attempt  \n",
       "1                0                         0  \n",
       "3                0                         0  \n",
       "4                1                         0  \n",
       "7                6                         0  \n",
       "9                0                         0  \n",
       "..             ...                       ...  \n",
       "549              0                         0  \n",
       "550              2                         2  \n",
       "551              0                         0  \n",
       "552              0                         0  \n",
       "553              5                         6  \n",
       "\n",
       "[344 rows x 62 columns]"
      ]
     },
     "execution_count": 233,
     "metadata": {},
     "output_type": "execute_result"
    }
   ],
   "source": [
    "X = df.drop(columns=[\"Goals scored per attempt\"])\n",
    "y = df[\"Goals scored per attempt\"]\n",
    "df"
   ]
  },
  {
   "cell_type": "markdown",
   "id": "c60d8e99-c14e-4ccc-9651-2ab2b882541b",
   "metadata": {},
   "source": [
    "## Fine-Tuning ##"
   ]
  },
  {
   "cell_type": "code",
   "execution_count": 311,
   "id": "16bbb3eb-56af-4cc5-925e-34ecbd9b8b7e",
   "metadata": {},
   "outputs": [],
   "source": [
    "from sklearn.model_selection import train_test_split\n",
    "\n",
    "X_train, X_test, y_train, y_test = train_test_split(X, y, test_size = 0.3, random_state = 42)"
   ]
  },
  {
   "cell_type": "code",
   "execution_count": 313,
   "id": "b42adabc-38a9-489f-90d5-ac1ab8e4ac85",
   "metadata": {},
   "outputs": [
    {
     "name": "stdout",
     "output_type": "stream",
     "text": [
      "|   iter    |  target   | max_depth | min_sa... | min_sa... |\n",
      "-------------------------------------------------------------\n",
      "| \u001b[39m1        \u001b[39m | \u001b[39m-0.2888  \u001b[39m | \u001b[39m8.923    \u001b[39m | \u001b[39m14.69    \u001b[39m | \u001b[39m2.002    \u001b[39m |\n",
      "| \u001b[35m2        \u001b[39m | \u001b[35m-0.1667  \u001b[39m | \u001b[35m6.744    \u001b[39m | \u001b[35m3.788    \u001b[39m | \u001b[35m3.662    \u001b[39m |\n",
      "| \u001b[39m3        \u001b[39m | \u001b[39m-0.1699  \u001b[39m | \u001b[39m4.539    \u001b[39m | \u001b[39m7.566    \u001b[39m | \u001b[39m9.142    \u001b[39m |\n",
      "| \u001b[39m4        \u001b[39m | \u001b[39m-0.1848  \u001b[39m | \u001b[39m11.24    \u001b[39m | \u001b[39m8.965    \u001b[39m | \u001b[39m14.33    \u001b[39m |\n",
      "| \u001b[39m5        \u001b[39m | \u001b[39m-0.3027  \u001b[39m | \u001b[39m4.885    \u001b[39m | \u001b[39m17.68    \u001b[39m | \u001b[39m2.493    \u001b[39m |\n",
      "| \u001b[39m6        \u001b[39m | \u001b[39m-0.1848  \u001b[39m | \u001b[39m13.74    \u001b[39m | \u001b[39m8.929    \u001b[39m | \u001b[39m12.06    \u001b[39m |\n",
      "| \u001b[39m7        \u001b[39m | \u001b[39m-0.3268  \u001b[39m | \u001b[39m1.287    \u001b[39m | \u001b[39m1.157    \u001b[39m | \u001b[39m15.38    \u001b[39m |\n",
      "| \u001b[39m8        \u001b[39m | \u001b[39m-0.1825  \u001b[39m | \u001b[39m14.74    \u001b[39m | \u001b[39m1.574    \u001b[39m | \u001b[39m5.664    \u001b[39m |\n",
      "| \u001b[35m9        \u001b[39m | \u001b[35m-0.1516  \u001b[39m | \u001b[35m19.59    \u001b[39m | \u001b[35m2.626    \u001b[39m | \u001b[35m18.14    \u001b[39m |\n",
      "| \u001b[39m10       \u001b[39m | \u001b[39m-0.2397  \u001b[39m | \u001b[39m19.56    \u001b[39m | \u001b[39m11.78    \u001b[39m | \u001b[39m19.77    \u001b[39m |\n",
      "| \u001b[39m11       \u001b[39m | \u001b[39m-0.1561  \u001b[39m | \u001b[39m19.25    \u001b[39m | \u001b[39m1.085    \u001b[39m | \u001b[39m12.03    \u001b[39m |\n",
      "| \u001b[39m12       \u001b[39m | \u001b[39m-0.3124  \u001b[39m | \u001b[39m2.776    \u001b[39m | \u001b[39m19.73    \u001b[39m | \u001b[39m19.99    \u001b[39m |\n",
      "| \u001b[39m13       \u001b[39m | \u001b[39m-0.1566  \u001b[39m | \u001b[39m13.72    \u001b[39m | \u001b[39m1.13     \u001b[39m | \u001b[39m15.12    \u001b[39m |\n",
      "| \u001b[39m14       \u001b[39m | \u001b[39m-0.3268  \u001b[39m | \u001b[39m1.051    \u001b[39m | \u001b[39m1.451    \u001b[39m | \u001b[39m2.244    \u001b[39m |\n",
      "| \u001b[39m15       \u001b[39m | \u001b[39m-0.1599  \u001b[39m | \u001b[39m9.728    \u001b[39m | \u001b[39m4.353    \u001b[39m | \u001b[39m8.868    \u001b[39m |\n",
      "| \u001b[39m16       \u001b[39m | \u001b[39m-0.1624  \u001b[39m | \u001b[39m19.9     \u001b[39m | \u001b[39m6.933    \u001b[39m | \u001b[39m2.468    \u001b[39m |\n",
      "| \u001b[39m17       \u001b[39m | \u001b[39m-0.3124  \u001b[39m | \u001b[39m19.95    \u001b[39m | \u001b[39m19.37    \u001b[39m | \u001b[39m5.29     \u001b[39m |\n",
      "| \u001b[39m18       \u001b[39m | \u001b[39m-0.1624  \u001b[39m | \u001b[39m12.53    \u001b[39m | \u001b[39m6.014    \u001b[39m | \u001b[39m2.703    \u001b[39m |\n",
      "| \u001b[39m19       \u001b[39m | \u001b[39m-0.1531  \u001b[39m | \u001b[39m15.0     \u001b[39m | \u001b[39m1.093    \u001b[39m | \u001b[39m19.88    \u001b[39m |\n",
      "| \u001b[39m20       \u001b[39m | \u001b[39m-0.1847  \u001b[39m | \u001b[39m19.68    \u001b[39m | \u001b[39m1.241    \u001b[39m | \u001b[39m2.401    \u001b[39m |\n",
      "| \u001b[39m21       \u001b[39m | \u001b[39m-0.1624  \u001b[39m | \u001b[39m19.86    \u001b[39m | \u001b[39m6.552    \u001b[39m | \u001b[39m10.79    \u001b[39m |\n",
      "| \u001b[39m22       \u001b[39m | \u001b[39m-0.1579  \u001b[39m | \u001b[39m16.35    \u001b[39m | \u001b[39m4.644    \u001b[39m | \u001b[39m16.3     \u001b[39m |\n",
      "| \u001b[39m23       \u001b[39m | \u001b[39m-0.17    \u001b[39m | \u001b[39m7.804    \u001b[39m | \u001b[39m7.749    \u001b[39m | \u001b[39m5.428    \u001b[39m |\n",
      "| \u001b[39m24       \u001b[39m | \u001b[39m-0.1847  \u001b[39m | \u001b[39m10.56    \u001b[39m | \u001b[39m1.126    \u001b[39m | \u001b[39m2.738    \u001b[39m |\n",
      "| \u001b[39m25       \u001b[39m | \u001b[39m-0.1558  \u001b[39m | \u001b[39m17.66    \u001b[39m | \u001b[39m1.01     \u001b[39m | \u001b[39m16.03    \u001b[39m |\n",
      "| \u001b[39m26       \u001b[39m | \u001b[39m-0.1563  \u001b[39m | \u001b[39m10.85    \u001b[39m | \u001b[39m4.844    \u001b[39m | \u001b[39m19.87    \u001b[39m |\n",
      "| \u001b[39m27       \u001b[39m | \u001b[39m-0.1599  \u001b[39m | \u001b[39m19.65    \u001b[39m | \u001b[39m4.793    \u001b[39m | \u001b[39m6.279    \u001b[39m |\n",
      "| \u001b[35m28       \u001b[39m | \u001b[35m-0.1516  \u001b[39m | \u001b[35m15.35    \u001b[39m | \u001b[35m3.932    \u001b[39m | \u001b[35m11.42    \u001b[39m |\n",
      "| \u001b[39m29       \u001b[39m | \u001b[39m-0.1531  \u001b[39m | \u001b[39m10.99    \u001b[39m | \u001b[39m1.186    \u001b[39m | \u001b[39m19.8     \u001b[39m |\n",
      "| \u001b[39m30       \u001b[39m | \u001b[39m-0.1561  \u001b[39m | \u001b[39m10.24    \u001b[39m | \u001b[39m4.234    \u001b[39m | \u001b[39m15.37    \u001b[39m |\n",
      "| \u001b[39m31       \u001b[39m | \u001b[39m-0.1521  \u001b[39m | \u001b[39m19.94    \u001b[39m | \u001b[39m3.814    \u001b[39m | \u001b[39m15.19    \u001b[39m |\n",
      "| \u001b[35m32       \u001b[39m | \u001b[35m-0.1507  \u001b[39m | \u001b[35m12.87    \u001b[39m | \u001b[35m3.131    \u001b[39m | \u001b[35m18.81    \u001b[39m |\n",
      "| \u001b[39m33       \u001b[39m | \u001b[39m-0.1624  \u001b[39m | \u001b[39m15.62    \u001b[39m | \u001b[39m6.465    \u001b[39m | \u001b[39m7.03     \u001b[39m |\n",
      "| \u001b[39m34       \u001b[39m | \u001b[39m-0.1531  \u001b[39m | \u001b[39m19.42    \u001b[39m | \u001b[39m1.123    \u001b[39m | \u001b[39m19.75    \u001b[39m |\n",
      "| \u001b[39m35       \u001b[39m | \u001b[39m-0.1604  \u001b[39m | \u001b[39m8.751    \u001b[39m | \u001b[39m5.262    \u001b[39m | \u001b[39m2.064    \u001b[39m |\n",
      "| \u001b[39m36       \u001b[39m | \u001b[39m-0.1599  \u001b[39m | \u001b[39m9.42     \u001b[39m | \u001b[39m4.753    \u001b[39m | \u001b[39m4.947    \u001b[39m |\n",
      "| \u001b[39m37       \u001b[39m | \u001b[39m-0.1561  \u001b[39m | \u001b[39m12.53    \u001b[39m | \u001b[39m4.575    \u001b[39m | \u001b[39m13.41    \u001b[39m |\n",
      "| \u001b[39m38       \u001b[39m | \u001b[39m-0.17    \u001b[39m | \u001b[39m7.929    \u001b[39m | \u001b[39m7.121    \u001b[39m | \u001b[39m11.4     \u001b[39m |\n",
      "| \u001b[39m39       \u001b[39m | \u001b[39m-0.1522  \u001b[39m | \u001b[39m19.06    \u001b[39m | \u001b[39m3.764    \u001b[39m | \u001b[39m10.76    \u001b[39m |\n",
      "| \u001b[39m40       \u001b[39m | \u001b[39m-0.1563  \u001b[39m | \u001b[39m17.76    \u001b[39m | \u001b[39m4.477    \u001b[39m | \u001b[39m19.92    \u001b[39m |\n",
      "| \u001b[39m41       \u001b[39m | \u001b[39m-0.1604  \u001b[39m | \u001b[39m16.5     \u001b[39m | \u001b[39m5.537    \u001b[39m | \u001b[39m2.09     \u001b[39m |\n",
      "| \u001b[39m42       \u001b[39m | \u001b[39m-0.1511  \u001b[39m | \u001b[39m17.38    \u001b[39m | \u001b[39m3.07     \u001b[39m | \u001b[39m13.5     \u001b[39m |\n",
      "| \u001b[39m43       \u001b[39m | \u001b[39m-0.1558  \u001b[39m | \u001b[39m19.94    \u001b[39m | \u001b[39m1.556    \u001b[39m | \u001b[39m16.48    \u001b[39m |\n",
      "| \u001b[39m44       \u001b[39m | \u001b[39m-0.1563  \u001b[39m | \u001b[39m19.88    \u001b[39m | \u001b[39m4.976    \u001b[39m | \u001b[39m19.82    \u001b[39m |\n",
      "| \u001b[39m45       \u001b[39m | \u001b[39m-0.1534  \u001b[39m | \u001b[39m11.56    \u001b[39m | \u001b[39m2.337    \u001b[39m | \u001b[39m17.38    \u001b[39m |\n",
      "| \u001b[39m46       \u001b[39m | \u001b[39m-0.1559  \u001b[39m | \u001b[39m14.47    \u001b[39m | \u001b[39m1.58     \u001b[39m | \u001b[39m11.22    \u001b[39m |\n",
      "| \u001b[39m47       \u001b[39m | \u001b[39m-0.1604  \u001b[39m | \u001b[39m6.653    \u001b[39m | \u001b[39m5.188    \u001b[39m | \u001b[39m7.244    \u001b[39m |\n",
      "| \u001b[39m48       \u001b[39m | \u001b[39m-0.1516  \u001b[39m | \u001b[39m11.91    \u001b[39m | \u001b[39m2.438    \u001b[39m | \u001b[39m19.78    \u001b[39m |\n",
      "| \u001b[39m49       \u001b[39m | \u001b[39m-0.1527  \u001b[39m | \u001b[39m17.03    \u001b[39m | \u001b[39m2.858    \u001b[39m | \u001b[39m10.72    \u001b[39m |\n",
      "| \u001b[39m50       \u001b[39m | \u001b[39m-0.158   \u001b[39m | \u001b[39m11.97    \u001b[39m | \u001b[39m4.442    \u001b[39m | \u001b[39m17.14    \u001b[39m |\n",
      "| \u001b[39m51       \u001b[39m | \u001b[39m-0.1561  \u001b[39m | \u001b[39m10.6     \u001b[39m | \u001b[39m1.966    \u001b[39m | \u001b[39m12.8     \u001b[39m |\n",
      "| \u001b[39m52       \u001b[39m | \u001b[39m-0.1516  \u001b[39m | \u001b[39m16.0     \u001b[39m | \u001b[39m2.678    \u001b[39m | \u001b[39m18.31    \u001b[39m |\n",
      "| \u001b[39m53       \u001b[39m | \u001b[39m-0.1527  \u001b[39m | \u001b[39m19.9     \u001b[39m | \u001b[39m2.989    \u001b[39m | \u001b[39m12.96    \u001b[39m |\n",
      "| \u001b[35m54       \u001b[39m | \u001b[35m-0.1506  \u001b[39m | \u001b[35m19.89    \u001b[39m | \u001b[35m3.053    \u001b[39m | \u001b[35m19.98    \u001b[39m |\n",
      "| \u001b[39m55       \u001b[39m | \u001b[39m-0.1543  \u001b[39m | \u001b[39m12.91    \u001b[39m | \u001b[39m1.039    \u001b[39m | \u001b[39m18.35    \u001b[39m |\n",
      "| \u001b[39m56       \u001b[39m | \u001b[39m-0.1522  \u001b[39m | \u001b[39m12.93    \u001b[39m | \u001b[39m3.922    \u001b[39m | \u001b[39m10.31    \u001b[39m |\n",
      "| \u001b[39m57       \u001b[39m | \u001b[39m-0.1506  \u001b[39m | \u001b[39m14.74    \u001b[39m | \u001b[39m3.216    \u001b[39m | \u001b[39m19.62    \u001b[39m |\n",
      "| \u001b[39m58       \u001b[39m | \u001b[39m-0.156   \u001b[39m | \u001b[39m17.65    \u001b[39m | \u001b[39m4.839    \u001b[39m | \u001b[39m11.97    \u001b[39m |\n",
      "| \u001b[39m59       \u001b[39m | \u001b[39m-0.1534  \u001b[39m | \u001b[39m19.97    \u001b[39m | \u001b[39m3.136    \u001b[39m | \u001b[39m9.147    \u001b[39m |\n",
      "| \u001b[39m60       \u001b[39m | \u001b[39m-0.1516  \u001b[39m | \u001b[39m17.08    \u001b[39m | \u001b[39m2.029    \u001b[39m | \u001b[39m19.9     \u001b[39m |\n",
      "| \u001b[39m61       \u001b[39m | \u001b[39m-0.1506  \u001b[39m | \u001b[39m9.304    \u001b[39m | \u001b[39m3.079    \u001b[39m | \u001b[39m19.8     \u001b[39m |\n",
      "| \u001b[39m62       \u001b[39m | \u001b[39m-0.1589  \u001b[39m | \u001b[39m7.816    \u001b[39m | \u001b[39m5.385    \u001b[39m | \u001b[39m19.89    \u001b[39m |\n",
      "| \u001b[39m63       \u001b[39m | \u001b[39m-0.1507  \u001b[39m | \u001b[39m9.265    \u001b[39m | \u001b[39m3.555    \u001b[39m | \u001b[39m18.48    \u001b[39m |\n",
      "| \u001b[39m64       \u001b[39m | \u001b[39m-0.1527  \u001b[39m | \u001b[39m13.54    \u001b[39m | \u001b[39m2.63     \u001b[39m | \u001b[39m12.59    \u001b[39m |\n",
      "| \u001b[39m65       \u001b[39m | \u001b[39m-0.1521  \u001b[39m | \u001b[39m18.83    \u001b[39m | \u001b[39m3.036    \u001b[39m | \u001b[39m15.97    \u001b[39m |\n",
      "| \u001b[39m66       \u001b[39m | \u001b[39m-0.1516  \u001b[39m | \u001b[39m11.67    \u001b[39m | \u001b[39m3.64     \u001b[39m | \u001b[39m11.56    \u001b[39m |\n",
      "| \u001b[39m67       \u001b[39m | \u001b[39m-0.1516  \u001b[39m | \u001b[39m9.471    \u001b[39m | \u001b[39m2.213    \u001b[39m | \u001b[39m18.43    \u001b[39m |\n",
      "| \u001b[39m68       \u001b[39m | \u001b[39m-0.1522  \u001b[39m | \u001b[39m15.78    \u001b[39m | \u001b[39m2.411    \u001b[39m | \u001b[39m14.57    \u001b[39m |\n",
      "| \u001b[39m69       \u001b[39m | \u001b[39m-0.1506  \u001b[39m | \u001b[39m10.08    \u001b[39m | \u001b[39m3.015    \u001b[39m | \u001b[39m19.19    \u001b[39m |\n",
      "| \u001b[39m70       \u001b[39m | \u001b[39m-0.1526  \u001b[39m | \u001b[39m19.9     \u001b[39m | \u001b[39m3.698    \u001b[39m | \u001b[39m17.88    \u001b[39m |\n",
      "| \u001b[39m71       \u001b[39m | \u001b[39m-0.1516  \u001b[39m | \u001b[39m14.24    \u001b[39m | \u001b[39m2.371    \u001b[39m | \u001b[39m19.14    \u001b[39m |\n",
      "| \u001b[39m72       \u001b[39m | \u001b[39m-0.1527  \u001b[39m | \u001b[39m16.57    \u001b[39m | \u001b[39m2.11     \u001b[39m | \u001b[39m12.52    \u001b[39m |\n",
      "| \u001b[39m73       \u001b[39m | \u001b[39m-0.1591  \u001b[39m | \u001b[39m16.73    \u001b[39m | \u001b[39m4.62     \u001b[39m | \u001b[39m9.072    \u001b[39m |\n",
      "| \u001b[39m74       \u001b[39m | \u001b[39m-0.17    \u001b[39m | \u001b[39m16.52    \u001b[39m | \u001b[39m7.792    \u001b[39m | \u001b[39m2.604    \u001b[39m |\n",
      "| \u001b[39m75       \u001b[39m | \u001b[39m-0.1527  \u001b[39m | \u001b[39m19.87    \u001b[39m | \u001b[39m2.329    \u001b[39m | \u001b[39m10.57    \u001b[39m |\n",
      "| \u001b[39m76       \u001b[39m | \u001b[39m-0.1563  \u001b[39m | \u001b[39m13.38    \u001b[39m | \u001b[39m4.223    \u001b[39m | \u001b[39m19.82    \u001b[39m |\n",
      "| \u001b[39m77       \u001b[39m | \u001b[39m-0.1598  \u001b[39m | \u001b[39m12.58    \u001b[39m | \u001b[39m5.043    \u001b[39m | \u001b[39m11.07    \u001b[39m |\n",
      "| \u001b[39m78       \u001b[39m | \u001b[39m-0.1557  \u001b[39m | \u001b[39m11.82    \u001b[39m | \u001b[39m2.291    \u001b[39m | \u001b[39m9.693    \u001b[39m |\n",
      "| \u001b[39m79       \u001b[39m | \u001b[39m-0.1532  \u001b[39m | \u001b[39m14.21    \u001b[39m | \u001b[39m2.716    \u001b[39m | \u001b[39m16.63    \u001b[39m |\n",
      "| \u001b[39m80       \u001b[39m | \u001b[39m-0.1527  \u001b[39m | \u001b[39m14.4     \u001b[39m | \u001b[39m2.978    \u001b[39m | \u001b[39m10.06    \u001b[39m |\n",
      "| \u001b[39m81       \u001b[39m | \u001b[39m-0.1513  \u001b[39m | \u001b[39m15.46    \u001b[39m | \u001b[39m3.372    \u001b[39m | \u001b[39m12.94    \u001b[39m |\n",
      "| \u001b[39m82       \u001b[39m | \u001b[39m-0.1526  \u001b[39m | \u001b[39m12.38    \u001b[39m | \u001b[39m2.87     \u001b[39m | \u001b[39m11.44    \u001b[39m |\n",
      "| \u001b[39m83       \u001b[39m | \u001b[39m-0.1516  \u001b[39m | \u001b[39m9.689    \u001b[39m | \u001b[39m3.744    \u001b[39m | \u001b[39m11.73    \u001b[39m |\n",
      "| \u001b[39m84       \u001b[39m | \u001b[39m-0.1513  \u001b[39m | \u001b[39m10.58    \u001b[39m | \u001b[39m3.914    \u001b[39m | \u001b[39m12.78    \u001b[39m |\n",
      "| \u001b[39m85       \u001b[39m | \u001b[39m-0.1516  \u001b[39m | \u001b[39m18.57    \u001b[39m | \u001b[39m2.93     \u001b[39m | \u001b[39m19.31    \u001b[39m |\n",
      "| \u001b[39m86       \u001b[39m | \u001b[39m-0.1516  \u001b[39m | \u001b[39m15.15    \u001b[39m | \u001b[39m2.717    \u001b[39m | \u001b[39m19.95    \u001b[39m |\n",
      "| \u001b[39m87       \u001b[39m | \u001b[39m-0.1507  \u001b[39m | \u001b[39m14.89    \u001b[39m | \u001b[39m3.77     \u001b[39m | \u001b[39m18.17    \u001b[39m |\n",
      "| \u001b[39m88       \u001b[39m | \u001b[39m-0.17    \u001b[39m | \u001b[39m19.89    \u001b[39m | \u001b[39m7.463    \u001b[39m | \u001b[39m5.804    \u001b[39m |\n",
      "| \u001b[39m89       \u001b[39m | \u001b[39m-0.158   \u001b[39m | \u001b[39m19.99    \u001b[39m | \u001b[39m4.198    \u001b[39m | \u001b[39m10.87    \u001b[39m |\n",
      "| \u001b[39m90       \u001b[39m | \u001b[39m-0.1642  \u001b[39m | \u001b[39m19.92    \u001b[39m | \u001b[39m1.18     \u001b[39m | \u001b[39m8.303    \u001b[39m |\n",
      "| \u001b[39m91       \u001b[39m | \u001b[39m-0.1527  \u001b[39m | \u001b[39m18.18    \u001b[39m | \u001b[39m2.54     \u001b[39m | \u001b[39m12.02    \u001b[39m |\n",
      "| \u001b[39m92       \u001b[39m | \u001b[39m-0.1599  \u001b[39m | \u001b[39m19.93    \u001b[39m | \u001b[39m4.873    \u001b[39m | \u001b[39m2.201    \u001b[39m |\n",
      "| \u001b[39m93       \u001b[39m | \u001b[39m-0.1557  \u001b[39m | \u001b[39m18.58    \u001b[39m | \u001b[39m2.465    \u001b[39m | \u001b[39m9.574    \u001b[39m |\n",
      "| \u001b[39m94       \u001b[39m | \u001b[39m-0.1624  \u001b[39m | \u001b[39m6.172    \u001b[39m | \u001b[39m6.198    \u001b[39m | \u001b[39m4.721    \u001b[39m |\n",
      "| \u001b[39m95       \u001b[39m | \u001b[39m-0.1531  \u001b[39m | \u001b[39m8.033    \u001b[39m | \u001b[39m1.207    \u001b[39m | \u001b[39m19.95    \u001b[39m |\n",
      "| \u001b[39m96       \u001b[39m | \u001b[39m-0.1522  \u001b[39m | \u001b[39m19.41    \u001b[39m | \u001b[39m2.51     \u001b[39m | \u001b[39m14.78    \u001b[39m |\n",
      "| \u001b[39m97       \u001b[39m | \u001b[39m-0.1516  \u001b[39m | \u001b[39m7.883    \u001b[39m | \u001b[39m2.558    \u001b[39m | \u001b[39m19.87    \u001b[39m |\n",
      "| \u001b[39m98       \u001b[39m | \u001b[39m-0.1582  \u001b[39m | \u001b[39m12.95    \u001b[39m | \u001b[39m3.951    \u001b[39m | \u001b[39m8.262    \u001b[39m |\n",
      "| \u001b[39m99       \u001b[39m | \u001b[39m-0.1512  \u001b[39m | \u001b[39m18.72    \u001b[39m | \u001b[39m3.654    \u001b[39m | \u001b[39m14.37    \u001b[39m |\n",
      "| \u001b[39m100      \u001b[39m | \u001b[39m-0.1543  \u001b[39m | \u001b[39m17.6     \u001b[39m | \u001b[39m1.119    \u001b[39m | \u001b[39m18.71    \u001b[39m |\n",
      "| \u001b[39m101      \u001b[39m | \u001b[39m-0.1526  \u001b[39m | \u001b[39m15.47    \u001b[39m | \u001b[39m2.962    \u001b[39m | \u001b[39m11.64    \u001b[39m |\n",
      "| \u001b[39m102      \u001b[39m | \u001b[39m-0.1506  \u001b[39m | \u001b[39m16.05    \u001b[39m | \u001b[39m3.498    \u001b[39m | \u001b[39m19.06    \u001b[39m |\n",
      "| \u001b[39m103      \u001b[39m | \u001b[39m-0.1606  \u001b[39m | \u001b[39m8.227    \u001b[39m | \u001b[39m5.333    \u001b[39m | \u001b[39m17.35    \u001b[39m |\n",
      "| \u001b[39m104      \u001b[39m | \u001b[39m-0.1513  \u001b[39m | \u001b[39m9.292    \u001b[39m | \u001b[39m3.472    \u001b[39m | \u001b[39m12.99    \u001b[39m |\n",
      "| \u001b[39m105      \u001b[39m | \u001b[39m-0.1532  \u001b[39m | \u001b[39m8.719    \u001b[39m | \u001b[39m2.927    \u001b[39m | \u001b[39m16.43    \u001b[39m |\n",
      "| \u001b[39m106      \u001b[39m | \u001b[39m-0.1522  \u001b[39m | \u001b[39m9.747    \u001b[39m | \u001b[39m2.93     \u001b[39m | \u001b[39m14.22    \u001b[39m |\n",
      "=============================================================\n",
      "Best Parameters (Bayesian Optimization): {'max_depth': 19, 'min_samples_leaf': 3, 'min_samples_split': 19}\n",
      "Best Score (Bayesian Optimization): -0.15058770377692277\n"
     ]
    }
   ],
   "source": [
    "from sklearn.ensemble import RandomForestRegressor\n",
    "from sklearn.model_selection import train_test_split, GridSearchCV\n",
    "from sklearn.metrics import mean_squared_error\n",
    "from bayes_opt import BayesianOptimization\n",
    "from sklearn.model_selection import cross_val_score\n",
    "from sklearn.model_selection import train_test_split\n",
    "\n",
    "#Define the function to optimize using cross-validation\n",
    "def dtree_cv(max_depth, min_samples_split, min_samples_leaf):\n",
    "    #Define the model with the parameters to be optimized\n",
    "    estimator = RandomForestRegressor(\n",
    "        max_depth=int(max_depth),\n",
    "        min_samples_split=int(min_samples_split),\n",
    "        min_samples_leaf=int(min_samples_leaf),\n",
    "        random_state=2\n",
    "    )\n",
    "    cval = cross_val_score(estimator, X_train, y_train, scoring='neg_mean_squared_error', cv=5)\n",
    "    return cval.mean() #The optimizer tries to maximize the function, so we negate the score to minimize it\n",
    "\n",
    "#Define the parameter bounds\n",
    "param_bounds = {\n",
    "    'max_depth': (1, 20),\n",
    "    'min_samples_split': (2, 20),\n",
    "    'min_samples_leaf': (1, 20)\n",
    "}\n",
    "\n",
    "optimizer = BayesianOptimization(\n",
    "    f=dtree_cv,\n",
    "    pbounds=param_bounds,\n",
    "    random_state=1,\n",
    ")\n",
    "\n",
    "optimizer.maximize(n_iter=100, init_points=6) #Bayesian optimization\n",
    "best_params_bayes = optimizer.max['params']\n",
    "best_params_bayes['max_depth'] = int(best_params_bayes['max_depth'])\n",
    "best_params_bayes['min_samples_split'] = int(best_params_bayes['min_samples_split'])\n",
    "best_params_bayes['min_samples_leaf'] = int(best_params_bayes['min_samples_leaf'])\n",
    "best_score_bayes = optimizer.max['target']\n",
    "\n",
    "print(f\"Best Parameters (Bayesian Optimization): {best_params_bayes}\")\n",
    "print(f\"Best Score (Bayesian Optimization): {best_score_bayes}\")"
   ]
  },
  {
   "cell_type": "code",
   "execution_count": 353,
   "id": "eb3958f2-dd97-45be-b948-b72ef9ab15d9",
   "metadata": {},
   "outputs": [
    {
     "name": "stdout",
     "output_type": "stream",
     "text": [
      "|   iter    |  target   | max_depth | min_sa... | min_sa... |\n",
      "-------------------------------------------------------------\n",
      "| \u001b[39m1        \u001b[39m | \u001b[39m-0.5     \u001b[39m | \u001b[39m8.923    \u001b[39m | \u001b[39m14.69    \u001b[39m | \u001b[39m2.002    \u001b[39m |\n",
      "| \u001b[35m2        \u001b[39m | \u001b[35m-0.4625  \u001b[39m | \u001b[35m6.744    \u001b[39m | \u001b[35m3.788    \u001b[39m | \u001b[35m3.662    \u001b[39m |\n",
      "| \u001b[35m3        \u001b[39m | \u001b[35m-0.4083  \u001b[39m | \u001b[35m4.539    \u001b[39m | \u001b[35m7.566    \u001b[39m | \u001b[35m9.142    \u001b[39m |\n",
      "| \u001b[35m4        \u001b[39m | \u001b[35m-0.2667  \u001b[39m | \u001b[35m11.24    \u001b[39m | \u001b[35m8.965    \u001b[39m | \u001b[35m14.33    \u001b[39m |\n",
      "| \u001b[39m5        \u001b[39m | \u001b[39m-0.4708  \u001b[39m | \u001b[39m4.885    \u001b[39m | \u001b[39m17.68    \u001b[39m | \u001b[39m2.493    \u001b[39m |\n",
      "| \u001b[39m6        \u001b[39m | \u001b[39m-0.2667  \u001b[39m | \u001b[39m13.74    \u001b[39m | \u001b[39m8.929    \u001b[39m | \u001b[39m12.06    \u001b[39m |\n",
      "| \u001b[39m7        \u001b[39m | \u001b[39m-0.3875  \u001b[39m | \u001b[39m20.0     \u001b[39m | \u001b[39m6.575    \u001b[39m | \u001b[39m20.0     \u001b[39m |\n"
     ]
    },
    {
     "name": "stderr",
     "output_type": "stream",
     "text": [
      "/opt/anaconda3/lib/python3.12/site-packages/sklearn/model_selection/_split.py:737: UserWarning: The least populated class in y has only 2 members, which is less than n_splits=5.\n",
      "  warnings.warn(\n",
      "/opt/anaconda3/lib/python3.12/site-packages/sklearn/model_selection/_split.py:737: UserWarning: The least populated class in y has only 2 members, which is less than n_splits=5.\n",
      "  warnings.warn(\n",
      "/opt/anaconda3/lib/python3.12/site-packages/sklearn/model_selection/_split.py:737: UserWarning: The least populated class in y has only 2 members, which is less than n_splits=5.\n",
      "  warnings.warn(\n",
      "/opt/anaconda3/lib/python3.12/site-packages/sklearn/model_selection/_split.py:737: UserWarning: The least populated class in y has only 2 members, which is less than n_splits=5.\n",
      "  warnings.warn(\n",
      "/opt/anaconda3/lib/python3.12/site-packages/sklearn/model_selection/_split.py:737: UserWarning: The least populated class in y has only 2 members, which is less than n_splits=5.\n",
      "  warnings.warn(\n",
      "/opt/anaconda3/lib/python3.12/site-packages/sklearn/model_selection/_split.py:737: UserWarning: The least populated class in y has only 2 members, which is less than n_splits=5.\n",
      "  warnings.warn(\n",
      "/opt/anaconda3/lib/python3.12/site-packages/sklearn/model_selection/_split.py:737: UserWarning: The least populated class in y has only 2 members, which is less than n_splits=5.\n",
      "  warnings.warn(\n",
      "/opt/anaconda3/lib/python3.12/site-packages/sklearn/model_selection/_split.py:737: UserWarning: The least populated class in y has only 2 members, which is less than n_splits=5.\n",
      "  warnings.warn(\n"
     ]
    },
    {
     "name": "stdout",
     "output_type": "stream",
     "text": [
      "| \u001b[39m8        \u001b[39m | \u001b[39m-0.4792  \u001b[39m | \u001b[39m14.08    \u001b[39m | \u001b[39m16.33    \u001b[39m | \u001b[39m16.42    \u001b[39m |\n"
     ]
    },
    {
     "name": "stderr",
     "output_type": "stream",
     "text": [
      "/opt/anaconda3/lib/python3.12/site-packages/sklearn/model_selection/_split.py:737: UserWarning: The least populated class in y has only 2 members, which is less than n_splits=5.\n",
      "  warnings.warn(\n",
      "/opt/anaconda3/lib/python3.12/site-packages/sklearn/model_selection/_split.py:737: UserWarning: The least populated class in y has only 2 members, which is less than n_splits=5.\n",
      "  warnings.warn(\n"
     ]
    },
    {
     "name": "stdout",
     "output_type": "stream",
     "text": [
      "| \u001b[39m9        \u001b[39m | \u001b[39m-0.3583  \u001b[39m | \u001b[39m12.78    \u001b[39m | \u001b[39m3.772    \u001b[39m | \u001b[39m14.24    \u001b[39m |\n",
      "| \u001b[39m10       \u001b[39m | \u001b[39m-0.4125  \u001b[39m | \u001b[39m19.13    \u001b[39m | \u001b[39m7.804    \u001b[39m | \u001b[39m10.3     \u001b[39m |\n"
     ]
    },
    {
     "name": "stderr",
     "output_type": "stream",
     "text": [
      "/opt/anaconda3/lib/python3.12/site-packages/sklearn/model_selection/_split.py:737: UserWarning: The least populated class in y has only 2 members, which is less than n_splits=5.\n",
      "  warnings.warn(\n"
     ]
    },
    {
     "name": "stdout",
     "output_type": "stream",
     "text": [
      "| \u001b[39m11       \u001b[39m | \u001b[39m-0.375   \u001b[39m | \u001b[39m10.75    \u001b[39m | \u001b[39m10.27    \u001b[39m | \u001b[39m11.22    \u001b[39m |\n"
     ]
    },
    {
     "name": "stderr",
     "output_type": "stream",
     "text": [
      "/opt/anaconda3/lib/python3.12/site-packages/sklearn/model_selection/_split.py:737: UserWarning: The least populated class in y has only 2 members, which is less than n_splits=5.\n",
      "  warnings.warn(\n",
      "/opt/anaconda3/lib/python3.12/site-packages/sklearn/model_selection/_split.py:737: UserWarning: The least populated class in y has only 2 members, which is less than n_splits=5.\n",
      "  warnings.warn(\n"
     ]
    },
    {
     "name": "stdout",
     "output_type": "stream",
     "text": [
      "| \u001b[39m12       \u001b[39m | \u001b[39m-0.2667  \u001b[39m | \u001b[39m13.92    \u001b[39m | \u001b[39m8.01     \u001b[39m | \u001b[39m15.49    \u001b[39m |\n",
      "| \u001b[39m13       \u001b[39m | \u001b[39m-0.4083  \u001b[39m | \u001b[39m9.745    \u001b[39m | \u001b[39m7.393    \u001b[39m | \u001b[39m18.74    \u001b[39m |\n"
     ]
    },
    {
     "name": "stderr",
     "output_type": "stream",
     "text": [
      "/opt/anaconda3/lib/python3.12/site-packages/sklearn/model_selection/_split.py:737: UserWarning: The least populated class in y has only 2 members, which is less than n_splits=5.\n",
      "  warnings.warn(\n",
      "/opt/anaconda3/lib/python3.12/site-packages/sklearn/model_selection/_split.py:737: UserWarning: The least populated class in y has only 2 members, which is less than n_splits=5.\n",
      "  warnings.warn(\n"
     ]
    },
    {
     "name": "stdout",
     "output_type": "stream",
     "text": [
      "| \u001b[39m14       \u001b[39m | \u001b[39m-0.375   \u001b[39m | \u001b[39m14.02    \u001b[39m | \u001b[39m10.76    \u001b[39m | \u001b[39m14.35    \u001b[39m |\n",
      "| \u001b[39m15       \u001b[39m | \u001b[39m-0.4125  \u001b[39m | \u001b[39m12.3     \u001b[39m | \u001b[39m7.233    \u001b[39m | \u001b[39m12.69    \u001b[39m |\n"
     ]
    },
    {
     "name": "stderr",
     "output_type": "stream",
     "text": [
      "/opt/anaconda3/lib/python3.12/site-packages/sklearn/model_selection/_split.py:737: UserWarning: The least populated class in y has only 2 members, which is less than n_splits=5.\n",
      "  warnings.warn(\n"
     ]
    },
    {
     "name": "stdout",
     "output_type": "stream",
     "text": [
      "| \u001b[39m16       \u001b[39m | \u001b[39m-0.2667  \u001b[39m | \u001b[39m13.07    \u001b[39m | \u001b[39m8.656    \u001b[39m | \u001b[39m14.47    \u001b[39m |\n"
     ]
    },
    {
     "name": "stderr",
     "output_type": "stream",
     "text": [
      "/opt/anaconda3/lib/python3.12/site-packages/sklearn/model_selection/_split.py:737: UserWarning: The least populated class in y has only 2 members, which is less than n_splits=5.\n",
      "  warnings.warn(\n"
     ]
    },
    {
     "name": "stdout",
     "output_type": "stream",
     "text": [
      "| \u001b[39m17       \u001b[39m | \u001b[39m-0.2667  \u001b[39m | \u001b[39m12.11    \u001b[39m | \u001b[39m8.572    \u001b[39m | \u001b[39m15.68    \u001b[39m |\n"
     ]
    },
    {
     "name": "stderr",
     "output_type": "stream",
     "text": [
      "/opt/anaconda3/lib/python3.12/site-packages/sklearn/model_selection/_split.py:737: UserWarning: The least populated class in y has only 2 members, which is less than n_splits=5.\n",
      "  warnings.warn(\n"
     ]
    },
    {
     "name": "stdout",
     "output_type": "stream",
     "text": [
      "| \u001b[39m18       \u001b[39m | \u001b[39m-0.2667  \u001b[39m | \u001b[39m15.26    \u001b[39m | \u001b[39m8.295    \u001b[39m | \u001b[39m13.39    \u001b[39m |\n"
     ]
    },
    {
     "name": "stderr",
     "output_type": "stream",
     "text": [
      "/opt/anaconda3/lib/python3.12/site-packages/sklearn/model_selection/_split.py:737: UserWarning: The least populated class in y has only 2 members, which is less than n_splits=5.\n",
      "  warnings.warn(\n"
     ]
    },
    {
     "name": "stdout",
     "output_type": "stream",
     "text": [
      "| \u001b[39m19       \u001b[39m | \u001b[39m-0.3667  \u001b[39m | \u001b[39m15.22    \u001b[39m | \u001b[39m9.324    \u001b[39m | \u001b[39m11.09    \u001b[39m |\n",
      "| \u001b[39m20       \u001b[39m | \u001b[39m-0.3917  \u001b[39m | \u001b[39m16.14    \u001b[39m | \u001b[39m6.496    \u001b[39m | \u001b[39m14.82    \u001b[39m |\n"
     ]
    },
    {
     "name": "stderr",
     "output_type": "stream",
     "text": [
      "/opt/anaconda3/lib/python3.12/site-packages/sklearn/model_selection/_split.py:737: UserWarning: The least populated class in y has only 2 members, which is less than n_splits=5.\n",
      "  warnings.warn(\n",
      "/opt/anaconda3/lib/python3.12/site-packages/sklearn/model_selection/_split.py:737: UserWarning: The least populated class in y has only 2 members, which is less than n_splits=5.\n",
      "  warnings.warn(\n"
     ]
    },
    {
     "name": "stdout",
     "output_type": "stream",
     "text": [
      "| \u001b[39m21       \u001b[39m | \u001b[39m-0.375   \u001b[39m | \u001b[39m10.89    \u001b[39m | \u001b[39m10.18    \u001b[39m | \u001b[39m15.67    \u001b[39m |\n",
      "| \u001b[39m22       \u001b[39m | \u001b[39m-0.3917  \u001b[39m | \u001b[39m12.21    \u001b[39m | \u001b[39m6.646    \u001b[39m | \u001b[39m15.58    \u001b[39m |\n"
     ]
    },
    {
     "name": "stderr",
     "output_type": "stream",
     "text": [
      "/opt/anaconda3/lib/python3.12/site-packages/sklearn/model_selection/_split.py:737: UserWarning: The least populated class in y has only 2 members, which is less than n_splits=5.\n",
      "  warnings.warn(\n",
      "/opt/anaconda3/lib/python3.12/site-packages/sklearn/model_selection/_split.py:737: UserWarning: The least populated class in y has only 2 members, which is less than n_splits=5.\n",
      "  warnings.warn(\n"
     ]
    },
    {
     "name": "stdout",
     "output_type": "stream",
     "text": [
      "| \u001b[39m23       \u001b[39m | \u001b[39m-0.2667  \u001b[39m | \u001b[39m14.18    \u001b[39m | \u001b[39m8.769    \u001b[39m | \u001b[39m13.63    \u001b[39m |\n",
      "| \u001b[39m24       \u001b[39m | \u001b[39m-0.3667  \u001b[39m | \u001b[39m13.59    \u001b[39m | \u001b[39m9.063    \u001b[39m | \u001b[39m16.67    \u001b[39m |\n"
     ]
    },
    {
     "name": "stderr",
     "output_type": "stream",
     "text": [
      "/opt/anaconda3/lib/python3.12/site-packages/sklearn/model_selection/_split.py:737: UserWarning: The least populated class in y has only 2 members, which is less than n_splits=5.\n",
      "  warnings.warn(\n",
      "/opt/anaconda3/lib/python3.12/site-packages/sklearn/model_selection/_split.py:737: UserWarning: The least populated class in y has only 2 members, which is less than n_splits=5.\n",
      "  warnings.warn(\n"
     ]
    },
    {
     "name": "stdout",
     "output_type": "stream",
     "text": [
      "| \u001b[39m25       \u001b[39m | \u001b[39m-0.3667  \u001b[39m | \u001b[39m12.77    \u001b[39m | \u001b[39m9.622    \u001b[39m | \u001b[39m12.64    \u001b[39m |\n",
      "| \u001b[39m26       \u001b[39m | \u001b[39m-0.4125  \u001b[39m | \u001b[39m14.55    \u001b[39m | \u001b[39m7.798    \u001b[39m | \u001b[39m13.11    \u001b[39m |\n"
     ]
    },
    {
     "name": "stderr",
     "output_type": "stream",
     "text": [
      "/opt/anaconda3/lib/python3.12/site-packages/sklearn/model_selection/_split.py:737: UserWarning: The least populated class in y has only 2 members, which is less than n_splits=5.\n",
      "  warnings.warn(\n",
      "/opt/anaconda3/lib/python3.12/site-packages/sklearn/model_selection/_split.py:737: UserWarning: The least populated class in y has only 2 members, which is less than n_splits=5.\n",
      "  warnings.warn(\n"
     ]
    },
    {
     "name": "stdout",
     "output_type": "stream",
     "text": [
      "| \u001b[39m27       \u001b[39m | \u001b[39m-0.3667  \u001b[39m | \u001b[39m14.92    \u001b[39m | \u001b[39m9.231    \u001b[39m | \u001b[39m14.06    \u001b[39m |\n",
      "| \u001b[39m28       \u001b[39m | \u001b[39m-0.4     \u001b[39m | \u001b[39m5.371    \u001b[39m | \u001b[39m2.231    \u001b[39m | \u001b[39m14.67    \u001b[39m |\n"
     ]
    },
    {
     "name": "stderr",
     "output_type": "stream",
     "text": [
      "/opt/anaconda3/lib/python3.12/site-packages/sklearn/model_selection/_split.py:737: UserWarning: The least populated class in y has only 2 members, which is less than n_splits=5.\n",
      "  warnings.warn(\n",
      "/opt/anaconda3/lib/python3.12/site-packages/sklearn/model_selection/_split.py:737: UserWarning: The least populated class in y has only 2 members, which is less than n_splits=5.\n",
      "  warnings.warn(\n"
     ]
    },
    {
     "name": "stdout",
     "output_type": "stream",
     "text": [
      "| \u001b[39m29       \u001b[39m | \u001b[39m-0.2667  \u001b[39m | \u001b[39m13.08    \u001b[39m | \u001b[39m8.505    \u001b[39m | \u001b[39m15.31    \u001b[39m |\n",
      "| \u001b[39m30       \u001b[39m | \u001b[39m-0.2667  \u001b[39m | \u001b[39m12.18    \u001b[39m | \u001b[39m8.648    \u001b[39m | \u001b[39m14.79    \u001b[39m |\n"
     ]
    },
    {
     "name": "stderr",
     "output_type": "stream",
     "text": [
      "/opt/anaconda3/lib/python3.12/site-packages/sklearn/model_selection/_split.py:737: UserWarning: The least populated class in y has only 2 members, which is less than n_splits=5.\n",
      "  warnings.warn(\n",
      "/opt/anaconda3/lib/python3.12/site-packages/sklearn/model_selection/_split.py:737: UserWarning: The least populated class in y has only 2 members, which is less than n_splits=5.\n",
      "  warnings.warn(\n"
     ]
    },
    {
     "name": "stdout",
     "output_type": "stream",
     "text": [
      "| \u001b[39m31       \u001b[39m | \u001b[39m-0.2667  \u001b[39m | \u001b[39m11.11    \u001b[39m | \u001b[39m8.22     \u001b[39m | \u001b[39m14.95    \u001b[39m |\n",
      "| \u001b[39m32       \u001b[39m | \u001b[39m-0.3667  \u001b[39m | \u001b[39m14.77    \u001b[39m | \u001b[39m9.087    \u001b[39m | \u001b[39m12.89    \u001b[39m |\n"
     ]
    },
    {
     "name": "stderr",
     "output_type": "stream",
     "text": [
      "/opt/anaconda3/lib/python3.12/site-packages/sklearn/model_selection/_split.py:737: UserWarning: The least populated class in y has only 2 members, which is less than n_splits=5.\n",
      "  warnings.warn(\n",
      "/opt/anaconda3/lib/python3.12/site-packages/sklearn/model_selection/_split.py:737: UserWarning: The least populated class in y has only 2 members, which is less than n_splits=5.\n",
      "  warnings.warn(\n"
     ]
    },
    {
     "name": "stdout",
     "output_type": "stream",
     "text": [
      "| \u001b[39m33       \u001b[39m | \u001b[39m-0.2667  \u001b[39m | \u001b[39m13.9     \u001b[39m | \u001b[39m8.603    \u001b[39m | \u001b[39m14.33    \u001b[39m |\n"
     ]
    },
    {
     "name": "stderr",
     "output_type": "stream",
     "text": [
      "/opt/anaconda3/lib/python3.12/site-packages/sklearn/model_selection/_split.py:737: UserWarning: The least populated class in y has only 2 members, which is less than n_splits=5.\n",
      "  warnings.warn(\n"
     ]
    },
    {
     "name": "stdout",
     "output_type": "stream",
     "text": [
      "| \u001b[39m34       \u001b[39m | \u001b[39m-0.4125  \u001b[39m | \u001b[39m13.2     \u001b[39m | \u001b[39m7.616    \u001b[39m | \u001b[39m14.83    \u001b[39m |\n"
     ]
    },
    {
     "name": "stderr",
     "output_type": "stream",
     "text": [
      "/opt/anaconda3/lib/python3.12/site-packages/sklearn/model_selection/_split.py:737: UserWarning: The least populated class in y has only 2 members, which is less than n_splits=5.\n",
      "  warnings.warn(\n"
     ]
    },
    {
     "name": "stdout",
     "output_type": "stream",
     "text": [
      "| \u001b[39m35       \u001b[39m | \u001b[39m-0.3667  \u001b[39m | \u001b[39m12.85    \u001b[39m | \u001b[39m9.517    \u001b[39m | \u001b[39m15.45    \u001b[39m |\n"
     ]
    },
    {
     "name": "stderr",
     "output_type": "stream",
     "text": [
      "/opt/anaconda3/lib/python3.12/site-packages/sklearn/model_selection/_split.py:737: UserWarning: The least populated class in y has only 2 members, which is less than n_splits=5.\n",
      "  warnings.warn(\n"
     ]
    },
    {
     "name": "stdout",
     "output_type": "stream",
     "text": [
      "| \u001b[39m36       \u001b[39m | \u001b[39m-0.2667  \u001b[39m | \u001b[39m11.51    \u001b[39m | \u001b[39m8.039    \u001b[39m | \u001b[39m14.13    \u001b[39m |\n"
     ]
    },
    {
     "name": "stderr",
     "output_type": "stream",
     "text": [
      "/opt/anaconda3/lib/python3.12/site-packages/sklearn/model_selection/_split.py:737: UserWarning: The least populated class in y has only 2 members, which is less than n_splits=5.\n",
      "  warnings.warn(\n"
     ]
    },
    {
     "name": "stdout",
     "output_type": "stream",
     "text": [
      "| \u001b[39m37       \u001b[39m | \u001b[39m-0.2667  \u001b[39m | \u001b[39m13.44    \u001b[39m | \u001b[39m8.867    \u001b[39m | \u001b[39m13.49    \u001b[39m |\n"
     ]
    },
    {
     "name": "stderr",
     "output_type": "stream",
     "text": [
      "/opt/anaconda3/lib/python3.12/site-packages/sklearn/model_selection/_split.py:737: UserWarning: The least populated class in y has only 2 members, which is less than n_splits=5.\n",
      "  warnings.warn(\n"
     ]
    },
    {
     "name": "stdout",
     "output_type": "stream",
     "text": [
      "| \u001b[39m38       \u001b[39m | \u001b[39m-0.2667  \u001b[39m | \u001b[39m10.82    \u001b[39m | \u001b[39m8.169    \u001b[39m | \u001b[39m13.91    \u001b[39m |\n"
     ]
    },
    {
     "name": "stderr",
     "output_type": "stream",
     "text": [
      "/opt/anaconda3/lib/python3.12/site-packages/sklearn/model_selection/_split.py:737: UserWarning: The least populated class in y has only 2 members, which is less than n_splits=5.\n",
      "  warnings.warn(\n"
     ]
    },
    {
     "name": "stdout",
     "output_type": "stream",
     "text": [
      "| \u001b[39m39       \u001b[39m | \u001b[39m-0.2667  \u001b[39m | \u001b[39m14.64    \u001b[39m | \u001b[39m8.285    \u001b[39m | \u001b[39m15.75    \u001b[39m |\n"
     ]
    },
    {
     "name": "stderr",
     "output_type": "stream",
     "text": [
      "/opt/anaconda3/lib/python3.12/site-packages/sklearn/model_selection/_split.py:737: UserWarning: The least populated class in y has only 2 members, which is less than n_splits=5.\n",
      "  warnings.warn(\n"
     ]
    },
    {
     "name": "stdout",
     "output_type": "stream",
     "text": [
      "| \u001b[39m40       \u001b[39m | \u001b[39m-0.2667  \u001b[39m | \u001b[39m16.37    \u001b[39m | \u001b[39m8.38     \u001b[39m | \u001b[39m13.83    \u001b[39m |\n"
     ]
    },
    {
     "name": "stderr",
     "output_type": "stream",
     "text": [
      "/opt/anaconda3/lib/python3.12/site-packages/sklearn/model_selection/_split.py:737: UserWarning: The least populated class in y has only 2 members, which is less than n_splits=5.\n",
      "  warnings.warn(\n"
     ]
    },
    {
     "name": "stdout",
     "output_type": "stream",
     "text": [
      "| \u001b[39m41       \u001b[39m | \u001b[39m-0.4125  \u001b[39m | \u001b[39m15.78    \u001b[39m | \u001b[39m7.814    \u001b[39m | \u001b[39m13.69    \u001b[39m |\n"
     ]
    },
    {
     "name": "stderr",
     "output_type": "stream",
     "text": [
      "/opt/anaconda3/lib/python3.12/site-packages/sklearn/model_selection/_split.py:737: UserWarning: The least populated class in y has only 2 members, which is less than n_splits=5.\n",
      "  warnings.warn(\n"
     ]
    },
    {
     "name": "stdout",
     "output_type": "stream",
     "text": [
      "| \u001b[39m42       \u001b[39m | \u001b[39m-0.2667  \u001b[39m | \u001b[39m16.62    \u001b[39m | \u001b[39m8.758    \u001b[39m | \u001b[39m14.54    \u001b[39m |\n"
     ]
    },
    {
     "name": "stderr",
     "output_type": "stream",
     "text": [
      "/opt/anaconda3/lib/python3.12/site-packages/sklearn/model_selection/_split.py:737: UserWarning: The least populated class in y has only 2 members, which is less than n_splits=5.\n",
      "  warnings.warn(\n"
     ]
    },
    {
     "name": "stdout",
     "output_type": "stream",
     "text": [
      "| \u001b[39m43       \u001b[39m | \u001b[39m-0.2667  \u001b[39m | \u001b[39m14.15    \u001b[39m | \u001b[39m8.539    \u001b[39m | \u001b[39m15.36    \u001b[39m |\n"
     ]
    },
    {
     "name": "stderr",
     "output_type": "stream",
     "text": [
      "/opt/anaconda3/lib/python3.12/site-packages/sklearn/model_selection/_split.py:737: UserWarning: The least populated class in y has only 2 members, which is less than n_splits=5.\n",
      "  warnings.warn(\n"
     ]
    },
    {
     "name": "stdout",
     "output_type": "stream",
     "text": [
      "| \u001b[39m44       \u001b[39m | \u001b[39m-0.3667  \u001b[39m | \u001b[39m16.65    \u001b[39m | \u001b[39m9.287    \u001b[39m | \u001b[39m13.66    \u001b[39m |\n"
     ]
    },
    {
     "name": "stderr",
     "output_type": "stream",
     "text": [
      "/opt/anaconda3/lib/python3.12/site-packages/sklearn/model_selection/_split.py:737: UserWarning: The least populated class in y has only 2 members, which is less than n_splits=5.\n",
      "  warnings.warn(\n"
     ]
    },
    {
     "name": "stdout",
     "output_type": "stream",
     "text": [
      "| \u001b[39m45       \u001b[39m | \u001b[39m-0.2667  \u001b[39m | \u001b[39m10.63    \u001b[39m | \u001b[39m8.039    \u001b[39m | \u001b[39m14.5     \u001b[39m |\n"
     ]
    },
    {
     "name": "stderr",
     "output_type": "stream",
     "text": [
      "/opt/anaconda3/lib/python3.12/site-packages/sklearn/model_selection/_split.py:737: UserWarning: The least populated class in y has only 2 members, which is less than n_splits=5.\n",
      "  warnings.warn(\n"
     ]
    },
    {
     "name": "stdout",
     "output_type": "stream",
     "text": [
      "| \u001b[39m46       \u001b[39m | \u001b[39m-0.2667  \u001b[39m | \u001b[39m12.01    \u001b[39m | \u001b[39m8.833    \u001b[39m | \u001b[39m13.93    \u001b[39m |\n"
     ]
    },
    {
     "name": "stderr",
     "output_type": "stream",
     "text": [
      "/opt/anaconda3/lib/python3.12/site-packages/sklearn/model_selection/_split.py:737: UserWarning: The least populated class in y has only 2 members, which is less than n_splits=5.\n",
      "  warnings.warn(\n"
     ]
    },
    {
     "name": "stdout",
     "output_type": "stream",
     "text": [
      "| \u001b[39m47       \u001b[39m | \u001b[39m-0.2667  \u001b[39m | \u001b[39m17.53    \u001b[39m | \u001b[39m8.178    \u001b[39m | \u001b[39m14.23    \u001b[39m |\n"
     ]
    },
    {
     "name": "stderr",
     "output_type": "stream",
     "text": [
      "/opt/anaconda3/lib/python3.12/site-packages/sklearn/model_selection/_split.py:737: UserWarning: The least populated class in y has only 2 members, which is less than n_splits=5.\n",
      "  warnings.warn(\n"
     ]
    },
    {
     "name": "stdout",
     "output_type": "stream",
     "text": [
      "| \u001b[39m48       \u001b[39m | \u001b[39m-0.2667  \u001b[39m | \u001b[39m17.19    \u001b[39m | \u001b[39m8.42     \u001b[39m | \u001b[39m14.91    \u001b[39m |\n"
     ]
    },
    {
     "name": "stderr",
     "output_type": "stream",
     "text": [
      "/opt/anaconda3/lib/python3.12/site-packages/sklearn/model_selection/_split.py:737: UserWarning: The least populated class in y has only 2 members, which is less than n_splits=5.\n",
      "  warnings.warn(\n"
     ]
    },
    {
     "name": "stdout",
     "output_type": "stream",
     "text": [
      "| \u001b[39m49       \u001b[39m | \u001b[39m-0.3667  \u001b[39m | \u001b[39m10.32    \u001b[39m | \u001b[39m9.255    \u001b[39m | \u001b[39m13.77    \u001b[39m |\n"
     ]
    },
    {
     "name": "stderr",
     "output_type": "stream",
     "text": [
      "/opt/anaconda3/lib/python3.12/site-packages/sklearn/model_selection/_split.py:737: UserWarning: The least populated class in y has only 2 members, which is less than n_splits=5.\n",
      "  warnings.warn(\n"
     ]
    },
    {
     "name": "stdout",
     "output_type": "stream",
     "text": [
      "| \u001b[39m50       \u001b[39m | \u001b[39m-0.2667  \u001b[39m | \u001b[39m16.25    \u001b[39m | \u001b[39m8.544    \u001b[39m | \u001b[39m15.49    \u001b[39m |\n"
     ]
    },
    {
     "name": "stderr",
     "output_type": "stream",
     "text": [
      "/opt/anaconda3/lib/python3.12/site-packages/sklearn/model_selection/_split.py:737: UserWarning: The least populated class in y has only 2 members, which is less than n_splits=5.\n",
      "  warnings.warn(\n"
     ]
    },
    {
     "name": "stdout",
     "output_type": "stream",
     "text": [
      "| \u001b[39m51       \u001b[39m | \u001b[39m-0.4125  \u001b[39m | \u001b[39m15.72    \u001b[39m | \u001b[39m7.833    \u001b[39m | \u001b[39m16.37    \u001b[39m |\n"
     ]
    },
    {
     "name": "stderr",
     "output_type": "stream",
     "text": [
      "/opt/anaconda3/lib/python3.12/site-packages/sklearn/model_selection/_split.py:737: UserWarning: The least populated class in y has only 2 members, which is less than n_splits=5.\n",
      "  warnings.warn(\n"
     ]
    },
    {
     "name": "stdout",
     "output_type": "stream",
     "text": [
      "| \u001b[39m52       \u001b[39m | \u001b[39m-0.2667  \u001b[39m | \u001b[39m16.68    \u001b[39m | \u001b[39m8.932    \u001b[39m | \u001b[39m15.71    \u001b[39m |\n"
     ]
    },
    {
     "name": "stderr",
     "output_type": "stream",
     "text": [
      "/opt/anaconda3/lib/python3.12/site-packages/sklearn/model_selection/_split.py:737: UserWarning: The least populated class in y has only 2 members, which is less than n_splits=5.\n",
      "  warnings.warn(\n"
     ]
    },
    {
     "name": "stdout",
     "output_type": "stream",
     "text": [
      "| \u001b[39m53       \u001b[39m | \u001b[39m-0.3667  \u001b[39m | \u001b[39m16.07    \u001b[39m | \u001b[39m9.739    \u001b[39m | \u001b[39m15.62    \u001b[39m |\n"
     ]
    },
    {
     "name": "stderr",
     "output_type": "stream",
     "text": [
      "/opt/anaconda3/lib/python3.12/site-packages/sklearn/model_selection/_split.py:737: UserWarning: The least populated class in y has only 2 members, which is less than n_splits=5.\n",
      "  warnings.warn(\n"
     ]
    },
    {
     "name": "stdout",
     "output_type": "stream",
     "text": [
      "| \u001b[39m54       \u001b[39m | \u001b[39m-0.3667  \u001b[39m | \u001b[39m17.79    \u001b[39m | \u001b[39m9.163    \u001b[39m | \u001b[39m15.16    \u001b[39m |\n"
     ]
    },
    {
     "name": "stderr",
     "output_type": "stream",
     "text": [
      "/opt/anaconda3/lib/python3.12/site-packages/sklearn/model_selection/_split.py:737: UserWarning: The least populated class in y has only 2 members, which is less than n_splits=5.\n",
      "  warnings.warn(\n"
     ]
    },
    {
     "name": "stdout",
     "output_type": "stream",
     "text": [
      "| \u001b[39m55       \u001b[39m | \u001b[39m-0.3667  \u001b[39m | \u001b[39m13.43    \u001b[39m | \u001b[39m9.073    \u001b[39m | \u001b[39m11.14    \u001b[39m |\n"
     ]
    },
    {
     "name": "stderr",
     "output_type": "stream",
     "text": [
      "/opt/anaconda3/lib/python3.12/site-packages/sklearn/model_selection/_split.py:737: UserWarning: The least populated class in y has only 2 members, which is less than n_splits=5.\n",
      "  warnings.warn(\n"
     ]
    },
    {
     "name": "stdout",
     "output_type": "stream",
     "text": [
      "| \u001b[39m56       \u001b[39m | \u001b[39m-0.3667  \u001b[39m | \u001b[39m12.94    \u001b[39m | \u001b[39m9.44     \u001b[39m | \u001b[39m14.09    \u001b[39m |\n"
     ]
    },
    {
     "name": "stderr",
     "output_type": "stream",
     "text": [
      "/opt/anaconda3/lib/python3.12/site-packages/sklearn/model_selection/_split.py:737: UserWarning: The least populated class in y has only 2 members, which is less than n_splits=5.\n",
      "  warnings.warn(\n"
     ]
    },
    {
     "name": "stdout",
     "output_type": "stream",
     "text": [
      "| \u001b[39m57       \u001b[39m | \u001b[39m-0.4125  \u001b[39m | \u001b[39m16.57    \u001b[39m | \u001b[39m7.976    \u001b[39m | \u001b[39m14.6     \u001b[39m |\n"
     ]
    },
    {
     "name": "stderr",
     "output_type": "stream",
     "text": [
      "/opt/anaconda3/lib/python3.12/site-packages/sklearn/model_selection/_split.py:737: UserWarning: The least populated class in y has only 2 members, which is less than n_splits=5.\n",
      "  warnings.warn(\n"
     ]
    },
    {
     "name": "stdout",
     "output_type": "stream",
     "text": [
      "| \u001b[39m58       \u001b[39m | \u001b[39m-0.2667  \u001b[39m | \u001b[39m11.39    \u001b[39m | \u001b[39m8.53     \u001b[39m | \u001b[39m13.29    \u001b[39m |\n"
     ]
    },
    {
     "name": "stderr",
     "output_type": "stream",
     "text": [
      "/opt/anaconda3/lib/python3.12/site-packages/sklearn/model_selection/_split.py:737: UserWarning: The least populated class in y has only 2 members, which is less than n_splits=5.\n",
      "  warnings.warn(\n"
     ]
    },
    {
     "name": "stdout",
     "output_type": "stream",
     "text": [
      "| \u001b[39m59       \u001b[39m | \u001b[39m-0.2667  \u001b[39m | \u001b[39m13.91    \u001b[39m | \u001b[39m8.751    \u001b[39m | \u001b[39m14.49    \u001b[39m |\n"
     ]
    },
    {
     "name": "stderr",
     "output_type": "stream",
     "text": [
      "/opt/anaconda3/lib/python3.12/site-packages/sklearn/model_selection/_split.py:737: UserWarning: The least populated class in y has only 2 members, which is less than n_splits=5.\n",
      "  warnings.warn(\n"
     ]
    },
    {
     "name": "stdout",
     "output_type": "stream",
     "text": [
      "| \u001b[39m60       \u001b[39m | \u001b[39m-0.4792  \u001b[39m | \u001b[39m3.064    \u001b[39m | \u001b[39m16.49    \u001b[39m | \u001b[39m19.54    \u001b[39m |\n"
     ]
    },
    {
     "name": "stderr",
     "output_type": "stream",
     "text": [
      "/opt/anaconda3/lib/python3.12/site-packages/sklearn/model_selection/_split.py:737: UserWarning: The least populated class in y has only 2 members, which is less than n_splits=5.\n",
      "  warnings.warn(\n"
     ]
    },
    {
     "name": "stdout",
     "output_type": "stream",
     "text": [
      "| \u001b[39m61       \u001b[39m | \u001b[39m-0.2667  \u001b[39m | \u001b[39m11.36    \u001b[39m | \u001b[39m8.476    \u001b[39m | \u001b[39m15.62    \u001b[39m |\n"
     ]
    },
    {
     "name": "stderr",
     "output_type": "stream",
     "text": [
      "/opt/anaconda3/lib/python3.12/site-packages/sklearn/model_selection/_split.py:737: UserWarning: The least populated class in y has only 2 members, which is less than n_splits=5.\n",
      "  warnings.warn(\n"
     ]
    },
    {
     "name": "stdout",
     "output_type": "stream",
     "text": [
      "| \u001b[39m62       \u001b[39m | \u001b[39m-0.2667  \u001b[39m | \u001b[39m11.89    \u001b[39m | \u001b[39m8.284    \u001b[39m | \u001b[39m16.36    \u001b[39m |\n"
     ]
    },
    {
     "name": "stderr",
     "output_type": "stream",
     "text": [
      "/opt/anaconda3/lib/python3.12/site-packages/sklearn/model_selection/_split.py:737: UserWarning: The least populated class in y has only 2 members, which is less than n_splits=5.\n",
      "  warnings.warn(\n"
     ]
    },
    {
     "name": "stdout",
     "output_type": "stream",
     "text": [
      "| \u001b[39m63       \u001b[39m | \u001b[39m-0.2667  \u001b[39m | \u001b[39m10.95    \u001b[39m | \u001b[39m8.657    \u001b[39m | \u001b[39m16.66    \u001b[39m |\n"
     ]
    },
    {
     "name": "stderr",
     "output_type": "stream",
     "text": [
      "/opt/anaconda3/lib/python3.12/site-packages/sklearn/model_selection/_split.py:737: UserWarning: The least populated class in y has only 2 members, which is less than n_splits=5.\n",
      "  warnings.warn(\n"
     ]
    },
    {
     "name": "stdout",
     "output_type": "stream",
     "text": [
      "| \u001b[39m64       \u001b[39m | \u001b[39m-0.2667  \u001b[39m | \u001b[39m10.47    \u001b[39m | \u001b[39m8.265    \u001b[39m | \u001b[39m15.83    \u001b[39m |\n"
     ]
    },
    {
     "name": "stderr",
     "output_type": "stream",
     "text": [
      "/opt/anaconda3/lib/python3.12/site-packages/sklearn/model_selection/_split.py:737: UserWarning: The least populated class in y has only 2 members, which is less than n_splits=5.\n",
      "  warnings.warn(\n"
     ]
    },
    {
     "name": "stdout",
     "output_type": "stream",
     "text": [
      "| \u001b[39m65       \u001b[39m | \u001b[39m-0.4125  \u001b[39m | \u001b[39m10.8     \u001b[39m | \u001b[39m7.73     \u001b[39m | \u001b[39m16.71    \u001b[39m |\n"
     ]
    },
    {
     "name": "stderr",
     "output_type": "stream",
     "text": [
      "/opt/anaconda3/lib/python3.12/site-packages/sklearn/model_selection/_split.py:737: UserWarning: The least populated class in y has only 2 members, which is less than n_splits=5.\n",
      "  warnings.warn(\n"
     ]
    },
    {
     "name": "stdout",
     "output_type": "stream",
     "text": [
      "| \u001b[39m66       \u001b[39m | \u001b[39m-0.3667  \u001b[39m | \u001b[39m11.15    \u001b[39m | \u001b[39m9.284    \u001b[39m | \u001b[39m16.82    \u001b[39m |\n"
     ]
    },
    {
     "name": "stderr",
     "output_type": "stream",
     "text": [
      "/opt/anaconda3/lib/python3.12/site-packages/sklearn/model_selection/_split.py:737: UserWarning: The least populated class in y has only 2 members, which is less than n_splits=5.\n",
      "  warnings.warn(\n"
     ]
    },
    {
     "name": "stdout",
     "output_type": "stream",
     "text": [
      "| \u001b[39m67       \u001b[39m | \u001b[39m-0.2667  \u001b[39m | \u001b[39m10.36    \u001b[39m | \u001b[39m8.979    \u001b[39m | \u001b[39m16.17    \u001b[39m |\n"
     ]
    },
    {
     "name": "stderr",
     "output_type": "stream",
     "text": [
      "/opt/anaconda3/lib/python3.12/site-packages/sklearn/model_selection/_split.py:737: UserWarning: The least populated class in y has only 2 members, which is less than n_splits=5.\n",
      "  warnings.warn(\n"
     ]
    },
    {
     "name": "stdout",
     "output_type": "stream",
     "text": [
      "| \u001b[39m68       \u001b[39m | \u001b[39m-0.2667  \u001b[39m | \u001b[39m9.533    \u001b[39m | \u001b[39m8.977    \u001b[39m | \u001b[39m15.57    \u001b[39m |\n"
     ]
    },
    {
     "name": "stderr",
     "output_type": "stream",
     "text": [
      "/opt/anaconda3/lib/python3.12/site-packages/sklearn/model_selection/_split.py:737: UserWarning: The least populated class in y has only 2 members, which is less than n_splits=5.\n",
      "  warnings.warn(\n"
     ]
    },
    {
     "name": "stdout",
     "output_type": "stream",
     "text": [
      "| \u001b[39m69       \u001b[39m | \u001b[39m-0.3667  \u001b[39m | \u001b[39m10.1     \u001b[39m | \u001b[39m9.009    \u001b[39m | \u001b[39m15.2     \u001b[39m |\n"
     ]
    },
    {
     "name": "stderr",
     "output_type": "stream",
     "text": [
      "/opt/anaconda3/lib/python3.12/site-packages/sklearn/model_selection/_split.py:737: UserWarning: The least populated class in y has only 2 members, which is less than n_splits=5.\n",
      "  warnings.warn(\n"
     ]
    },
    {
     "name": "stdout",
     "output_type": "stream",
     "text": [
      "| \u001b[39m70       \u001b[39m | \u001b[39m-0.2667  \u001b[39m | \u001b[39m9.353    \u001b[39m | \u001b[39m8.713    \u001b[39m | \u001b[39m16.73    \u001b[39m |\n"
     ]
    },
    {
     "name": "stderr",
     "output_type": "stream",
     "text": [
      "/opt/anaconda3/lib/python3.12/site-packages/sklearn/model_selection/_split.py:737: UserWarning: The least populated class in y has only 2 members, which is less than n_splits=5.\n",
      "  warnings.warn(\n"
     ]
    },
    {
     "name": "stdout",
     "output_type": "stream",
     "text": [
      "| \u001b[39m71       \u001b[39m | \u001b[39m-0.2667  \u001b[39m | \u001b[39m9.292    \u001b[39m | \u001b[39m8.249    \u001b[39m | \u001b[39m16.05    \u001b[39m |\n"
     ]
    },
    {
     "name": "stderr",
     "output_type": "stream",
     "text": [
      "/opt/anaconda3/lib/python3.12/site-packages/sklearn/model_selection/_split.py:737: UserWarning: The least populated class in y has only 2 members, which is less than n_splits=5.\n",
      "  warnings.warn(\n"
     ]
    },
    {
     "name": "stdout",
     "output_type": "stream",
     "text": [
      "| \u001b[39m72       \u001b[39m | \u001b[39m-0.3667  \u001b[39m | \u001b[39m9.609    \u001b[39m | \u001b[39m9.582    \u001b[39m | \u001b[39m16.54    \u001b[39m |\n"
     ]
    },
    {
     "name": "stderr",
     "output_type": "stream",
     "text": [
      "/opt/anaconda3/lib/python3.12/site-packages/sklearn/model_selection/_split.py:737: UserWarning: The least populated class in y has only 2 members, which is less than n_splits=5.\n",
      "  warnings.warn(\n"
     ]
    },
    {
     "name": "stdout",
     "output_type": "stream",
     "text": [
      "| \u001b[39m73       \u001b[39m | \u001b[39m-0.4125  \u001b[39m | \u001b[39m5.129    \u001b[39m | \u001b[39m6.353    \u001b[39m | \u001b[39m7.228    \u001b[39m |\n"
     ]
    },
    {
     "name": "stderr",
     "output_type": "stream",
     "text": [
      "/opt/anaconda3/lib/python3.12/site-packages/sklearn/model_selection/_split.py:737: UserWarning: The least populated class in y has only 2 members, which is less than n_splits=5.\n",
      "  warnings.warn(\n"
     ]
    },
    {
     "name": "stdout",
     "output_type": "stream",
     "text": [
      "| \u001b[39m74       \u001b[39m | \u001b[39m-0.2667  \u001b[39m | \u001b[39m8.61     \u001b[39m | \u001b[39m8.34     \u001b[39m | \u001b[39m15.91    \u001b[39m |\n"
     ]
    },
    {
     "name": "stderr",
     "output_type": "stream",
     "text": [
      "/opt/anaconda3/lib/python3.12/site-packages/sklearn/model_selection/_split.py:737: UserWarning: The least populated class in y has only 2 members, which is less than n_splits=5.\n",
      "  warnings.warn(\n"
     ]
    },
    {
     "name": "stdout",
     "output_type": "stream",
     "text": [
      "| \u001b[39m75       \u001b[39m | \u001b[39m-0.4125  \u001b[39m | \u001b[39m13.91    \u001b[39m | \u001b[39m7.926    \u001b[39m | \u001b[39m15.43    \u001b[39m |\n"
     ]
    },
    {
     "name": "stderr",
     "output_type": "stream",
     "text": [
      "/opt/anaconda3/lib/python3.12/site-packages/sklearn/model_selection/_split.py:737: UserWarning: The least populated class in y has only 2 members, which is less than n_splits=5.\n",
      "  warnings.warn(\n"
     ]
    },
    {
     "name": "stdout",
     "output_type": "stream",
     "text": [
      "| \u001b[39m76       \u001b[39m | \u001b[39m-0.375   \u001b[39m | \u001b[39m16.62    \u001b[39m | \u001b[39m10.05    \u001b[39m | \u001b[39m15.08    \u001b[39m |\n"
     ]
    },
    {
     "name": "stderr",
     "output_type": "stream",
     "text": [
      "/opt/anaconda3/lib/python3.12/site-packages/sklearn/model_selection/_split.py:737: UserWarning: The least populated class in y has only 2 members, which is less than n_splits=5.\n",
      "  warnings.warn(\n"
     ]
    },
    {
     "name": "stdout",
     "output_type": "stream",
     "text": [
      "| \u001b[39m77       \u001b[39m | \u001b[39m-0.4417  \u001b[39m | \u001b[39m9.708    \u001b[39m | \u001b[39m19.42    \u001b[39m | \u001b[39m12.24    \u001b[39m |\n"
     ]
    },
    {
     "name": "stderr",
     "output_type": "stream",
     "text": [
      "/opt/anaconda3/lib/python3.12/site-packages/sklearn/model_selection/_split.py:737: UserWarning: The least populated class in y has only 2 members, which is less than n_splits=5.\n",
      "  warnings.warn(\n"
     ]
    },
    {
     "name": "stdout",
     "output_type": "stream",
     "text": [
      "| \u001b[39m78       \u001b[39m | \u001b[39m-0.5292  \u001b[39m | \u001b[39m8.471    \u001b[39m | \u001b[39m13.98    \u001b[39m | \u001b[39m4.488    \u001b[39m |\n"
     ]
    },
    {
     "name": "stderr",
     "output_type": "stream",
     "text": [
      "/opt/anaconda3/lib/python3.12/site-packages/sklearn/model_selection/_split.py:737: UserWarning: The least populated class in y has only 2 members, which is less than n_splits=5.\n",
      "  warnings.warn(\n"
     ]
    },
    {
     "name": "stdout",
     "output_type": "stream",
     "text": [
      "| \u001b[39m79       \u001b[39m | \u001b[39m-0.4542  \u001b[39m | \u001b[39m3.555    \u001b[39m | \u001b[39m18.83    \u001b[39m | \u001b[39m2.17     \u001b[39m |\n"
     ]
    },
    {
     "name": "stderr",
     "output_type": "stream",
     "text": [
      "/opt/anaconda3/lib/python3.12/site-packages/sklearn/model_selection/_split.py:737: UserWarning: The least populated class in y has only 2 members, which is less than n_splits=5.\n",
      "  warnings.warn(\n"
     ]
    },
    {
     "name": "stdout",
     "output_type": "stream",
     "text": [
      "| \u001b[39m80       \u001b[39m | \u001b[39m-0.4792  \u001b[39m | \u001b[39m7.043    \u001b[39m | \u001b[39m16.32    \u001b[39m | \u001b[39m13.29    \u001b[39m |\n"
     ]
    },
    {
     "name": "stderr",
     "output_type": "stream",
     "text": [
      "/opt/anaconda3/lib/python3.12/site-packages/sklearn/model_selection/_split.py:737: UserWarning: The least populated class in y has only 2 members, which is less than n_splits=5.\n",
      "  warnings.warn(\n"
     ]
    },
    {
     "name": "stdout",
     "output_type": "stream",
     "text": [
      "| \u001b[39m81       \u001b[39m | \u001b[39m-0.3875  \u001b[39m | \u001b[39m4.359    \u001b[39m | \u001b[39m4.975    \u001b[39m | \u001b[39m11.55    \u001b[39m |\n"
     ]
    },
    {
     "name": "stderr",
     "output_type": "stream",
     "text": [
      "/opt/anaconda3/lib/python3.12/site-packages/sklearn/model_selection/_split.py:737: UserWarning: The least populated class in y has only 2 members, which is less than n_splits=5.\n",
      "  warnings.warn(\n"
     ]
    },
    {
     "name": "stdout",
     "output_type": "stream",
     "text": [
      "| \u001b[39m82       \u001b[39m | \u001b[39m-0.3875  \u001b[39m | \u001b[39m16.68    \u001b[39m | \u001b[39m3.278    \u001b[39m | \u001b[39m12.05    \u001b[39m |\n"
     ]
    },
    {
     "name": "stderr",
     "output_type": "stream",
     "text": [
      "/opt/anaconda3/lib/python3.12/site-packages/sklearn/model_selection/_split.py:737: UserWarning: The least populated class in y has only 2 members, which is less than n_splits=5.\n",
      "  warnings.warn(\n"
     ]
    },
    {
     "name": "stdout",
     "output_type": "stream",
     "text": [
      "| \u001b[39m83       \u001b[39m | \u001b[39m-0.3667  \u001b[39m | \u001b[39m14.49    \u001b[39m | \u001b[39m9.67     \u001b[39m | \u001b[39m18.48    \u001b[39m |\n"
     ]
    },
    {
     "name": "stderr",
     "output_type": "stream",
     "text": [
      "/opt/anaconda3/lib/python3.12/site-packages/sklearn/model_selection/_split.py:737: UserWarning: The least populated class in y has only 2 members, which is less than n_splits=5.\n",
      "  warnings.warn(\n"
     ]
    },
    {
     "name": "stdout",
     "output_type": "stream",
     "text": [
      "| \u001b[39m84       \u001b[39m | \u001b[39m-0.5     \u001b[39m | \u001b[39m10.72    \u001b[39m | \u001b[39m14.5     \u001b[39m | \u001b[39m18.79    \u001b[39m |\n"
     ]
    },
    {
     "name": "stderr",
     "output_type": "stream",
     "text": [
      "/opt/anaconda3/lib/python3.12/site-packages/sklearn/model_selection/_split.py:737: UserWarning: The least populated class in y has only 2 members, which is less than n_splits=5.\n",
      "  warnings.warn(\n"
     ]
    },
    {
     "name": "stdout",
     "output_type": "stream",
     "text": [
      "| \u001b[39m85       \u001b[39m | \u001b[39m-0.4417  \u001b[39m | \u001b[39m12.32    \u001b[39m | \u001b[39m19.06    \u001b[39m | \u001b[39m12.69    \u001b[39m |\n"
     ]
    },
    {
     "name": "stderr",
     "output_type": "stream",
     "text": [
      "/opt/anaconda3/lib/python3.12/site-packages/sklearn/model_selection/_split.py:737: UserWarning: The least populated class in y has only 2 members, which is less than n_splits=5.\n",
      "  warnings.warn(\n"
     ]
    },
    {
     "name": "stdout",
     "output_type": "stream",
     "text": [
      "| \u001b[39m86       \u001b[39m | \u001b[39m-0.4792  \u001b[39m | \u001b[39m16.79    \u001b[39m | \u001b[39m16.97    \u001b[39m | \u001b[39m11.67    \u001b[39m |\n"
     ]
    },
    {
     "name": "stderr",
     "output_type": "stream",
     "text": [
      "/opt/anaconda3/lib/python3.12/site-packages/sklearn/model_selection/_split.py:737: UserWarning: The least populated class in y has only 2 members, which is less than n_splits=5.\n",
      "  warnings.warn(\n"
     ]
    },
    {
     "name": "stdout",
     "output_type": "stream",
     "text": [
      "| \u001b[39m87       \u001b[39m | \u001b[39m-0.6042  \u001b[39m | \u001b[39m1.574    \u001b[39m | \u001b[39m5.614    \u001b[39m | \u001b[39m4.019    \u001b[39m |\n"
     ]
    },
    {
     "name": "stderr",
     "output_type": "stream",
     "text": [
      "/opt/anaconda3/lib/python3.12/site-packages/sklearn/model_selection/_split.py:737: UserWarning: The least populated class in y has only 2 members, which is less than n_splits=5.\n",
      "  warnings.warn(\n"
     ]
    },
    {
     "name": "stdout",
     "output_type": "stream",
     "text": [
      "| \u001b[39m88       \u001b[39m | \u001b[39m-0.3583  \u001b[39m | \u001b[39m16.06    \u001b[39m | \u001b[39m3.677    \u001b[39m | \u001b[39m16.26    \u001b[39m |\n"
     ]
    },
    {
     "name": "stderr",
     "output_type": "stream",
     "text": [
      "/opt/anaconda3/lib/python3.12/site-packages/sklearn/model_selection/_split.py:737: UserWarning: The least populated class in y has only 2 members, which is less than n_splits=5.\n",
      "  warnings.warn(\n"
     ]
    },
    {
     "name": "stdout",
     "output_type": "stream",
     "text": [
      "| \u001b[39m89       \u001b[39m | \u001b[39m-0.4333  \u001b[39m | \u001b[39m13.81    \u001b[39m | \u001b[39m15.03    \u001b[39m | \u001b[39m9.167    \u001b[39m |\n"
     ]
    },
    {
     "name": "stderr",
     "output_type": "stream",
     "text": [
      "/opt/anaconda3/lib/python3.12/site-packages/sklearn/model_selection/_split.py:737: UserWarning: The least populated class in y has only 2 members, which is less than n_splits=5.\n",
      "  warnings.warn(\n"
     ]
    },
    {
     "name": "stdout",
     "output_type": "stream",
     "text": [
      "| \u001b[39m90       \u001b[39m | \u001b[39m-0.3708  \u001b[39m | \u001b[39m8.41     \u001b[39m | \u001b[39m1.671    \u001b[39m | \u001b[39m4.787    \u001b[39m |\n"
     ]
    },
    {
     "name": "stderr",
     "output_type": "stream",
     "text": [
      "/opt/anaconda3/lib/python3.12/site-packages/sklearn/model_selection/_split.py:737: UserWarning: The least populated class in y has only 2 members, which is less than n_splits=5.\n",
      "  warnings.warn(\n"
     ]
    },
    {
     "name": "stdout",
     "output_type": "stream",
     "text": [
      "| \u001b[39m91       \u001b[39m | \u001b[39m-0.6042  \u001b[39m | \u001b[39m1.483    \u001b[39m | \u001b[39m1.686    \u001b[39m | \u001b[39m2.537    \u001b[39m |\n"
     ]
    },
    {
     "name": "stderr",
     "output_type": "stream",
     "text": [
      "/opt/anaconda3/lib/python3.12/site-packages/sklearn/model_selection/_split.py:737: UserWarning: The least populated class in y has only 2 members, which is less than n_splits=5.\n",
      "  warnings.warn(\n"
     ]
    },
    {
     "name": "stdout",
     "output_type": "stream",
     "text": [
      "| \u001b[39m92       \u001b[39m | \u001b[39m-0.4167  \u001b[39m | \u001b[39m8.425    \u001b[39m | \u001b[39m4.51     \u001b[39m | \u001b[39m3.506    \u001b[39m |\n"
     ]
    },
    {
     "name": "stderr",
     "output_type": "stream",
     "text": [
      "/opt/anaconda3/lib/python3.12/site-packages/sklearn/model_selection/_split.py:737: UserWarning: The least populated class in y has only 2 members, which is less than n_splits=5.\n",
      "  warnings.warn(\n"
     ]
    },
    {
     "name": "stdout",
     "output_type": "stream",
     "text": [
      "| \u001b[39m93       \u001b[39m | \u001b[39m-0.3917  \u001b[39m | \u001b[39m10.07    \u001b[39m | \u001b[39m5.008    \u001b[39m | \u001b[39m16.68    \u001b[39m |\n"
     ]
    },
    {
     "name": "stderr",
     "output_type": "stream",
     "text": [
      "/opt/anaconda3/lib/python3.12/site-packages/sklearn/model_selection/_split.py:737: UserWarning: The least populated class in y has only 2 members, which is less than n_splits=5.\n",
      "  warnings.warn(\n"
     ]
    },
    {
     "name": "stdout",
     "output_type": "stream",
     "text": [
      "| \u001b[39m94       \u001b[39m | \u001b[39m-0.5     \u001b[39m | \u001b[39m16.0     \u001b[39m | \u001b[39m14.61    \u001b[39m | \u001b[39m17.93    \u001b[39m |\n"
     ]
    },
    {
     "name": "stderr",
     "output_type": "stream",
     "text": [
      "/opt/anaconda3/lib/python3.12/site-packages/sklearn/model_selection/_split.py:737: UserWarning: The least populated class in y has only 2 members, which is less than n_splits=5.\n",
      "  warnings.warn(\n"
     ]
    },
    {
     "name": "stdout",
     "output_type": "stream",
     "text": [
      "| \u001b[39m95       \u001b[39m | \u001b[39m-0.4542  \u001b[39m | \u001b[39m3.882    \u001b[39m | \u001b[39m18.94    \u001b[39m | \u001b[39m11.62    \u001b[39m |\n"
     ]
    },
    {
     "name": "stderr",
     "output_type": "stream",
     "text": [
      "/opt/anaconda3/lib/python3.12/site-packages/sklearn/model_selection/_split.py:737: UserWarning: The least populated class in y has only 2 members, which is less than n_splits=5.\n",
      "  warnings.warn(\n"
     ]
    },
    {
     "name": "stdout",
     "output_type": "stream",
     "text": [
      "| \u001b[39m96       \u001b[39m | \u001b[39m-0.2667  \u001b[39m | \u001b[39m10.2     \u001b[39m | \u001b[39m8.894    \u001b[39m | \u001b[39m16.05    \u001b[39m |\n"
     ]
    },
    {
     "name": "stderr",
     "output_type": "stream",
     "text": [
      "/opt/anaconda3/lib/python3.12/site-packages/sklearn/model_selection/_split.py:737: UserWarning: The least populated class in y has only 2 members, which is less than n_splits=5.\n",
      "  warnings.warn(\n"
     ]
    },
    {
     "name": "stdout",
     "output_type": "stream",
     "text": [
      "| \u001b[39m97       \u001b[39m | \u001b[39m-0.4792  \u001b[39m | \u001b[39m17.93    \u001b[39m | \u001b[39m16.57    \u001b[39m | \u001b[39m8.619    \u001b[39m |\n"
     ]
    },
    {
     "name": "stderr",
     "output_type": "stream",
     "text": [
      "/opt/anaconda3/lib/python3.12/site-packages/sklearn/model_selection/_split.py:737: UserWarning: The least populated class in y has only 2 members, which is less than n_splits=5.\n",
      "  warnings.warn(\n"
     ]
    },
    {
     "name": "stdout",
     "output_type": "stream",
     "text": [
      "| \u001b[39m98       \u001b[39m | \u001b[39m-0.4333  \u001b[39m | \u001b[39m6.289    \u001b[39m | \u001b[39m15.84    \u001b[39m | \u001b[39m11.15    \u001b[39m |\n"
     ]
    },
    {
     "name": "stderr",
     "output_type": "stream",
     "text": [
      "/opt/anaconda3/lib/python3.12/site-packages/sklearn/model_selection/_split.py:737: UserWarning: The least populated class in y has only 2 members, which is less than n_splits=5.\n",
      "  warnings.warn(\n"
     ]
    },
    {
     "name": "stdout",
     "output_type": "stream",
     "text": [
      "| \u001b[39m99       \u001b[39m | \u001b[39m-0.4625  \u001b[39m | \u001b[39m13.14    \u001b[39m | \u001b[39m2.884    \u001b[39m | \u001b[39m4.583    \u001b[39m |\n"
     ]
    },
    {
     "name": "stderr",
     "output_type": "stream",
     "text": [
      "/opt/anaconda3/lib/python3.12/site-packages/sklearn/model_selection/_split.py:737: UserWarning: The least populated class in y has only 2 members, which is less than n_splits=5.\n",
      "  warnings.warn(\n"
     ]
    },
    {
     "name": "stdout",
     "output_type": "stream",
     "text": [
      "| \u001b[39m100      \u001b[39m | \u001b[39m-0.4708  \u001b[39m | \u001b[39m13.58    \u001b[39m | \u001b[39m17.38    \u001b[39m | \u001b[39m11.81    \u001b[39m |\n"
     ]
    },
    {
     "name": "stderr",
     "output_type": "stream",
     "text": [
      "/opt/anaconda3/lib/python3.12/site-packages/sklearn/model_selection/_split.py:737: UserWarning: The least populated class in y has only 2 members, which is less than n_splits=5.\n",
      "  warnings.warn(\n"
     ]
    },
    {
     "name": "stdout",
     "output_type": "stream",
     "text": [
      "| \u001b[39m101      \u001b[39m | \u001b[39m-0.3667  \u001b[39m | \u001b[39m16.5     \u001b[39m | \u001b[39m9.156    \u001b[39m | \u001b[39m17.81    \u001b[39m |\n"
     ]
    },
    {
     "name": "stderr",
     "output_type": "stream",
     "text": [
      "/opt/anaconda3/lib/python3.12/site-packages/sklearn/model_selection/_split.py:737: UserWarning: The least populated class in y has only 2 members, which is less than n_splits=5.\n",
      "  warnings.warn(\n"
     ]
    },
    {
     "name": "stdout",
     "output_type": "stream",
     "text": [
      "| \u001b[39m102      \u001b[39m | \u001b[39m-0.5292  \u001b[39m | \u001b[39m8.573    \u001b[39m | \u001b[39m13.46    \u001b[39m | \u001b[39m7.115    \u001b[39m |\n"
     ]
    },
    {
     "name": "stderr",
     "output_type": "stream",
     "text": [
      "/opt/anaconda3/lib/python3.12/site-packages/sklearn/model_selection/_split.py:737: UserWarning: The least populated class in y has only 2 members, which is less than n_splits=5.\n",
      "  warnings.warn(\n"
     ]
    },
    {
     "name": "stdout",
     "output_type": "stream",
     "text": [
      "| \u001b[39m103      \u001b[39m | \u001b[39m-0.325   \u001b[39m | \u001b[39m2.192    \u001b[39m | \u001b[39m17.48    \u001b[39m | \u001b[39m7.753    \u001b[39m |\n"
     ]
    },
    {
     "name": "stderr",
     "output_type": "stream",
     "text": [
      "/opt/anaconda3/lib/python3.12/site-packages/sklearn/model_selection/_split.py:737: UserWarning: The least populated class in y has only 2 members, which is less than n_splits=5.\n",
      "  warnings.warn(\n"
     ]
    },
    {
     "name": "stdout",
     "output_type": "stream",
     "text": [
      "| \u001b[39m104      \u001b[39m | \u001b[39m-0.375   \u001b[39m | \u001b[39m8.719    \u001b[39m | \u001b[39m10.94    \u001b[39m | \u001b[39m19.13    \u001b[39m |\n"
     ]
    },
    {
     "name": "stderr",
     "output_type": "stream",
     "text": [
      "/opt/anaconda3/lib/python3.12/site-packages/sklearn/model_selection/_split.py:737: UserWarning: The least populated class in y has only 2 members, which is less than n_splits=5.\n",
      "  warnings.warn(\n"
     ]
    },
    {
     "name": "stdout",
     "output_type": "stream",
     "text": [
      "| \u001b[39m105      \u001b[39m | \u001b[39m-0.4125  \u001b[39m | \u001b[39m16.92    \u001b[39m | \u001b[39m7.155    \u001b[39m | \u001b[39m13.0     \u001b[39m |\n",
      "| \u001b[39m106      \u001b[39m | \u001b[39m-0.4333  \u001b[39m | \u001b[39m6.604    \u001b[39m | \u001b[39m1.162    \u001b[39m | \u001b[39m4.804    \u001b[39m |\n",
      "=============================================================\n",
      "Best Parameters (Bayesian Optimization): {'max_depth': 11, 'min_samples_leaf': 8, 'min_samples_split': 14}\n",
      "Best Score (Bayesian Optimization): -0.26666666666666666\n"
     ]
    },
    {
     "name": "stderr",
     "output_type": "stream",
     "text": [
      "/opt/anaconda3/lib/python3.12/site-packages/sklearn/model_selection/_split.py:737: UserWarning: The least populated class in y has only 2 members, which is less than n_splits=5.\n",
      "  warnings.warn(\n"
     ]
    }
   ],
   "source": [
    "from sklearn.tree import DecisionTreeClassifier\n",
    "from sklearn.model_selection import train_test_split, GridSearchCV\n",
    "from sklearn.metrics import mean_squared_error\n",
    "from bayes_opt import BayesianOptimization\n",
    "from sklearn.model_selection import cross_val_score\n",
    "from sklearn.model_selection import train_test_split\n",
    "\n",
    "#Define the function to optimize using cross-validation\n",
    "def dtree_cv(max_depth, min_samples_split, min_samples_leaf):\n",
    "    #Define the model with the parameters to be optimized\n",
    "    estimator = DecisionTreeClassifier(\n",
    "        max_depth=int(max_depth),\n",
    "        min_samples_split=int(min_samples_split),\n",
    "        min_samples_leaf=int(min_samples_leaf),\n",
    "        random_state=2\n",
    "    )\n",
    "    cval = cross_val_score(estimator, X_train, y_train, scoring='neg_mean_squared_error', cv=5)\n",
    "    return cval.mean() #The optimizer tries to maximize the function, so we negate the score to minimize it\n",
    "\n",
    "#Define the parameter bounds\n",
    "param_bounds = {\n",
    "    'max_depth': (1, 20),\n",
    "    'min_samples_split': (2, 20),\n",
    "    'min_samples_leaf': (1, 20)\n",
    "}\n",
    "\n",
    "optimizer = BayesianOptimization(\n",
    "    f=dtree_cv,\n",
    "    pbounds=param_bounds,\n",
    "    random_state=1,\n",
    ")\n",
    "\n",
    "optimizer.maximize(n_iter=100, init_points=6) #Bayesian optimization\n",
    "best_params_bayes = optimizer.max['params']\n",
    "best_params_bayes['max_depth'] = int(best_params_bayes['max_depth'])\n",
    "best_params_bayes['min_samples_split'] = int(best_params_bayes['min_samples_split'])\n",
    "best_params_bayes['min_samples_leaf'] = int(best_params_bayes['min_samples_leaf'])\n",
    "best_score_bayes = optimizer.max['target']\n",
    "\n",
    "print(f\"Best Parameters (Bayesian Optimization): {best_params_bayes}\")\n",
    "print(f\"Best Score (Bayesian Optimization): {best_score_bayes}\")"
   ]
  },
  {
   "cell_type": "markdown",
   "id": "84dad60b-92c1-4838-a66c-03bb44f86994",
   "metadata": {},
   "source": [
    "## Training and Testing ##"
   ]
  },
  {
   "cell_type": "code",
   "execution_count": 351,
   "id": "9e8102b5-4782-4a22-bca8-af06458d947a",
   "metadata": {},
   "outputs": [
    {
     "name": "stdout",
     "output_type": "stream",
     "text": [
      "Accuracy: 0.875\n"
     ]
    }
   ],
   "source": [
    "from sklearn.ensemble import RandomForestClassifier\n",
    "from sklearn.metrics import accuracy_score\n",
    "import joblib\n",
    "\n",
    "model1 = RandomForestClassifier(max_depth = 19, min_samples_leaf = 3, min_samples_split = 19).fit(X_train, y_train)\n",
    "#model1 = RandomForestClassifier(n_estimators = 100, random_state=42).fit(X_train, y_train)\n",
    "\n",
    "predictions = model1.predict(X_test)\n",
    "score = accuracy_score(y_test, predictions)\n",
    "print(f\"Accuracy: {score}\")\n",
    "\n",
    "#Save Model\n",
    "if score >= 0.8:\n",
    "    joblib.dump(model1, \".joblib\")\n",
    "    model = joblib.load(\".joblib\")"
   ]
  },
  {
   "cell_type": "code",
   "execution_count": 389,
   "id": "67b0a476-3a93-44cd-b9c7-bb55b739a223",
   "metadata": {},
   "outputs": [
    {
     "name": "stdout",
     "output_type": "stream",
     "text": [
      "Accuracy: 0.8942307692307693\n"
     ]
    }
   ],
   "source": [
    "from sklearn.tree import DecisionTreeClassifier\n",
    "import joblib\n",
    "\n",
    "model2 = DecisionTreeClassifier(max_depth = 11, min_samples_leaf = 8, min_samples_split = 14).fit(X_train, y_train)\n",
    "\n",
    "predictions = model2.predict(X_test)\n",
    "score = accuracy_score(y_test, predictions)\n",
    "print(f\"Accuracy: {score}\")\n",
    "\n",
    "#Save Model\n",
    "if score >= 0.8:\n",
    "    joblib.dump(model2, \"LaLiga.joblib\")\n",
    "    model = joblib.load(\"LaLiga.joblib\")"
   ]
  },
  {
   "cell_type": "code",
   "execution_count": 383,
   "id": "f8e2f937-7daa-4ef6-989f-57940b00b86e",
   "metadata": {},
   "outputs": [
    {
     "name": "stdout",
     "output_type": "stream",
     "text": [
      "Accuracy: 0.8758620773202539\n"
     ]
    }
   ],
   "source": [
    "from sklearn.linear_model import LinearRegression\n",
    "from sklearn.model_selection import GridSearchCV\n",
    "import numpy as np\n",
    "import joblib\n",
    "\n",
    "linreg = LinearRegression()\n",
    "\n",
    "param_space = {'copy_X': [True,False], 'fit_intercept': [True,False], \n",
    "               'n_jobs': [1,5,10,15,None], 'positive': [True,False]}\n",
    "\n",
    "model4 = GridSearchCV(linreg, param_space, cv=10).fit(X_train, y_train)\n",
    "\n",
    "predictions = np.array(model4.predict(X_test))\n",
    "score = model4.score(X_test, y_test)\n",
    "print(f\"Accuracy: {score}\")\n",
    "\n",
    "#Save Model\n",
    "if score >= 0.8:\n",
    "    joblib.dump(model4, \".joblib\")\n",
    "    model = joblib.load(\".joblib\")"
   ]
  },
  {
   "cell_type": "code",
   "execution_count": 265,
   "id": "0ac6c986-9952-46c7-b79c-e68f031330df",
   "metadata": {},
   "outputs": [
    {
     "name": "stdout",
     "output_type": "stream",
     "text": [
      "Accuracy: 0.7019230769230769\n"
     ]
    }
   ],
   "source": [
    "from sklearn import svm\n",
    "import joblib\n",
    "\n",
    "model5 = svm.SVC().fit(X_train, y_train)\n",
    "\n",
    "predictions = model5.predict(X_test)\n",
    "score = accuracy_score(y_test, predictions)\n",
    "print(f\"Accuracy: {score}\")\n",
    "\n",
    "#Save Model\n",
    "if score >= 0.8:\n",
    "    joblib.dump(model5, \".joblib\")\n",
    "    model = joblib.load(\".joblib\")"
   ]
  },
  {
   "cell_type": "markdown",
   "id": "08251a2f-f1da-4457-8e81-2604a9849899",
   "metadata": {},
   "source": [
    "## Predicted vs Actual ##"
   ]
  },
  {
   "cell_type": "code",
   "execution_count": 391,
   "id": "28696e98-ea62-425b-ae3e-6fd034151950",
   "metadata": {},
   "outputs": [],
   "source": [
    "y_predicted = model.predict(X_test)"
   ]
  },
  {
   "cell_type": "code",
   "execution_count": 393,
   "id": "6457bb8a-28b3-40fd-bf13-fa505df29a26",
   "metadata": {},
   "outputs": [
    {
     "data": {
      "text/plain": [
       "array([[70,  1,  0,  0],\n",
       "       [ 0, 19,  1,  0],\n",
       "       [ 0,  6,  4,  0],\n",
       "       [ 0,  1,  2,  0]])"
      ]
     },
     "execution_count": 393,
     "metadata": {},
     "output_type": "execute_result"
    }
   ],
   "source": [
    "from sklearn.metrics import confusion_matrix\n",
    "cm = confusion_matrix(y_test, y_predicted)\n",
    "cm"
   ]
  },
  {
   "cell_type": "code",
   "execution_count": 395,
   "id": "5706121b-1d69-4e32-9719-28ed1eef19aa",
   "metadata": {},
   "outputs": [
    {
     "data": {
      "text/plain": [
       "Text(95.72222222222221, 0.5, 'Actual')"
      ]
     },
     "execution_count": 395,
     "metadata": {},
     "output_type": "execute_result"
    },
    {
     "data": {
      "image/png": "[encoded data removed]",
      "text/plain": [
       "<Figure size 1000x700 with 2 Axes>"
      ]
     },
     "metadata": {},
     "output_type": "display_data"
    }
   ],
   "source": [
    "%matplotlib inline\n",
    "import matplotlib.pyplot as plt\n",
    "import seaborn as sn\n",
    "\n",
    "plt.figure(figsize=(10, 7))\n",
    "sn.heatmap(cm, annot=True)\n",
    "plt.xlabel(\"Predicted\")\n",
    "plt.ylabel(\"Actual\")"
   ]
  },
  {
   "cell_type": "code",
   "execution_count": null,
   "id": "60d3f45b-fcd8-4d9a-bab7-492a9076ce49",
   "metadata": {},
   "outputs": [],
   "source": []
  }
 ],
 "metadata": {
  "kernelspec": {
   "display_name": "Python [conda env:base] *",
   "language": "python",
   "name": "conda-base-py"
  },
  "language_info": {
   "codemirror_mode": {
    "name": "ipython",
    "version": 3
   },
   "file_extension": ".py",
   "mimetype": "text/x-python",
   "name": "python",
   "nbconvert_exporter": "python",
   "pygments_lexer": "ipython3",
   "version": "3.12.4"
  }
 },
 "nbformat": 4,
 "nbformat_minor": 5
}
