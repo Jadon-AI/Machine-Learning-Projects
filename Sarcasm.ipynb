{
 "cells": [
  {
   "cell_type": "markdown",
   "id": "81eaf830-5487-43d4-8c25-55993ca06835",
   "metadata": {},
   "source": [
    "## Import Data ##"
   ]
  },
  {
   "cell_type": "code",
   "execution_count": 44,
   "id": "75cff8c8-18f5-4c5e-a60c-d63c7c753340",
   "metadata": {},
   "outputs": [
    {
     "name": "stdout",
     "output_type": "stream",
     "text": [
      "mps\n"
     ]
    }
   ],
   "source": [
    "import torch\n",
    "import torch.nn as nn\n",
    "from torch.optim import Adam\n",
    "from torch.utils.data import Dataset, DataLoader\n",
    "from transformers import AutoTokenizer, AutoModelForMaskedLM, AutoModel\n",
    "from torchinfo import summary\n",
    "from sklearn.model_selection import train_test_split\n",
    "from sklearn.metrics import accuracy_score\n",
    "import matplotlib.pyplot as plt\n",
    "import pandas as pd\n",
    "import numpy as np\n",
    "from scipy.stats import *\n",
    "import warnings\n",
    "import os\n",
    "\n",
    "warnings.filterwarnings(\"ignore\", category=DeprecationWarning)\n",
    "\n",
    "device = \"mps\" if torch.mps.is_available() else \"cpu\"\n",
    "print(device)"
   ]
  },
  {
   "cell_type": "code",
   "execution_count": 22,
   "id": "e35dee31-a74f-4bb0-953d-f222dc67277d",
   "metadata": {},
   "outputs": [
    {
     "name": "stdout",
     "output_type": "stream",
     "text": [
      "(26709, 3)\n"
     ]
    },
    {
     "data": {
      "text/html": [
       "<div>\n",
       "<style scoped>\n",
       "    .dataframe tbody tr th:only-of-type {\n",
       "        vertical-align: middle;\n",
       "    }\n",
       "\n",
       "    .dataframe tbody tr th {\n",
       "        vertical-align: top;\n",
       "    }\n",
       "\n",
       "    .dataframe thead th {\n",
       "        text-align: right;\n",
       "    }\n",
       "</style>\n",
       "<table border=\"1\" class=\"dataframe\">\n",
       "  <thead>\n",
       "    <tr style=\"text-align: right;\">\n",
       "      <th></th>\n",
       "      <th>headline</th>\n",
       "      <th>is_sarcastic</th>\n",
       "    </tr>\n",
       "  </thead>\n",
       "  <tbody>\n",
       "    <tr>\n",
       "      <th>0</th>\n",
       "      <td>former versace store clerk sues over secret 'b...</td>\n",
       "      <td>0</td>\n",
       "    </tr>\n",
       "    <tr>\n",
       "      <th>1</th>\n",
       "      <td>the 'roseanne' revival catches up to our thorn...</td>\n",
       "      <td>0</td>\n",
       "    </tr>\n",
       "    <tr>\n",
       "      <th>2</th>\n",
       "      <td>mom starting to fear son's web series closest ...</td>\n",
       "      <td>1</td>\n",
       "    </tr>\n",
       "    <tr>\n",
       "      <th>3</th>\n",
       "      <td>boehner just wants wife to listen, not come up...</td>\n",
       "      <td>1</td>\n",
       "    </tr>\n",
       "    <tr>\n",
       "      <th>4</th>\n",
       "      <td>j.k. rowling wishes snape happy birthday in th...</td>\n",
       "      <td>0</td>\n",
       "    </tr>\n",
       "    <tr>\n",
       "      <th>...</th>\n",
       "      <td>...</td>\n",
       "      <td>...</td>\n",
       "    </tr>\n",
       "    <tr>\n",
       "      <th>26704</th>\n",
       "      <td>american politics in moral free-fall</td>\n",
       "      <td>0</td>\n",
       "    </tr>\n",
       "    <tr>\n",
       "      <th>26705</th>\n",
       "      <td>america's best 20 hikes</td>\n",
       "      <td>0</td>\n",
       "    </tr>\n",
       "    <tr>\n",
       "      <th>26706</th>\n",
       "      <td>reparations and obama</td>\n",
       "      <td>0</td>\n",
       "    </tr>\n",
       "    <tr>\n",
       "      <th>26707</th>\n",
       "      <td>israeli ban targeting boycott supporters raise...</td>\n",
       "      <td>0</td>\n",
       "    </tr>\n",
       "    <tr>\n",
       "      <th>26708</th>\n",
       "      <td>gourmet gifts for the foodie 2014</td>\n",
       "      <td>0</td>\n",
       "    </tr>\n",
       "  </tbody>\n",
       "</table>\n",
       "<p>26708 rows × 2 columns</p>\n",
       "</div>"
      ],
      "text/plain": [
       "                                                headline  is_sarcastic\n",
       "0      former versace store clerk sues over secret 'b...             0\n",
       "1      the 'roseanne' revival catches up to our thorn...             0\n",
       "2      mom starting to fear son's web series closest ...             1\n",
       "3      boehner just wants wife to listen, not come up...             1\n",
       "4      j.k. rowling wishes snape happy birthday in th...             0\n",
       "...                                                  ...           ...\n",
       "26704               american politics in moral free-fall             0\n",
       "26705                            america's best 20 hikes             0\n",
       "26706                              reparations and obama             0\n",
       "26707  israeli ban targeting boycott supporters raise...             0\n",
       "26708                  gourmet gifts for the foodie 2014             0\n",
       "\n",
       "[26708 rows x 2 columns]"
      ]
     },
     "execution_count": 22,
     "metadata": {},
     "output_type": "execute_result"
    }
   ],
   "source": [
    "df = pd.read_json(\"Sarcasm_Headlines_Dataset.json\", lines = True)\n",
    "print(df.shape)\n",
    "df.dropna(inplace = True)\n",
    "df.drop_duplicates(inplace = True)\n",
    "df.drop(columns=[\"article_link\"], inplace=True, axis=1)\n",
    "df"
   ]
  },
  {
   "cell_type": "markdown",
   "id": "84dad60b-92c1-4838-a66c-03bb44f86994",
   "metadata": {},
   "source": [
    "## Training Model ##"
   ]
  },
  {
   "cell_type": "code",
   "execution_count": 26,
   "id": "bfc9878c-c734-42c3-88de-6ea5759335b1",
   "metadata": {},
   "outputs": [],
   "source": [
    "X = np.array(df[\"headline\"])\n",
    "y = np.array(df[\"is_sarcastic\"])"
   ]
  },
  {
   "cell_type": "code",
   "execution_count": 28,
   "id": "16bbb3eb-56af-4cc5-925e-34ecbd9b8b7e",
   "metadata": {},
   "outputs": [],
   "source": [
    "X_train, X_test, y_train, y_test = train_test_split(X, y, test_size = 0.3)"
   ]
  },
  {
   "cell_type": "code",
   "execution_count": 30,
   "id": "26c3e2a2-c9e1-4f9d-9f4a-393879a75583",
   "metadata": {},
   "outputs": [],
   "source": [
    "X_test, X_val, y_test, y_val = train_test_split(X_test, y_test, test_size = 0.5)"
   ]
  },
  {
   "cell_type": "code",
   "execution_count": 32,
   "id": "b42adabc-38a9-489f-90d5-ac1ab8e4ac85",
   "metadata": {},
   "outputs": [
    {
     "name": "stdout",
     "output_type": "stream",
     "text": [
      "(18695,)\n",
      "(4007,)\n",
      "(4006,)\n"
     ]
    }
   ],
   "source": [
    "print(X_train.shape)\n",
    "print(X_val.shape)\n",
    "print(X_test.shape)"
   ]
  },
  {
   "cell_type": "code",
   "execution_count": 46,
   "id": "dfc5fe6f-9b38-4b30-beb3-0bcebfab89d7",
   "metadata": {},
   "outputs": [],
   "source": [
    "tokenizer = AutoTokenizer.from_pretrained(\"google-bert/bert-base-uncased\")\n",
    "bert_model = AutoModel.from_pretrained(\"google-bert/bert-base-uncased\")"
   ]
  },
  {
   "cell_type": "code",
   "execution_count": 48,
   "id": "eb3958f2-dd97-45be-b948-b72ef9ab15d9",
   "metadata": {},
   "outputs": [],
   "source": [
    "class dataset(Dataset):\n",
    "    def __init__(self, X, y):\n",
    "        self.X = [tokenizer(x,\n",
    "                           max_length = 100,\n",
    "                           truncation = True,\n",
    "                           padding = \"max_length\",\n",
    "                           return_tensors = \"pt\").to(device)\n",
    "                           for x in X\n",
    "                 ]\n",
    "        self.y = torch.tensor(y, dtype = torch.float32).to(device)\n",
    "\n",
    "    def __len__(self):\n",
    "        return len(self.X)\n",
    "\n",
    "    def __getitem__(self, index):\n",
    "        return self.X[index], self.y[index]"
   ]
  },
  {
   "cell_type": "code",
   "execution_count": 50,
   "id": "5b9eac84-89e2-4432-9a99-aa45cccde13f",
   "metadata": {},
   "outputs": [],
   "source": [
    "training_data = dataset(X_train, y_train)\n",
    "validation_data = dataset(X_val, y_val)\n",
    "testing_data = dataset(X_test, y_test)"
   ]
  },
  {
   "cell_type": "code",
   "execution_count": 71,
   "id": "376d9574-216f-4eea-867f-86b5719f8157",
   "metadata": {},
   "outputs": [],
   "source": [
    "BATCH_SIZE = 32\n",
    "EPOCHS = 10\n",
    "LR = 1e-4"
   ]
  },
  {
   "cell_type": "code",
   "execution_count": 54,
   "id": "9e8102b5-4782-4a22-bca8-af06458d947a",
   "metadata": {},
   "outputs": [],
   "source": [
    "train_dataloader = DataLoader(training_data, batch_size = BATCH_SIZE, shuffle = True)\n",
    "validation_dataloader = DataLoader(validation_data, batch_size = BATCH_SIZE, shuffle = True)\n",
    "testing_dataloader = DataLoader(testing_data, batch_size = BATCH_SIZE, shuffle = True)"
   ]
  },
  {
   "cell_type": "code",
   "execution_count": 58,
   "id": "67b0a476-3a93-44cd-b9c7-bb55b739a223",
   "metadata": {},
   "outputs": [],
   "source": [
    "class MyModel(nn.Module):\n",
    "    def __init__(self, bert):\n",
    "        super(MyModel, self).__init__()\n",
    "        \n",
    "        self.bert = bert\n",
    "        self.dropout = nn.Dropout(0.25)\n",
    "        self.linear1 = nn.Linear(768, 384)\n",
    "        self.linear2 = nn.Linear(384, 1)\n",
    "        self.sigmoid = nn.Sigmoid()\n",
    "        \n",
    "    def forward(self, input_ids, attention_mask):\n",
    "        #Forward Propagation\n",
    "        pooled_output = self.bert(input_ids, attention_mask, return_dict = False)[0][:,0]\n",
    "        output = self.linear1(pooled_output)\n",
    "        output = self.dropout(output)\n",
    "        output = self.linear2(output)\n",
    "        output = self.sigmoid(output)\n",
    "        \n",
    "        return output"
   ]
  },
  {
   "cell_type": "code",
   "execution_count": 60,
   "id": "695b1772-ccfa-428e-9436-01a4332caafa",
   "metadata": {},
   "outputs": [],
   "source": [
    "for param in bert_model.parameters():\n",
    "    param.requires_grad = False\n",
    "model = MyModel(bert_model).to(device)"
   ]
  },
  {
   "cell_type": "code",
   "execution_count": 65,
   "id": "0ac6c986-9952-46c7-b79c-e68f031330df",
   "metadata": {},
   "outputs": [
    {
     "data": {
      "text/plain": [
       "MyModel(\n",
       "  (bert): BertModel(\n",
       "    (embeddings): BertEmbeddings(\n",
       "      (word_embeddings): Embedding(30522, 768, padding_idx=0)\n",
       "      (position_embeddings): Embedding(512, 768)\n",
       "      (token_type_embeddings): Embedding(2, 768)\n",
       "      (LayerNorm): LayerNorm((768,), eps=1e-12, elementwise_affine=True)\n",
       "      (dropout): Dropout(p=0.1, inplace=False)\n",
       "    )\n",
       "    (encoder): BertEncoder(\n",
       "      (layer): ModuleList(\n",
       "        (0-11): 12 x BertLayer(\n",
       "          (attention): BertAttention(\n",
       "            (self): BertSdpaSelfAttention(\n",
       "              (query): Linear(in_features=768, out_features=768, bias=True)\n",
       "              (key): Linear(in_features=768, out_features=768, bias=True)\n",
       "              (value): Linear(in_features=768, out_features=768, bias=True)\n",
       "              (dropout): Dropout(p=0.1, inplace=False)\n",
       "            )\n",
       "            (output): BertSelfOutput(\n",
       "              (dense): Linear(in_features=768, out_features=768, bias=True)\n",
       "              (LayerNorm): LayerNorm((768,), eps=1e-12, elementwise_affine=True)\n",
       "              (dropout): Dropout(p=0.1, inplace=False)\n",
       "            )\n",
       "          )\n",
       "          (intermediate): BertIntermediate(\n",
       "            (dense): Linear(in_features=768, out_features=3072, bias=True)\n",
       "            (intermediate_act_fn): GELUActivation()\n",
       "          )\n",
       "          (output): BertOutput(\n",
       "            (dense): Linear(in_features=3072, out_features=768, bias=True)\n",
       "            (LayerNorm): LayerNorm((768,), eps=1e-12, elementwise_affine=True)\n",
       "            (dropout): Dropout(p=0.1, inplace=False)\n",
       "          )\n",
       "        )\n",
       "      )\n",
       "    )\n",
       "    (pooler): BertPooler(\n",
       "      (dense): Linear(in_features=768, out_features=768, bias=True)\n",
       "      (activation): Tanh()\n",
       "    )\n",
       "  )\n",
       "  (dropout): Dropout(p=0.25, inplace=False)\n",
       "  (linear1): Linear(in_features=768, out_features=384, bias=True)\n",
       "  (linear2): Linear(in_features=384, out_features=1, bias=True)\n",
       "  (sigmoid): Sigmoid()\n",
       ")"
      ]
     },
     "execution_count": 65,
     "metadata": {},
     "output_type": "execute_result"
    }
   ],
   "source": [
    "model"
   ]
  },
  {
   "cell_type": "code",
   "execution_count": 67,
   "id": "a7bfafbc-3fda-443f-9dff-e63478538b5c",
   "metadata": {},
   "outputs": [],
   "source": [
    "criterion = nn.BCELoss()\n",
    "optimizer = Adam(model.parameters(), lr = LR)"
   ]
  },
  {
   "cell_type": "code",
   "execution_count": 73,
   "id": "9dcec75d-fc08-4f7b-af2c-33089110600e",
   "metadata": {},
   "outputs": [
    {
     "name": "stdout",
     "output_type": "stream",
     "text": [
      "Epoch no. 1 \n",
      "    Training Loss: 0.214 \n",
      "    Training Accuracy: 84.3327 \n",
      "    Validation Loss: 0.0455 \n",
      "    Validation Accuracy: 84.6019\n",
      "==================================================\n",
      "Epoch no. 2 \n",
      "    Training Loss: 0.1995 \n",
      "    Training Accuracy: 85.1886 \n",
      "    Validation Loss: 0.0441 \n",
      "    Validation Accuracy: 84.3524\n",
      "==================================================\n",
      "Epoch no. 3 \n",
      "    Training Loss: 0.1913 \n",
      "    Training Accuracy: 85.7983 \n",
      "    Validation Loss: 0.0448 \n",
      "    Validation Accuracy: 84.1527\n",
      "==================================================\n",
      "Epoch no. 4 \n",
      "    Training Loss: 0.1878 \n",
      "    Training Accuracy: 86.007 \n",
      "    Validation Loss: 0.0425 \n",
      "    Validation Accuracy: 85.6002\n",
      "==================================================\n",
      "Epoch no. 5 \n",
      "    Training Loss: 0.1839 \n",
      "    Training Accuracy: 86.2691 \n",
      "    Validation Loss: 0.0426 \n",
      "    Validation Accuracy: 85.2009\n",
      "==================================================\n",
      "Epoch no. 6 \n",
      "    Training Loss: 0.1823 \n",
      "    Training Accuracy: 86.6328 \n",
      "    Validation Loss: 0.0418 \n",
      "    Validation Accuracy: 85.8747\n",
      "==================================================\n",
      "Epoch no. 7 \n",
      "    Training Loss: 0.18 \n",
      "    Training Accuracy: 86.8147 \n",
      "    Validation Loss: 0.0416 \n",
      "    Validation Accuracy: 86.1742\n",
      "==================================================\n",
      "Epoch no. 8 \n",
      "    Training Loss: 0.1779 \n",
      "    Training Accuracy: 87.0072 \n",
      "    Validation Loss: 0.0438 \n",
      "    Validation Accuracy: 84.9014\n",
      "==================================================\n",
      "Epoch no. 9 \n",
      "    Training Loss: 0.1782 \n",
      "    Training Accuracy: 86.8788 \n",
      "    Validation Loss: 0.0453 \n",
      "    Validation Accuracy: 84.4522\n",
      "==================================================\n",
      "Epoch no. 10 \n",
      "    Training Loss: 0.1763 \n",
      "    Training Accuracy: 87.05 \n",
      "    Validation Loss: 0.0418 \n",
      "    Validation Accuracy: 85.8747\n",
      "==================================================\n"
     ]
    }
   ],
   "source": [
    "total_loss_train_plot = []\n",
    "total_loss_validation_plot = []\n",
    "total_acc_train_plot = []\n",
    "total_acc_validation_plot = []\n",
    "\n",
    "for epoch in range(EPOCHS):\n",
    "    total_acc_train = 0\n",
    "    total_loss_train = 0\n",
    "    total_acc_val = 0\n",
    "    total_loss_val = 0\n",
    "\n",
    "    for index, data in enumerate(train_dataloader):\n",
    "        inputs, labels = data\n",
    "        inputs.to(device)\n",
    "        labels.to(device)\n",
    "\n",
    "        prediction = model(inputs[\"input_ids\"].squeeze(1), inputs[\"attention_mask\"].squeeze(1)).squeeze(1)\n",
    "        batch_loss = criterion(prediction, labels)\n",
    "        \n",
    "        total_loss_train += batch_loss.item()\n",
    "        acc = (prediction.round() == labels).sum().item()\n",
    "        total_acc_train += acc\n",
    "\n",
    "        #Back Propagation\n",
    "        batch_loss.backward()\n",
    "        optimizer.step()\n",
    "        optimizer.zero_grad()\n",
    "\n",
    "    with torch.no_grad():\n",
    "        for index, data in enumerate(validation_dataloader):\n",
    "            inputs, labels = data\n",
    "            inputs.to(device)\n",
    "            labels.to(device)\n",
    "\n",
    "            prediction = model(inputs[\"input_ids\"].squeeze(1), inputs[\"attention_mask\"].squeeze(1)).squeeze(1)\n",
    "            batch_loss = criterion(prediction, labels)\n",
    "        \n",
    "            total_loss_val += batch_loss.item()\n",
    "            acc = (prediction.round() == labels).sum().item()\n",
    "            total_acc_val += acc\n",
    "        \n",
    "    total_loss_train_plot.append(round(total_loss_train/1000, 4))\n",
    "    total_loss_validation_plot.append(round(total_loss_val/1000, 4))\n",
    "    \n",
    "    total_acc_train_plot.append(round(total_acc_train/training_data.__len__()*100, 4))\n",
    "    total_acc_validation_plot.append(round(total_acc_val/validation_data.__len__()*100, 4))\n",
    "\n",
    "    print(f'''Epoch no. {epoch+1} \n",
    "    Training Loss: {round(total_loss_train/1000, 4)} \n",
    "    Training Accuracy: {round(total_acc_train/training_data.__len__()*100, 4)} \n",
    "    Validation Loss: {round(total_loss_val/1000, 4)} \n",
    "    Validation Accuracy: {round(total_acc_val/validation_data.__len__()*100, 4)}''')\n",
    "\n",
    "    print(\"=\"*50)"
   ]
  },
  {
   "cell_type": "code",
   "execution_count": 89,
   "id": "6d859aa0-90e0-45d0-8f6a-93a695b39d6d",
   "metadata": {},
   "outputs": [
    {
     "name": "stdout",
     "output_type": "stream",
     "text": [
      "Accuracy Score: 86.6201 \n",
      "Loss: 3.47\n"
     ]
    }
   ],
   "source": [
    "with torch.no_grad():\n",
    "    total_loss_test = 0\n",
    "    total_acc_test = 0\n",
    "    for index, data in enumerate(testing_dataloader):\n",
    "        inputs, labels = data\n",
    "        inputs.to(device)\n",
    "        labels.to(device)\n",
    "        \n",
    "        prediction = model(inputs[\"input_ids\"].squeeze(1), inputs[\"attention_mask\"].squeeze(1)).squeeze(1)\n",
    "        batch_loss = criterion(prediction, labels)\n",
    "        total_loss_test += acc\n",
    "\n",
    "        acc = (prediction.round() == labels).sum().item()\n",
    "        total_acc_test += acc\n",
    "\n",
    "print(f'''Accuracy Score: {round((total_acc_test/testing_data.__len__())*100, 4)} \n",
    "Loss: {round(total_loss_test/1000, 4)}''')"
   ]
  },
  {
   "cell_type": "markdown",
   "id": "08251a2f-f1da-4457-8e81-2604a9849899",
   "metadata": {},
   "source": [
    "## Post-Training Analysis ##"
   ]
  },
  {
   "cell_type": "code",
   "execution_count": 99,
   "id": "28696e98-ea62-425b-ae3e-6fd034151950",
   "metadata": {},
   "outputs": [
    {
     "data": {
      "image/png": "[encoded data removed]",
      "text/plain": [
       "<Figure size 1500x500 with 2 Axes>"
      ]
     },
     "metadata": {},
     "output_type": "display_data"
    }
   ],
   "source": [
    "fig, axs = plt.subplots(nrows = 1, ncols = 2, figsize = (15,5))\n",
    "\n",
    "axs[0].plot(total_loss_train_plot, label = \"Training Loss\")\n",
    "axs[0].plot(total_loss_validation_plot, label = \"Validation Loss\")\n",
    "axs[0].set_title(\"Training and Validation loss over Epochs\")\n",
    "axs[0].set_xlabel(\"Epochs\")\n",
    "axs[0].set_ylabel(\"Loss\")\n",
    "axs[0].set_ylim([0,0.3])\n",
    "axs[0].legend()\n",
    "\n",
    "axs[1].plot(total_acc_train_plot, label = \"Training Loss\")\n",
    "axs[1].plot(total_acc_validation_plot, label = \"Validation Loss\")\n",
    "axs[1].set_title(\"Training and Validation loss over Epochs\")\n",
    "axs[1].set_xlabel(\"Epochs\")\n",
    "axs[1].set_ylabel(\"Accuracy\")\n",
    "axs[1].set_ylim([80,90])\n",
    "axs[1].legend()\n",
    "\n",
    "plt.show()"
   ]
  },
  {
   "cell_type": "code",
   "execution_count": 101,
   "id": "59f94f48-00f4-4bb2-a587-af02e57911ff",
   "metadata": {},
   "outputs": [],
   "source": [
    "torch.save(model.state_dict(), \"Sarcasm.pth\")"
   ]
  },
  {
   "cell_type": "code",
   "execution_count": 105,
   "id": "e7d215e3-97b9-440f-832a-b15c5588285d",
   "metadata": {},
   "outputs": [
    {
     "data": {
      "text/plain": [
       "MyModel(\n",
       "  (bert): BertModel(\n",
       "    (embeddings): BertEmbeddings(\n",
       "      (word_embeddings): Embedding(30522, 768, padding_idx=0)\n",
       "      (position_embeddings): Embedding(512, 768)\n",
       "      (token_type_embeddings): Embedding(2, 768)\n",
       "      (LayerNorm): LayerNorm((768,), eps=1e-12, elementwise_affine=True)\n",
       "      (dropout): Dropout(p=0.1, inplace=False)\n",
       "    )\n",
       "    (encoder): BertEncoder(\n",
       "      (layer): ModuleList(\n",
       "        (0-11): 12 x BertLayer(\n",
       "          (attention): BertAttention(\n",
       "            (self): BertSdpaSelfAttention(\n",
       "              (query): Linear(in_features=768, out_features=768, bias=True)\n",
       "              (key): Linear(in_features=768, out_features=768, bias=True)\n",
       "              (value): Linear(in_features=768, out_features=768, bias=True)\n",
       "              (dropout): Dropout(p=0.1, inplace=False)\n",
       "            )\n",
       "            (output): BertSelfOutput(\n",
       "              (dense): Linear(in_features=768, out_features=768, bias=True)\n",
       "              (LayerNorm): LayerNorm((768,), eps=1e-12, elementwise_affine=True)\n",
       "              (dropout): Dropout(p=0.1, inplace=False)\n",
       "            )\n",
       "          )\n",
       "          (intermediate): BertIntermediate(\n",
       "            (dense): Linear(in_features=768, out_features=3072, bias=True)\n",
       "            (intermediate_act_fn): GELUActivation()\n",
       "          )\n",
       "          (output): BertOutput(\n",
       "            (dense): Linear(in_features=3072, out_features=768, bias=True)\n",
       "            (LayerNorm): LayerNorm((768,), eps=1e-12, elementwise_affine=True)\n",
       "            (dropout): Dropout(p=0.1, inplace=False)\n",
       "          )\n",
       "        )\n",
       "      )\n",
       "    )\n",
       "    (pooler): BertPooler(\n",
       "      (dense): Linear(in_features=768, out_features=768, bias=True)\n",
       "      (activation): Tanh()\n",
       "    )\n",
       "  )\n",
       "  (dropout): Dropout(p=0.25, inplace=False)\n",
       "  (linear1): Linear(in_features=768, out_features=384, bias=True)\n",
       "  (linear2): Linear(in_features=384, out_features=1, bias=True)\n",
       "  (sigmoid): Sigmoid()\n",
       ")"
      ]
     },
     "execution_count": 105,
     "metadata": {},
     "output_type": "execute_result"
    }
   ],
   "source": [
    "loaded_model = MyModel(bert_model).to(device)\n",
    "loaded_model.load_state_dict(torch.load(\"Sarcasm.pth\"))\n",
    "loaded_model.eval()"
   ]
  },
  {
   "cell_type": "code",
   "execution_count": null,
   "id": "c9808695-219d-45d0-a354-2665bb84a3f9",
   "metadata": {},
   "outputs": [],
   "source": []
  }
 ],
 "metadata": {
  "kernelspec": {
   "display_name": "Python [conda env:base] *",
   "language": "python",
   "name": "conda-base-py"
  },
  "language_info": {
   "codemirror_mode": {
    "name": "ipython",
    "version": 3
   },
   "file_extension": ".py",
   "mimetype": "text/x-python",
   "name": "python",
   "nbconvert_exporter": "python",
   "pygments_lexer": "ipython3",
   "version": "3.12.4"
  }
 },
 "nbformat": 4,
 "nbformat_minor": 5
}
